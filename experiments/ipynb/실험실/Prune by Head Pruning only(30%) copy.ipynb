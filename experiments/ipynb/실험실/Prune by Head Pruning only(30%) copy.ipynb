{
  "cells": [
    {
      "cell_type": "code",
      "execution_count": 10,
      "id": "aaa468a1-e488-4f42-9b58-5135ff25828e",
      "metadata": {
        "execution": {
          "iopub.execute_input": "2024-09-12T20:21:36.423758Z",
          "iopub.status.busy": "2024-09-12T20:21:36.423407Z",
          "iopub.status.idle": "2024-09-12T20:21:36.432808Z",
          "shell.execute_reply": "2024-09-12T20:21:36.431754Z"
        },
        "papermill": {
          "duration": 0.018723,
          "end_time": "2024-09-12T20:21:36.435206",
          "exception": false,
          "start_time": "2024-09-12T20:21:36.416483",
          "status": "completed"
        },
        "tags": []
      },
      "outputs": [],
      "source": [
        "import os\n",
        "import sys\n",
        "\n",
        "sys.path.append(\"../../../\")\n",
        "os.environ[\"TOKENIZERS_PARALLELISM\"] = \"false\""
      ]
    },
    {
      "cell_type": "code",
      "execution_count": 11,
      "id": "5fe4568f-453b-47e0-82f3-65e8faa03217",
      "metadata": {
        "execution": {
          "iopub.execute_input": "2024-09-12T20:21:36.445084Z",
          "iopub.status.busy": "2024-09-12T20:21:36.444799Z",
          "iopub.status.idle": "2024-09-12T20:21:37.403454Z",
          "shell.execute_reply": "2024-09-12T20:21:37.403130Z"
        },
        "papermill": {
          "duration": 0.964523,
          "end_time": "2024-09-12T20:21:37.404413",
          "exception": false,
          "start_time": "2024-09-12T20:21:36.439890",
          "status": "completed"
        },
        "tags": []
      },
      "outputs": [],
      "source": [
        "import copy\n",
        "import torch\n",
        "from datetime import datetime\n",
        "from src.utils.helper import Config, color_print\n",
        "\n",
        "from src.utils.load import load_model, load_data, save_checkpoint\n",
        "from src.models.evaluate import evaluate_model, get_sparsity, get_similarity\n",
        "from src.utils.sampling import SamplingDataset\n",
        "from src.pruning.prune_head import head_importance_prunning"
      ]
    },
    {
      "cell_type": "code",
      "execution_count": 12,
      "id": "d9f37f07-5ec3-482f-b31b-b5d7c5fdeea1",
      "metadata": {
        "execution": {
          "iopub.execute_input": "2024-09-12T20:21:37.407412Z",
          "iopub.status.busy": "2024-09-12T20:21:37.407289Z",
          "iopub.status.idle": "2024-09-12T20:21:37.409171Z",
          "shell.execute_reply": "2024-09-12T20:21:37.408919Z"
        },
        "papermill": {
          "duration": 0.004022,
          "end_time": "2024-09-12T20:21:37.409748",
          "exception": false,
          "start_time": "2024-09-12T20:21:37.405726",
          "status": "completed"
        },
        "tags": []
      },
      "outputs": [],
      "source": [
        "name = \"bert-4-128-yahoo\"\n",
        "device = torch.device(\"cuda:0\")\n",
        "checkpoint = None\n",
        "batch_size = 16\n",
        "num_workers = 4\n",
        "num_samples = 128\n",
        "head_ratio = 0.1\n",
        "seed = 44"
      ]
    },
    {
      "cell_type": "code",
      "execution_count": 13,
      "id": "f220f1c9",
      "metadata": {
        "execution": {
          "iopub.execute_input": "2024-09-12T20:21:37.412520Z",
          "iopub.status.busy": "2024-09-12T20:21:37.412339Z",
          "iopub.status.idle": "2024-09-12T20:21:37.414011Z",
          "shell.execute_reply": "2024-09-12T20:21:37.413831Z"
        },
        "papermill": {
          "duration": 0.003636,
          "end_time": "2024-09-12T20:21:37.414473",
          "exception": false,
          "start_time": "2024-09-12T20:21:37.410837",
          "status": "completed"
        },
        "tags": []
      },
      "outputs": [
        {
          "name": "stdout",
          "output_type": "stream",
          "text": [
            "Script started at: 2024-10-12 17:54:11\n"
          ]
        }
      ],
      "source": [
        "script_start_time = datetime.now()\n",
        "print(f\"Script started at: {script_start_time.strftime('%Y-%m-%d %H:%M:%S')}\")"
      ]
    },
    {
      "cell_type": "code",
      "execution_count": 14,
      "id": "8b80878d",
      "metadata": {
        "execution": {
          "iopub.execute_input": "2024-09-12T20:21:37.417067Z",
          "iopub.status.busy": "2024-09-12T20:21:37.416997Z",
          "iopub.status.idle": "2024-09-12T20:21:38.144174Z",
          "shell.execute_reply": "2024-09-12T20:21:38.143877Z"
        },
        "papermill": {
          "duration": 0.729383,
          "end_time": "2024-09-12T20:21:38.144989",
          "exception": false,
          "start_time": "2024-09-12T20:21:37.415606",
          "status": "completed"
        },
        "tags": []
      },
      "outputs": [
        {
          "name": "stdout",
          "output_type": "stream",
          "text": [
            "Loading the model.\n",
            "{'architectures': 'bert',\n",
            " 'dataset_name': 'YahooAnswersTopics',\n",
            " 'model_name': 'models/bert-4-128-yahoo',\n",
            " 'num_labels': 10,\n",
            " 'tokenizer_name': 'fabriceyhc/bert-base-uncased-yahoo_answers_topics'}\n",
            "The model models/bert-4-128-yahoo is loaded.\n"
          ]
        }
      ],
      "source": [
        "config = Config(name, device)\n",
        "num_labels = config.config[\"num_labels\"]\n",
        "model = load_model(config)"
      ]
    },
    {
      "cell_type": "code",
      "execution_count": 15,
      "id": "4342410e-aea4-49cf-8fd0-bce28687c7bc",
      "metadata": {
        "execution": {
          "iopub.execute_input": "2024-09-12T20:21:38.148304Z",
          "iopub.status.busy": "2024-09-12T20:21:38.148151Z",
          "iopub.status.idle": "2024-09-12T20:21:47.885592Z",
          "shell.execute_reply": "2024-09-12T20:21:47.885370Z"
        },
        "papermill": {
          "duration": 9.739829,
          "end_time": "2024-09-12T20:21:47.886210",
          "exception": false,
          "start_time": "2024-09-12T20:21:38.146381",
          "status": "completed"
        },
        "tags": []
      },
      "outputs": [
        {
          "name": "stdout",
          "output_type": "stream",
          "text": [
            "Loading cached dataset YahooAnswersTopics.\n",
            "train.pkl is loaded from cache.\n",
            "valid.pkl is loaded from cache.\n",
            "test.pkl is loaded from cache.\n",
            "The dataset YahooAnswersTopics is loaded\n",
            "{'config_name': 'yahoo_answers_topics',\n",
            " 'features': {'first_column': 'question_title', 'second_column': 'topic'},\n",
            " 'path': 'yahoo_answers_topics'}\n"
          ]
        }
      ],
      "source": [
        "train_dataloader, valid_dataloader, test_dataloader = load_data(\n",
        "    config,\n",
        "    batch_size=batch_size,\n",
        "    num_workers=num_workers,\n",
        "    do_cache=True,\n",
        ")"
      ]
    },
    {
      "cell_type": "code",
      "execution_count": 16,
      "id": "b82b351e-0fac-4d94-a0ec-defb2a12961d",
      "metadata": {
        "execution": {
          "iopub.execute_input": "2024-09-12T20:21:47.889560Z",
          "iopub.status.busy": "2024-09-12T20:21:47.889444Z",
          "iopub.status.idle": "2024-09-12T20:21:50.313880Z",
          "shell.execute_reply": "2024-09-12T20:21:50.313650Z"
        },
        "papermill": {
          "duration": 2.426777,
          "end_time": "2024-09-12T20:21:50.314533",
          "exception": false,
          "start_time": "2024-09-12T20:21:47.887756",
          "status": "completed"
        },
        "tags": []
      },
      "outputs": [
        {
          "name": "stdout",
          "output_type": "stream",
          "text": [
            "Total heads to prune: 4\n",
            "{(0, 2), (0, 3), (2, 2), (3, 0)}\n"
          ]
        }
      ],
      "source": [
        "all_samples = SamplingDataset(\n",
        "    train_dataloader,\n",
        "    config,\n",
        "    200,\n",
        "    num_samples,\n",
        "    False,\n",
        "    4,\n",
        "    resample=False,\n",
        ")\n",
        "\n",
        "\n",
        "module = copy.deepcopy(model)\n",
        "head_importance_prunning(module, config, all_samples, 0.3)\n",
        "# save_checkpoint(module, \"Modules/\", f\"head_prune_{name}_{head_pruning_ratio}p.pt\")"
      ]
    },
    {
      "cell_type": "code",
      "execution_count": 17,
      "id": "026637fc-05a9-49f8-8651-cd805e3a8a40",
      "metadata": {
        "execution": {
          "iopub.execute_input": "2024-09-12T20:21:50.318255Z",
          "iopub.status.busy": "2024-09-12T20:21:50.318133Z",
          "iopub.status.idle": "2024-09-12T20:21:59.827016Z",
          "shell.execute_reply": "2024-09-12T20:21:59.826737Z"
        },
        "papermill": {
          "duration": 9.511483,
          "end_time": "2024-09-12T20:21:59.827651",
          "exception": false,
          "start_time": "2024-09-12T20:21:50.316168",
          "status": "completed"
        },
        "tags": []
      },
      "outputs": [],
      "source": [
        "# print(f\"Evaluate the pruned model\")\n",
        "# result = evaluate_model(module, config, test_dataloader)\n",
        "# get_sparsity(module)"
      ]
    },
    {
      "cell_type": "code",
      "execution_count": 18,
      "id": "ed127b0f-0ba4-4d7e-8756-43d75a5aebb6",
      "metadata": {
        "execution": {
          "iopub.execute_input": "2024-09-12T20:21:59.832049Z",
          "iopub.status.busy": "2024-09-12T20:21:59.831902Z",
          "iopub.status.idle": "2024-09-12T20:23:05.098173Z",
          "shell.execute_reply": "2024-09-12T20:23:05.097715Z"
        },
        "papermill": {
          "duration": 65.269346,
          "end_time": "2024-09-12T20:23:05.098806",
          "exception": false,
          "start_time": "2024-09-12T20:21:59.829460",
          "status": "completed"
        },
        "tags": []
      },
      "outputs": [],
      "source": [
        "# for concern in range(num_labels):\n",
        "#     valid = copy.deepcopy(valid_dataloader)\n",
        "#     get_similarity(\n",
        "#         model, module, valid, concern, num_samples, num_labels, device=device, seed=seed\n",
        "#     )"
      ]
    }
  ],
  "metadata": {
    "kernelspec": {
      "display_name": "decomposetransformer-UESb9BbT-py3.12",
      "language": "python",
      "name": "python3"
    },
    "language_info": {
      "codemirror_mode": {
        "name": "ipython",
        "version": 3
      },
      "file_extension": ".py",
      "mimetype": "text/x-python",
      "name": "python",
      "nbconvert_exporter": "python",
      "pygments_lexer": "ipython3",
      "version": "3.12.4"
    },
    "papermill": {
      "default_parameters": {},
      "duration": 90.885224,
      "end_time": "2024-09-12T20:23:06.625404",
      "environment_variables": {},
      "exception": null,
      "input_path": "Getting_Started/ipynb/Prune by Head Pruning only/bert-4-128-yahoo/Prune by Head Pruning only(30%).ipynb",
      "output_path": "Getting_Started/ipynb/Prune by Head Pruning only/bert-4-128-yahoo/Prune by Head Pruning only(30%).ipynb",
      "parameters": {},
      "start_time": "2024-09-12T20:21:35.740180",
      "version": "2.6.0"
    },
    "widgets": {
      "application/vnd.jupyter.widget-state+json": {
        "state": {
          "2abef881579d4435992ac1198c0bca76": {
            "model_module": "@jupyter-widgets/controls",
            "model_module_version": "2.0.0",
            "model_name": "HTMLStyleModel",
            "state": {
              "_model_module": "@jupyter-widgets/controls",
              "_model_module_version": "2.0.0",
              "_model_name": "HTMLStyleModel",
              "_view_count": null,
              "_view_module": "@jupyter-widgets/base",
              "_view_module_version": "2.0.0",
              "_view_name": "StyleView",
              "background": null,
              "description_width": "",
              "font_size": null,
              "text_color": null
            }
          },
          "5ccf08f7eca34e179091dc0195276b9e": {
            "model_module": "@jupyter-widgets/base",
            "model_module_version": "2.0.0",
            "model_name": "LayoutModel",
            "state": {
              "_model_module": "@jupyter-widgets/base",
              "_model_module_version": "2.0.0",
              "_model_name": "LayoutModel",
              "_view_count": null,
              "_view_module": "@jupyter-widgets/base",
              "_view_module_version": "2.0.0",
              "_view_name": "LayoutView",
              "align_content": null,
              "align_items": null,
              "align_self": null,
              "border_bottom": null,
              "border_left": null,
              "border_right": null,
              "border_top": null,
              "bottom": null,
              "display": null,
              "flex": null,
              "flex_flow": null,
              "grid_area": null,
              "grid_auto_columns": null,
              "grid_auto_flow": null,
              "grid_auto_rows": null,
              "grid_column": null,
              "grid_gap": null,
              "grid_row": null,
              "grid_template_areas": null,
              "grid_template_columns": null,
              "grid_template_rows": null,
              "height": null,
              "justify_content": null,
              "justify_items": null,
              "left": null,
              "margin": null,
              "max_height": null,
              "max_width": null,
              "min_height": null,
              "min_width": null,
              "object_fit": null,
              "object_position": null,
              "order": null,
              "overflow": null,
              "padding": null,
              "right": null,
              "top": null,
              "visibility": null,
              "width": null
            }
          },
          "6d6fdfd2c91b4fa5a6d6d7b51d40ec20": {
            "model_module": "@jupyter-widgets/controls",
            "model_module_version": "2.0.0",
            "model_name": "FloatProgressModel",
            "state": {
              "_dom_classes": [],
              "_model_module": "@jupyter-widgets/controls",
              "_model_module_version": "2.0.0",
              "_model_name": "FloatProgressModel",
              "_view_count": null,
              "_view_module": "@jupyter-widgets/controls",
              "_view_module_version": "2.0.0",
              "_view_name": "ProgressView",
              "bar_style": "success",
              "description": "",
              "description_allow_html": false,
              "layout": "IPY_MODEL_daae6d439f8e41208976a05999fa51b7",
              "max": 1875,
              "min": 0,
              "orientation": "horizontal",
              "style": "IPY_MODEL_c810e5723037420c940797dc46c8aabf",
              "tabbable": null,
              "tooltip": null,
              "value": 1875
            }
          },
          "79f9d8b7aaba4973986ffd494e65bb8a": {
            "model_module": "@jupyter-widgets/base",
            "model_module_version": "2.0.0",
            "model_name": "LayoutModel",
            "state": {
              "_model_module": "@jupyter-widgets/base",
              "_model_module_version": "2.0.0",
              "_model_name": "LayoutModel",
              "_view_count": null,
              "_view_module": "@jupyter-widgets/base",
              "_view_module_version": "2.0.0",
              "_view_name": "LayoutView",
              "align_content": null,
              "align_items": null,
              "align_self": null,
              "border_bottom": null,
              "border_left": null,
              "border_right": null,
              "border_top": null,
              "bottom": null,
              "display": null,
              "flex": null,
              "flex_flow": null,
              "grid_area": null,
              "grid_auto_columns": null,
              "grid_auto_flow": null,
              "grid_auto_rows": null,
              "grid_column": null,
              "grid_gap": null,
              "grid_row": null,
              "grid_template_areas": null,
              "grid_template_columns": null,
              "grid_template_rows": null,
              "height": null,
              "justify_content": null,
              "justify_items": null,
              "left": null,
              "margin": null,
              "max_height": null,
              "max_width": null,
              "min_height": null,
              "min_width": null,
              "object_fit": null,
              "object_position": null,
              "order": null,
              "overflow": null,
              "padding": null,
              "right": null,
              "top": null,
              "visibility": null,
              "width": null
            }
          },
          "7ff4b83e92d3444dba6732af4dc7f58e": {
            "model_module": "@jupyter-widgets/controls",
            "model_module_version": "2.0.0",
            "model_name": "HTMLModel",
            "state": {
              "_dom_classes": [],
              "_model_module": "@jupyter-widgets/controls",
              "_model_module_version": "2.0.0",
              "_model_name": "HTMLModel",
              "_view_count": null,
              "_view_module": "@jupyter-widgets/controls",
              "_view_module_version": "2.0.0",
              "_view_name": "HTMLView",
              "description": "",
              "description_allow_html": false,
              "layout": "IPY_MODEL_79f9d8b7aaba4973986ffd494e65bb8a",
              "placeholder": "???",
              "style": "IPY_MODEL_9c6b826225c74c3b8fa78d4fd8838051",
              "tabbable": null,
              "tooltip": null,
              "value": "???1875/1875???[00:09&lt;00:00,???213.29it/s]"
            }
          },
          "9c6b826225c74c3b8fa78d4fd8838051": {
            "model_module": "@jupyter-widgets/controls",
            "model_module_version": "2.0.0",
            "model_name": "HTMLStyleModel",
            "state": {
              "_model_module": "@jupyter-widgets/controls",
              "_model_module_version": "2.0.0",
              "_model_name": "HTMLStyleModel",
              "_view_count": null,
              "_view_module": "@jupyter-widgets/base",
              "_view_module_version": "2.0.0",
              "_view_name": "StyleView",
              "background": null,
              "description_width": "",
              "font_size": null,
              "text_color": null
            }
          },
          "c0c7f29cf01d40ffbab9f993a9cb3cd5": {
            "model_module": "@jupyter-widgets/base",
            "model_module_version": "2.0.0",
            "model_name": "LayoutModel",
            "state": {
              "_model_module": "@jupyter-widgets/base",
              "_model_module_version": "2.0.0",
              "_model_name": "LayoutModel",
              "_view_count": null,
              "_view_module": "@jupyter-widgets/base",
              "_view_module_version": "2.0.0",
              "_view_name": "LayoutView",
              "align_content": null,
              "align_items": null,
              "align_self": null,
              "border_bottom": null,
              "border_left": null,
              "border_right": null,
              "border_top": null,
              "bottom": null,
              "display": "inline-flex",
              "flex": null,
              "flex_flow": "row wrap",
              "grid_area": null,
              "grid_auto_columns": null,
              "grid_auto_flow": null,
              "grid_auto_rows": null,
              "grid_column": null,
              "grid_gap": null,
              "grid_row": null,
              "grid_template_areas": null,
              "grid_template_columns": null,
              "grid_template_rows": null,
              "height": null,
              "justify_content": null,
              "justify_items": null,
              "left": null,
              "margin": null,
              "max_height": null,
              "max_width": null,
              "min_height": null,
              "min_width": null,
              "object_fit": null,
              "object_position": null,
              "order": null,
              "overflow": null,
              "padding": null,
              "right": null,
              "top": null,
              "visibility": null,
              "width": "100%"
            }
          },
          "c810e5723037420c940797dc46c8aabf": {
            "model_module": "@jupyter-widgets/controls",
            "model_module_version": "2.0.0",
            "model_name": "ProgressStyleModel",
            "state": {
              "_model_module": "@jupyter-widgets/controls",
              "_model_module_version": "2.0.0",
              "_model_name": "ProgressStyleModel",
              "_view_count": null,
              "_view_module": "@jupyter-widgets/base",
              "_view_module_version": "2.0.0",
              "_view_name": "StyleView",
              "bar_color": null,
              "description_width": ""
            }
          },
          "d957208d68b34a158fb418821ea9002a": {
            "model_module": "@jupyter-widgets/controls",
            "model_module_version": "2.0.0",
            "model_name": "HBoxModel",
            "state": {
              "_dom_classes": [],
              "_model_module": "@jupyter-widgets/controls",
              "_model_module_version": "2.0.0",
              "_model_name": "HBoxModel",
              "_view_count": null,
              "_view_module": "@jupyter-widgets/controls",
              "_view_module_version": "2.0.0",
              "_view_name": "HBoxView",
              "box_style": "",
              "children": [
                "IPY_MODEL_fdd044f253a84653ad55eb3a4db8e609",
                "IPY_MODEL_6d6fdfd2c91b4fa5a6d6d7b51d40ec20",
                "IPY_MODEL_7ff4b83e92d3444dba6732af4dc7f58e"
              ],
              "layout": "IPY_MODEL_c0c7f29cf01d40ffbab9f993a9cb3cd5",
              "tabbable": null,
              "tooltip": null
            }
          },
          "daae6d439f8e41208976a05999fa51b7": {
            "model_module": "@jupyter-widgets/base",
            "model_module_version": "2.0.0",
            "model_name": "LayoutModel",
            "state": {
              "_model_module": "@jupyter-widgets/base",
              "_model_module_version": "2.0.0",
              "_model_name": "LayoutModel",
              "_view_count": null,
              "_view_module": "@jupyter-widgets/base",
              "_view_module_version": "2.0.0",
              "_view_name": "LayoutView",
              "align_content": null,
              "align_items": null,
              "align_self": null,
              "border_bottom": null,
              "border_left": null,
              "border_right": null,
              "border_top": null,
              "bottom": null,
              "display": null,
              "flex": "2",
              "flex_flow": null,
              "grid_area": null,
              "grid_auto_columns": null,
              "grid_auto_flow": null,
              "grid_auto_rows": null,
              "grid_column": null,
              "grid_gap": null,
              "grid_row": null,
              "grid_template_areas": null,
              "grid_template_columns": null,
              "grid_template_rows": null,
              "height": null,
              "justify_content": null,
              "justify_items": null,
              "left": null,
              "margin": null,
              "max_height": null,
              "max_width": null,
              "min_height": null,
              "min_width": null,
              "object_fit": null,
              "object_position": null,
              "order": null,
              "overflow": null,
              "padding": null,
              "right": null,
              "top": null,
              "visibility": null,
              "width": null
            }
          },
          "fdd044f253a84653ad55eb3a4db8e609": {
            "model_module": "@jupyter-widgets/controls",
            "model_module_version": "2.0.0",
            "model_name": "HTMLModel",
            "state": {
              "_dom_classes": [],
              "_model_module": "@jupyter-widgets/controls",
              "_model_module_version": "2.0.0",
              "_model_name": "HTMLModel",
              "_view_count": null,
              "_view_module": "@jupyter-widgets/controls",
              "_view_module_version": "2.0.0",
              "_view_name": "HTMLView",
              "description": "",
              "description_allow_html": false,
              "layout": "IPY_MODEL_5ccf08f7eca34e179091dc0195276b9e",
              "placeholder": "???",
              "style": "IPY_MODEL_2abef881579d4435992ac1198c0bca76",
              "tabbable": null,
              "tooltip": null,
              "value": "Evaluating????¡the????¡model:???100%"
            }
          }
        },
        "version_major": 2,
        "version_minor": 0
      }
    }
  },
  "nbformat": 4,
  "nbformat_minor": 5
}
