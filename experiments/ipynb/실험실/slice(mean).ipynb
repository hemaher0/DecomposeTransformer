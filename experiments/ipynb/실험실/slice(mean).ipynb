{
 "cells": [
  {
   "cell_type": "markdown",
   "metadata": {},
   "source": [
    "slice by rows and columns "
   ]
  },
  {
   "cell_type": "code",
   "execution_count": 1,
   "metadata": {},
   "outputs": [],
   "source": [
    "import os\n",
    "import sys\n",
    "\n",
    "sys.path.append(\"../../../../\")\n",
    "os.environ[\"TOKENIZERS_PARALLELISM\"] = \"false\""
   ]
  },
  {
   "cell_type": "code",
   "execution_count": 2,
   "metadata": {},
   "outputs": [],
   "source": [
    "import copy\n",
    "import torch\n",
    "from datetime import datetime\n",
    "from src.utils.helper import Config, color_print\n",
    "from src.utils.load import load_model, load_data, save_checkpoint, load_checkpoint\n",
    "from src.models.evaluate import evaluate_model, get_sparsity, get_similarity\n",
    "from src.utils.sampling import SamplingDataset\n",
    "from src.pruning.prune_head import head_importance_prunning"
   ]
  },
  {
   "cell_type": "code",
   "execution_count": 3,
   "metadata": {},
   "outputs": [],
   "source": [
    "name = \"bert-4-128-yahoo\"\n",
    "device = torch.device(\"cuda:0\")\n",
    "checkpoint = None\n",
    "batch_size = 16\n",
    "num_workers = 4\n",
    "num_samples = 128\n",
    "ci_ratio = 0.3\n",
    "seed = 44"
   ]
  },
  {
   "cell_type": "code",
   "execution_count": 4,
   "metadata": {},
   "outputs": [],
   "source": [
    "config = Config(name, device)"
   ]
  },
  {
   "cell_type": "code",
   "execution_count": 5,
   "metadata": {},
   "outputs": [
    {
     "name": "stdout",
     "output_type": "stream",
     "text": [
      "{'architectures': 'bert',\n",
      " 'dataset_name': 'YahooAnswersTopics',\n",
      " 'model_name': 'models/bert-tiny-yahoo',\n",
      " 'num_labels': 10,\n",
      " 'tokenizer_name': 'fabriceyhc/bert-base-uncased-yahoo_answers_topics'}\n"
     ]
    }
   ],
   "source": [
    "config.model_summary()"
   ]
  },
  {
   "cell_type": "code",
   "execution_count": 6,
   "metadata": {},
   "outputs": [
    {
     "name": "stdout",
     "output_type": "stream",
     "text": [
      "Loading the model.\n",
      "{'architectures': 'bert',\n",
      " 'dataset_name': 'YahooAnswersTopics',\n",
      " 'model_name': 'models/bert-tiny-yahoo',\n",
      " 'num_labels': 10,\n",
      " 'tokenizer_name': 'fabriceyhc/bert-base-uncased-yahoo_answers_topics'}\n",
      "The model models/bert-tiny-yahoo is loaded.\n"
     ]
    }
   ],
   "source": [
    "model = load_model(config=config)"
   ]
  },
  {
   "cell_type": "code",
   "execution_count": 7,
   "metadata": {},
   "outputs": [
    {
     "name": "stdout",
     "output_type": "stream",
     "text": [
      "Loading cached dataset YahooAnswersTopics.\n",
      "train.pkl is loaded from cache.\n",
      "valid.pkl is loaded from cache.\n",
      "test.pkl is loaded from cache.\n",
      "The dataset YahooAnswersTopics is loaded\n",
      "{'config_name': 'yahoo_answers_topics',\n",
      " 'features': {'first_column': 'question_title', 'second_column': 'topic'},\n",
      " 'path': 'yahoo_answers_topics'}\n"
     ]
    }
   ],
   "source": [
    "train_dataloader, valid_dataloader, test_dataloader = load_data(\n",
    "    config,\n",
    "    batch_size=batch_size,\n",
    "    num_workers=num_workers,\n",
    "    do_cache=True,\n",
    ")"
   ]
  },
  {
   "cell_type": "code",
   "execution_count": 8,
   "metadata": {},
   "outputs": [],
   "source": [
    "def get_hook(method):\n",
    "    def hook(module, input, output):\n",
    "        method(module, input, output)\n",
    "\n",
    "    return hook"
   ]
  },
  {
   "cell_type": "code",
   "execution_count": 9,
   "metadata": {},
   "outputs": [],
   "source": [
    "def find_layers(\n",
    "    model,\n",
    "    layer_types=None,\n",
    "    include_layers=None,\n",
    "    exclude_layers=None,\n",
    "    prefix: str = \"\",\n",
    "):\n",
    "    if layer_types is None:\n",
    "        layer_types = [torch.nn.Linear]\n",
    "    if include_layers is None:\n",
    "        include_layers = []\n",
    "    if exclude_layers is None:\n",
    "        exclude_layers = []\n",
    "    layers_dict = {}\n",
    "\n",
    "    def recursive_find(module, prefix: str) -> None:\n",
    "        for name, layer in module.named_children():\n",
    "            layer_name = f\"{prefix}.{name}\" if prefix else name\n",
    "            if any(exclude in layer_name for exclude in exclude_layers):\n",
    "                continue\n",
    "            if include_layers and not any(\n",
    "                include in layer_name for include in include_layers\n",
    "            ):\n",
    "                if not any(isinstance(layer, t) for t in layer_types):\n",
    "                    recursive_find(layer, layer_name)\n",
    "                continue\n",
    "            if isinstance(layer, tuple(layer_types)):\n",
    "                layers_dict[layer_name] = layer\n",
    "            else:\n",
    "                recursive_find(layer, layer_name)\n",
    "\n",
    "    recursive_find(model, prefix)\n",
    "\n",
    "    return layers_dict"
   ]
  },
  {
   "cell_type": "code",
   "execution_count": 10,
   "metadata": {},
   "outputs": [],
   "source": [
    "def prune_concern_identification(\n",
    "    model,\n",
    "    model_config: Config,\n",
    "    dominant_concern: SamplingDataset,\n",
    "    non_dominant_concern: SamplingDataset,\n",
    "    sparsity_ratio: float = 0.6,\n",
    "    include_layers=None,\n",
    "    exclude_layers=None,\n",
    "    compress=False,\n",
    ") -> None:\n",
    "    layers = find_layers(\n",
    "        model, include_layers=include_layers, exclude_layers=exclude_layers\n",
    "    )\n",
    "    handle_list = []\n",
    "\n",
    "    method1 = Methods(sparsity_ratio, axis=0, compress=compress)\n",
    "    method2 = Methods(sparsity_ratio, compress=compress)\n",
    "    for name, layer in layers.items():\n",
    "        if \"intermediate\" in name:\n",
    "            handle = layer.register_forward_hook(method1.ci)\n",
    "        else:\n",
    "            handle = layer.register_forward_hook(method2.ci)\n",
    "        handle_list.append(handle)\n",
    "\n",
    "    dominant_batches = list(dominant_concern)\n",
    "    non_dominant_batches = list(non_dominant_concern)\n",
    "\n",
    "    if len(dominant_batches) != len(non_dominant_batches):\n",
    "        raise ValueError(\n",
    "            \"Batch sizes of dominant_concern and non_dominant_concern does not match.\"\n",
    "        )\n",
    "\n",
    "    combined_batches = {}\n",
    "    keys = dominant_batches[0].keys()\n",
    "\n",
    "    for key in keys:\n",
    "        combined_batches[key] = torch.cat(\n",
    "            [batch[key] for batch in dominant_batches + non_dominant_batches]\n",
    "        )\n",
    "\n",
    "    combined_dataloader = [combined_batches]\n",
    "    from src.pruning.propagate import propagate\n",
    "\n",
    "    propagate(model, combined_dataloader, model_config)\n",
    "\n",
    "    for handle in handle_list:\n",
    "        handle.remove()"
   ]
  },
  {
   "cell_type": "code",
   "execution_count": 11,
   "metadata": {},
   "outputs": [],
   "source": [
    "class Methods:\n",
    "    def __init__(self, ratio: float, axis=1, compress=False) -> None:\n",
    "        self.ratio = ratio\n",
    "        self.axis = axis\n",
    "        self.compress = compress\n",
    "\n",
    "    def ci(self, layer, inputs, outputs):\n",
    "        current_weight = layer.weight.data\n",
    "        current_bias = layer.bias.data if layer.bias is not None else None\n",
    "        X = inputs[0]\n",
    "\n",
    "        batch_size = X.shape[0] // 2\n",
    "\n",
    "        concern_inputs, non_concern_inputs = (\n",
    "            X[:batch_size],\n",
    "            X[batch_size:],\n",
    "        )  # (batch_size, seq_dim, input_dim)\n",
    "\n",
    "        calc_norm = lambda tensors, dim: torch.norm(\n",
    "            tensors.reshape((-1, tensors.shape[-1])), dim=dim\n",
    "        )\n",
    "\n",
    "        concern_norm = calc_norm(concern_inputs, dim=0).reshape((1, -1))\n",
    "        non_concern_norm = calc_norm(non_concern_inputs, dim=0).reshape((1, -1))\n",
    "\n",
    "        cosine_similarity = torch.nn.functional.cosine_similarity(\n",
    "            concern_inputs.reshape((-1, concern_inputs.shape[-1])),\n",
    "            non_concern_inputs.reshape((-1, non_concern_inputs.shape[-1])),\n",
    "            dim=0,\n",
    "        ).reshape(1, -1)\n",
    "\n",
    "        sine_similarity = torch.sqrt(1 - cosine_similarity**2)\n",
    "        distance = torch.sqrt(concern_norm**2 + non_concern_norm**2)\n",
    "        coefficient = (\n",
    "            concern_norm\n",
    "            + sine_similarity * torch.abs(concern_norm + non_concern_norm) / distance\n",
    "        )\n",
    "\n",
    "        importance_score = torch.abs(current_weight) * torch.abs(coefficient)\n",
    "\n",
    "        if self.axis == 1:\n",
    "            importance_vector = torch.mean(importance_score, axis=0)\n",
    "        else:\n",
    "            importance_vector = torch.mean(importance_score, axis=1)\n",
    "\n",
    "        sort_res = torch.sort(importance_vector, stable=True)\n",
    "        num_prune = int(importance_vector.numel() * self.ratio)\n",
    "        indices_to_prune = sort_res[1][:num_prune]\n",
    "\n",
    "        mask = torch.ones(current_weight.shape[self.axis], dtype=bool)\n",
    "        mask[indices_to_prune] = False\n",
    "        if self.axis == 1:\n",
    "            pruned_weight = current_weight[:, mask]\n",
    "\n",
    "        else:\n",
    "            pruned_weight = current_weight[mask, :]\n",
    "            pruned_bias = current_bias[mask]\n",
    "            layer.bias.data = pruned_bias\n",
    "\n",
    "        layer.weight.data = pruned_weight"
   ]
  },
  {
   "cell_type": "code",
   "execution_count": 12,
   "metadata": {},
   "outputs": [
    {
     "name": "stdout",
     "output_type": "stream",
     "text": [
      "Evaluate the pruned model 0\n"
     ]
    },
    {
     "data": {
      "application/vnd.jupyter.widget-view+json": {
       "model_id": "d0cc131a007643da83a622f1334152ef",
       "version_major": 2,
       "version_minor": 0
      },
      "text/plain": [
       "Evaluating the model:   0%|          | 0/1875 [00:00<?, ?it/s]"
      ]
     },
     "metadata": {},
     "output_type": "display_data"
    },
    {
     "name": "stdout",
     "output_type": "stream",
     "text": [
      "Loss: 1.3297\n",
      "Precision: 0.6384, Recall: 0.5846, F1-Score: 0.5909\n",
      "              precision    recall  f1-score   support\n",
      "\n",
      "           0     0.4722    0.5328    0.5006      2992\n",
      "           1     0.5648    0.6146    0.5887      2992\n",
      "           2     0.6779    0.5345    0.5977      3012\n",
      "           3     0.3027    0.6284    0.4085      2998\n",
      "           4     0.6772    0.7918    0.7300      2973\n",
      "           5     0.8232    0.7318    0.7748      3054\n",
      "           6     0.7752    0.2940    0.4264      3003\n",
      "           7     0.6249    0.5857    0.6046      3012\n",
      "           8     0.6978    0.5560    0.6189      2982\n",
      "           9     0.7682    0.5768    0.6589      2982\n",
      "\n",
      "    accuracy                         0.5847     30000\n",
      "   macro avg     0.6384    0.5846    0.5909     30000\n",
      "weighted avg     0.6387    0.5847    0.5911     30000\n",
      "\n"
     ]
    }
   ],
   "source": [
    "result_list = []\n",
    "\n",
    "for concern in range(config.num_labels):\n",
    "    config.init_seed()\n",
    "    positive_samples = SamplingDataset(\n",
    "        train_dataloader,\n",
    "        config,\n",
    "        concern,\n",
    "        num_samples,\n",
    "        True,\n",
    "        4,\n",
    "        resample=False,\n",
    "    )\n",
    "    negative_samples = SamplingDataset(\n",
    "        train_dataloader,\n",
    "        config,\n",
    "        concern,\n",
    "        num_samples,\n",
    "        False,\n",
    "        4,\n",
    "        resample=False,\n",
    "    )\n",
    "    all_samples = SamplingDataset(\n",
    "        train_dataloader,\n",
    "        config,\n",
    "        200,\n",
    "        num_samples,\n",
    "        False,\n",
    "        4,\n",
    "        resample=False,\n",
    "    )\n",
    "\n",
    "    module = copy.deepcopy(model)\n",
    "\n",
    "    prune_concern_identification(\n",
    "        module,\n",
    "        config,\n",
    "        positive_samples,\n",
    "        negative_samples,\n",
    "        include_layers=[\"intermediate\", \"output\"],\n",
    "        exclude_layers=[\"attention\"],\n",
    "        sparsity_ratio=0.5,\n",
    "        compress=True,\n",
    "    )\n",
    "\n",
    "    print(f\"Evaluate the pruned model {concern}\")\n",
    "    result = evaluate_model(module, config, test_dataloader, verbose=True)\n",
    "    result_list.append(result)"
   ]
  },
  {
   "cell_type": "code",
   "execution_count": null,
   "metadata": {},
   "outputs": [],
   "source": [
    "from src.utils.helper import report_to_df, append_nth_row\n",
    "\n",
    "df_list = [report_to_df(df) for df in result_list]\n",
    "new_df = append_nth_row(df_list)\n",
    "new_df"
   ]
  },
  {
   "cell_type": "code",
   "execution_count": 13,
   "metadata": {},
   "outputs": [
    {
     "data": {
      "application/vnd.jupyter.widget-view+json": {
       "model_id": "19d9f4a263414a2d86be7452024f3ac2",
       "version_major": 2,
       "version_minor": 0
      },
      "text/plain": [
       "Evaluating the model:   0%|          | 0/1875 [00:00<?, ?it/s]"
      ]
     },
     "metadata": {},
     "output_type": "display_data"
    },
    {
     "name": "stdout",
     "output_type": "stream",
     "text": [
      "Loss: 1.2376\n",
      "Precision: 0.6297, Recall: 0.6126, F1-Score: 0.6128\n",
      "              precision    recall  f1-score   support\n",
      "\n",
      "           0     0.5690    0.4769    0.5189      2992\n",
      "           1     0.6834    0.5324    0.5985      2992\n",
      "           2     0.6370    0.6607    0.6486      3012\n",
      "           3     0.3624    0.5761    0.4449      2998\n",
      "           4     0.6753    0.8032    0.7338      2973\n",
      "           5     0.7310    0.7999    0.7639      3054\n",
      "           6     0.6597    0.3899    0.4902      3003\n",
      "           7     0.6004    0.6145    0.6074      3012\n",
      "           8     0.6419    0.6425    0.6422      2982\n",
      "           9     0.7369    0.6301    0.6793      2982\n",
      "\n",
      "    accuracy                         0.6128     30000\n",
      "   macro avg     0.6297    0.6126    0.6128     30000\n",
      "weighted avg     0.6298    0.6128    0.6129     30000\n",
      "\n"
     ]
    }
   ],
   "source": [
    "result = evaluate_model(model, config, test_dataloader)"
   ]
  }
 ],
 "metadata": {
  "kernelspec": {
   "display_name": "decomposetransformer-UESb9BbT-py3.12",
   "language": "python",
   "name": "python3"
  },
  "language_info": {
   "codemirror_mode": {
    "name": "ipython",
    "version": 3
   },
   "file_extension": ".py",
   "mimetype": "text/x-python",
   "name": "python",
   "nbconvert_exporter": "python",
   "pygments_lexer": "ipython3",
   "version": "3.12.4"
  }
 },
 "nbformat": 4,
 "nbformat_minor": 2
}
