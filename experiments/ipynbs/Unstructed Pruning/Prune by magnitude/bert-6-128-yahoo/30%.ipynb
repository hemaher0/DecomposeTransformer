{
  "cells": [
    {
      "cell_type": "code",
      "execution_count": 1,
      "id": "1e774c0d-6a12-4e09-83b7-52c6be4f5eea",
      "metadata": {
        "execution": {
          "iopub.execute_input": "2024-10-15T15:49:42.910901Z",
          "iopub.status.busy": "2024-10-15T15:49:42.910625Z",
          "iopub.status.idle": "2024-10-15T15:49:42.915345Z",
          "shell.execute_reply": "2024-10-15T15:49:42.914578Z"
        },
        "papermill": {
          "duration": 0.010833,
          "end_time": "2024-10-15T15:49:42.916521",
          "exception": false,
          "start_time": "2024-10-15T15:49:42.905688",
          "status": "completed"
        },
        "tags": []
      },
      "outputs": [],
      "source": [
        "import os\n",
        "import sys\n",
        "\n",
        "sys.path.append(\"../../../../../\")\n",
        "os.environ[\"TOKENIZERS_PARALLELISM\"] = \"false\""
      ]
    },
    {
      "cell_type": "code",
      "execution_count": 2,
      "id": "12cdfbbb-c013-4cdd-b770-b640faed45bb",
      "metadata": {
        "execution": {
          "iopub.execute_input": "2024-10-15T15:49:42.924717Z",
          "iopub.status.busy": "2024-10-15T15:49:42.924497Z",
          "iopub.status.idle": "2024-10-15T15:49:44.325915Z",
          "shell.execute_reply": "2024-10-15T15:49:44.325615Z"
        },
        "papermill": {
          "duration": 1.406272,
          "end_time": "2024-10-15T15:49:44.326702",
          "exception": false,
          "start_time": "2024-10-15T15:49:42.920430",
          "status": "completed"
        },
        "tags": []
      },
      "outputs": [],
      "source": [
        "import copy\n",
        "import torch\n",
        "from datetime import datetime\n",
        "from src.utils.helper import Config, color_print\n",
        "from src.utils.load import load_model, load_data, save_checkpoint\n",
        "from src.models.evaluate import (\n",
        "    evaluate_model,\n",
        "    get_sparsity,\n",
        "    get_similarity,\n",
        "    get_perplexity,\n",
        ")\n",
        "from src.utils.sampling import SamplingDataset\n",
        "from src.pruning.prune import prune_magnitude\n",
        "from src.utils.helper import report_to_df, append_nth_row"
      ]
    },
    {
      "cell_type": "code",
      "execution_count": 3,
      "id": "3bbed077-183d-4b34-8d3d-a6dcc1e13267",
      "metadata": {
        "execution": {
          "iopub.execute_input": "2024-10-15T15:49:44.329638Z",
          "iopub.status.busy": "2024-10-15T15:49:44.329506Z",
          "iopub.status.idle": "2024-10-15T15:49:44.331175Z",
          "shell.execute_reply": "2024-10-15T15:49:44.331000Z"
        },
        "papermill": {
          "duration": 0.003737,
          "end_time": "2024-10-15T15:49:44.331681",
          "exception": false,
          "start_time": "2024-10-15T15:49:44.327944",
          "status": "completed"
        },
        "tags": []
      },
      "outputs": [],
      "source": [
        "name = \"bert-6-128-yahoo\"\n",
        "device = torch.device(\"cuda:0\")\n",
        "checkpoint = None\n",
        "batch_size = 16\n",
        "num_workers = 4\n",
        "num_samples = 16\n",
        "ratio = 0.3\n",
        "seed = 44\n",
        "include_layers = [\"attention\", \"intermediate\", \"output\"]\n",
        "exclude_layers = None"
      ]
    },
    {
      "cell_type": "code",
      "execution_count": null,
      "id": "9f784b30-09b2-4e69-8160-5a78a8064c37",
      "metadata": {
        "execution": {
          "iopub.execute_input": "2024-10-15T15:49:44.334243Z",
          "iopub.status.busy": "2024-10-15T15:49:44.334176Z",
          "iopub.status.idle": "2024-10-15T15:49:44.335757Z",
          "shell.execute_reply": "2024-10-15T15:49:44.335588Z"
        },
        "papermill": {
          "duration": 0.003486,
          "end_time": "2024-10-15T15:49:44.336253",
          "exception": false,
          "start_time": "2024-10-15T15:49:44.332767",
          "status": "completed"
        },
        "tags": []
      },
      "outputs": [],
      "source": [
        "script_start_time = datetime.now()\n",
        "print(f\"Script started at: {script_start_time.strftime('%Y-%m-%d %H:%M:%S')}\")"
      ]
    },
    {
      "cell_type": "code",
      "execution_count": null,
      "id": "29af739a-e23a-4715-9ff8-473263658ff6",
      "metadata": {
        "execution": {
          "iopub.execute_input": "2024-10-15T15:49:44.338633Z",
          "iopub.status.busy": "2024-10-15T15:49:44.338569Z",
          "iopub.status.idle": "2024-10-15T15:49:44.582303Z",
          "shell.execute_reply": "2024-10-15T15:49:44.582097Z"
        },
        "papermill": {
          "duration": 0.245431,
          "end_time": "2024-10-15T15:49:44.582726",
          "exception": false,
          "start_time": "2024-10-15T15:49:44.337295",
          "status": "completed"
        },
        "tags": []
      },
      "outputs": [],
      "source": [
        "config = Config(name, device)\n",
        "num_labels = config.config[\"num_labels\"]\n",
        "model = load_model(config)"
      ]
    },
    {
      "cell_type": "code",
      "execution_count": null,
      "id": "788d0f37-7fb7-4603-bac7-34ba01dec4dd",
      "metadata": {
        "execution": {
          "iopub.execute_input": "2024-10-15T15:49:44.586350Z",
          "iopub.status.busy": "2024-10-15T15:49:44.586164Z",
          "iopub.status.idle": "2024-10-15T15:49:49.435843Z",
          "shell.execute_reply": "2024-10-15T15:49:49.435664Z"
        },
        "papermill": {
          "duration": 4.851855,
          "end_time": "2024-10-15T15:49:49.436218",
          "exception": false,
          "start_time": "2024-10-15T15:49:44.584363",
          "status": "completed"
        },
        "tags": []
      },
      "outputs": [],
      "source": [
        "train_dataloader, valid_dataloader, test_dataloader = load_data(\n",
        "    config,\n",
        "    batch_size=batch_size,\n",
        "    num_workers=num_workers,\n",
        "    do_cache=True,\n",
        ")"
      ]
    },
    {
      "cell_type": "code",
      "execution_count": 7,
      "id": "bc6c6571",
      "metadata": {
        "execution": {
          "iopub.execute_input": "2024-10-15T15:49:49.440354Z",
          "iopub.status.busy": "2024-10-15T15:49:49.440232Z",
          "iopub.status.idle": "2024-10-15T15:49:49.441529Z",
          "shell.execute_reply": "2024-10-15T15:49:49.441379Z"
        },
        "papermill": {
          "duration": 0.00369,
          "end_time": "2024-10-15T15:49:49.441843",
          "exception": false,
          "start_time": "2024-10-15T15:49:49.438153",
          "status": "completed"
        },
        "tags": []
      },
      "outputs": [],
      "source": [
        "# print(\"Evaluate the original model\")\n",
        "# result = evaluate_model(model, config, test_dataloader)"
      ]
    },
    {
      "cell_type": "code",
      "execution_count": null,
      "id": "a795ca1d",
      "metadata": {
        "papermill": {
          "duration": 0.001686,
          "end_time": "2024-10-15T15:49:49.445276",
          "exception": false,
          "start_time": "2024-10-15T15:49:49.443590",
          "status": "completed"
        },
        "tags": []
      },
      "outputs": [],
      "source": []
    },
    {
      "cell_type": "code",
      "execution_count": 8,
      "id": "ce310921-5107-4950-a7fe-0d90d4f6546b",
      "metadata": {
        "execution": {
          "iopub.execute_input": "2024-10-15T15:49:49.449037Z",
          "iopub.status.busy": "2024-10-15T15:49:49.448910Z",
          "iopub.status.idle": "2024-10-15T15:49:49.622342Z",
          "shell.execute_reply": "2024-10-15T15:49:49.622094Z"
        },
        "papermill": {
          "duration": 0.175913,
          "end_time": "2024-10-15T15:49:49.622902",
          "exception": false,
          "start_time": "2024-10-15T15:49:49.446989",
          "status": "completed"
        },
        "tags": []
      },
      "outputs": [],
      "source": [
        "config.init_seed()\n",
        "all_samples = SamplingDataset(\n",
        "    train_dataloader,\n",
        "    config,\n",
        "    200,\n",
        "    num_samples,\n",
        "    False,\n",
        "    4,\n",
        "    resample=False,\n",
        ")"
      ]
    },
    {
      "cell_type": "code",
      "execution_count": null,
      "id": "4bc22bf0-2e59-453b-bb1f-46fa5c476fb5",
      "metadata": {
        "execution": {
          "iopub.execute_input": "2024-10-15T15:49:49.627281Z",
          "iopub.status.busy": "2024-10-15T15:49:49.627176Z",
          "iopub.status.idle": "2024-10-15T15:50:14.977318Z",
          "shell.execute_reply": "2024-10-15T15:50:14.977090Z"
        },
        "papermill": {
          "duration": 25.352829,
          "end_time": "2024-10-15T15:50:14.977712",
          "exception": false,
          "start_time": "2024-10-15T15:49:49.624883",
          "status": "completed"
        },
        "tags": []
      },
      "outputs": [],
      "source": [
        "result_list = []\n",
        "\n",
        "module = copy.deepcopy(model)\n",
        "prune_magnitude(\n",
        "    module,\n",
        "    sparsity_ratio=ratio,\n",
        "    include_layers=include_layers,\n",
        "    exclude_layers=exclude_layers,\n",
        ")\n",
        "print(\"Evaluate the pruned model\")\n",
        "result = evaluate_model(model, config, test_dataloader, verbose=True)\n",
        "result_list.append(result)"
      ]
    },
    {
      "cell_type": "code",
      "execution_count": null,
      "id": "79cf64da-3b78-47db-bfae-62278d6b6c47",
      "metadata": {
        "execution": {
          "iopub.execute_input": "2024-10-15T15:50:14.982678Z",
          "iopub.status.busy": "2024-10-15T15:50:14.982588Z",
          "iopub.status.idle": "2024-10-15T15:50:57.075696Z",
          "shell.execute_reply": "2024-10-15T15:50:57.075462Z"
        },
        "papermill": {
          "duration": 42.096081,
          "end_time": "2024-10-15T15:50:57.076185",
          "exception": false,
          "start_time": "2024-10-15T15:50:14.980104",
          "status": "completed"
        },
        "tags": []
      },
      "outputs": [],
      "source": [
        "for concern in range(num_labels):\n",
        "    config.init_seed()\n",
        "    get_similarity(model, module, valid_dataloader, concern, num_samples, config)"
      ]
    },
    {
      "cell_type": "code",
      "execution_count": null,
      "id": "24b9e695",
      "metadata": {},
      "outputs": [],
      "source": [
        "get_sparsity(module)\n",
        "print(\"original model's perplexity\")\n",
        "get_perplexity(model, valid_dataloader, config)\n",
        "print(\"pruned model's perplexity\")\n",
        "get_perplexity(module, valid_dataloader, config)"
      ]
    },
    {
      "cell_type": "code",
      "execution_count": null,
      "id": "94133961",
      "metadata": {},
      "outputs": [],
      "source": [
        "df_list = [report_to_df(df) for df in result_list]\n",
        "csv_name = f\"{datetime.now().strftime('%Y-%m-%d_%H-%M-%S')}\"\n",
        "new_df = df_list[0]\n",
        "new_df.to_csv(f\"results/{csv_name}.csv\", index=False)\n",
        "print(csv_name)\n",
        "new_df"
      ]
    }
  ],
  "metadata": {
    "kernelspec": {
      "display_name": "decomposetransformer-UESb9BbT-py3.12",
      "language": "python",
      "name": "python3"
    },
    "language_info": {
      "codemirror_mode": {
        "name": "ipython",
        "version": 3
      },
      "file_extension": ".py",
      "mimetype": "text/x-python",
      "name": "python",
      "nbconvert_exporter": "python",
      "pygments_lexer": "ipython3",
      "version": "3.12.4"
    },
    "papermill": {
      "default_parameters": {},
      "duration": 75.797341,
      "end_time": "2024-10-15T15:50:58.003661",
      "environment_variables": {},
      "exception": null,
      "input_path": "experiments/ipynb/Prune by magnitude/bert-4-128-yahoo/Prune by magnitude(30%).ipynb",
      "output_path": "experiments/ipynb/Prune by magnitude/bert-4-128-yahoo/Prune by magnitude(30%).ipynb",
      "parameters": {},
      "start_time": "2024-10-15T15:49:42.206320",
      "version": "2.6.0"
    },
    "widgets": {
      "application/vnd.jupyter.widget-state+json": {
        "state": {
          "08c912d4753c48d9a5cf26f7175ebf4f": {
            "model_module": "@jupyter-widgets/controls",
            "model_module_version": "2.0.0",
            "model_name": "FloatProgressModel",
            "state": {
              "_dom_classes": [],
              "_model_module": "@jupyter-widgets/controls",
              "_model_module_version": "2.0.0",
              "_model_name": "FloatProgressModel",
              "_view_count": null,
              "_view_module": "@jupyter-widgets/controls",
              "_view_module_version": "2.0.0",
              "_view_name": "ProgressView",
              "bar_style": "success",
              "description": "",
              "description_allow_html": false,
              "layout": "IPY_MODEL_2e7f97592ea74ec4a7f291a7af1a362b",
              "max": 1875,
              "min": 0,
              "orientation": "horizontal",
              "style": "IPY_MODEL_b352df6f317145a5a3d6e6be5312dbc0",
              "tabbable": null,
              "tooltip": null,
              "value": 1875
            }
          },
          "1ceda43f0cb14e4ab5237d43502bdb84": {
            "model_module": "@jupyter-widgets/controls",
            "model_module_version": "2.0.0",
            "model_name": "HTMLStyleModel",
            "state": {
              "_model_module": "@jupyter-widgets/controls",
              "_model_module_version": "2.0.0",
              "_model_name": "HTMLStyleModel",
              "_view_count": null,
              "_view_module": "@jupyter-widgets/base",
              "_view_module_version": "2.0.0",
              "_view_name": "StyleView",
              "background": null,
              "description_width": "",
              "font_size": null,
              "text_color": null
            }
          },
          "2e7f97592ea74ec4a7f291a7af1a362b": {
            "model_module": "@jupyter-widgets/base",
            "model_module_version": "2.0.0",
            "model_name": "LayoutModel",
            "state": {
              "_model_module": "@jupyter-widgets/base",
              "_model_module_version": "2.0.0",
              "_model_name": "LayoutModel",
              "_view_count": null,
              "_view_module": "@jupyter-widgets/base",
              "_view_module_version": "2.0.0",
              "_view_name": "LayoutView",
              "align_content": null,
              "align_items": null,
              "align_self": null,
              "border_bottom": null,
              "border_left": null,
              "border_right": null,
              "border_top": null,
              "bottom": null,
              "display": null,
              "flex": "2",
              "flex_flow": null,
              "grid_area": null,
              "grid_auto_columns": null,
              "grid_auto_flow": null,
              "grid_auto_rows": null,
              "grid_column": null,
              "grid_gap": null,
              "grid_row": null,
              "grid_template_areas": null,
              "grid_template_columns": null,
              "grid_template_rows": null,
              "height": null,
              "justify_content": null,
              "justify_items": null,
              "left": null,
              "margin": null,
              "max_height": null,
              "max_width": null,
              "min_height": null,
              "min_width": null,
              "object_fit": null,
              "object_position": null,
              "order": null,
              "overflow": null,
              "padding": null,
              "right": null,
              "top": null,
              "visibility": null,
              "width": null
            }
          },
          "4a0e9f909b904ae9ba1a5ed573f1baaf": {
            "model_module": "@jupyter-widgets/controls",
            "model_module_version": "2.0.0",
            "model_name": "HTMLStyleModel",
            "state": {
              "_model_module": "@jupyter-widgets/controls",
              "_model_module_version": "2.0.0",
              "_model_name": "HTMLStyleModel",
              "_view_count": null,
              "_view_module": "@jupyter-widgets/base",
              "_view_module_version": "2.0.0",
              "_view_name": "StyleView",
              "background": null,
              "description_width": "",
              "font_size": null,
              "text_color": null
            }
          },
          "7f4f66cba53b412bb894401c8659cb5b": {
            "model_module": "@jupyter-widgets/controls",
            "model_module_version": "2.0.0",
            "model_name": "HTMLModel",
            "state": {
              "_dom_classes": [],
              "_model_module": "@jupyter-widgets/controls",
              "_model_module_version": "2.0.0",
              "_model_name": "HTMLModel",
              "_view_count": null,
              "_view_module": "@jupyter-widgets/controls",
              "_view_module_version": "2.0.0",
              "_view_name": "HTMLView",
              "description": "",
              "description_allow_html": false,
              "layout": "IPY_MODEL_e66bc8ff9adf4eb1bf65dab66c95e1fd",
              "placeholder": "???",
              "style": "IPY_MODEL_1ceda43f0cb14e4ab5237d43502bdb84",
              "tabbable": null,
              "tooltip": null,
              "value": "Evaluating??‡the??‡model:???100%"
            }
          },
          "9940bb645f314ab2a850197707ccaf07": {
            "model_module": "@jupyter-widgets/controls",
            "model_module_version": "2.0.0",
            "model_name": "HTMLModel",
            "state": {
              "_dom_classes": [],
              "_model_module": "@jupyter-widgets/controls",
              "_model_module_version": "2.0.0",
              "_model_name": "HTMLModel",
              "_view_count": null,
              "_view_module": "@jupyter-widgets/controls",
              "_view_module_version": "2.0.0",
              "_view_name": "HTMLView",
              "description": "",
              "description_allow_html": false,
              "layout": "IPY_MODEL_cad5846fadc7452397f550449c6376f1",
              "placeholder": "???",
              "style": "IPY_MODEL_4a0e9f909b904ae9ba1a5ed573f1baaf",
              "tabbable": null,
              "tooltip": null,
              "value": "???1875/1875???[00:18&lt;00:00,???105.45it/s]"
            }
          },
          "9d21264a4c9b4ddbae2f1a2804b9725d": {
            "model_module": "@jupyter-widgets/controls",
            "model_module_version": "2.0.0",
            "model_name": "HBoxModel",
            "state": {
              "_dom_classes": [],
              "_model_module": "@jupyter-widgets/controls",
              "_model_module_version": "2.0.0",
              "_model_name": "HBoxModel",
              "_view_count": null,
              "_view_module": "@jupyter-widgets/controls",
              "_view_module_version": "2.0.0",
              "_view_name": "HBoxView",
              "box_style": "",
              "children": [
                "IPY_MODEL_7f4f66cba53b412bb894401c8659cb5b",
                "IPY_MODEL_08c912d4753c48d9a5cf26f7175ebf4f",
                "IPY_MODEL_9940bb645f314ab2a850197707ccaf07"
              ],
              "layout": "IPY_MODEL_dbf8dd66a0ff43f1af34da113bf1d68f",
              "tabbable": null,
              "tooltip": null
            }
          },
          "b352df6f317145a5a3d6e6be5312dbc0": {
            "model_module": "@jupyter-widgets/controls",
            "model_module_version": "2.0.0",
            "model_name": "ProgressStyleModel",
            "state": {
              "_model_module": "@jupyter-widgets/controls",
              "_model_module_version": "2.0.0",
              "_model_name": "ProgressStyleModel",
              "_view_count": null,
              "_view_module": "@jupyter-widgets/base",
              "_view_module_version": "2.0.0",
              "_view_name": "StyleView",
              "bar_color": null,
              "description_width": ""
            }
          },
          "cad5846fadc7452397f550449c6376f1": {
            "model_module": "@jupyter-widgets/base",
            "model_module_version": "2.0.0",
            "model_name": "LayoutModel",
            "state": {
              "_model_module": "@jupyter-widgets/base",
              "_model_module_version": "2.0.0",
              "_model_name": "LayoutModel",
              "_view_count": null,
              "_view_module": "@jupyter-widgets/base",
              "_view_module_version": "2.0.0",
              "_view_name": "LayoutView",
              "align_content": null,
              "align_items": null,
              "align_self": null,
              "border_bottom": null,
              "border_left": null,
              "border_right": null,
              "border_top": null,
              "bottom": null,
              "display": null,
              "flex": null,
              "flex_flow": null,
              "grid_area": null,
              "grid_auto_columns": null,
              "grid_auto_flow": null,
              "grid_auto_rows": null,
              "grid_column": null,
              "grid_gap": null,
              "grid_row": null,
              "grid_template_areas": null,
              "grid_template_columns": null,
              "grid_template_rows": null,
              "height": null,
              "justify_content": null,
              "justify_items": null,
              "left": null,
              "margin": null,
              "max_height": null,
              "max_width": null,
              "min_height": null,
              "min_width": null,
              "object_fit": null,
              "object_position": null,
              "order": null,
              "overflow": null,
              "padding": null,
              "right": null,
              "top": null,
              "visibility": null,
              "width": null
            }
          },
          "dbf8dd66a0ff43f1af34da113bf1d68f": {
            "model_module": "@jupyter-widgets/base",
            "model_module_version": "2.0.0",
            "model_name": "LayoutModel",
            "state": {
              "_model_module": "@jupyter-widgets/base",
              "_model_module_version": "2.0.0",
              "_model_name": "LayoutModel",
              "_view_count": null,
              "_view_module": "@jupyter-widgets/base",
              "_view_module_version": "2.0.0",
              "_view_name": "LayoutView",
              "align_content": null,
              "align_items": null,
              "align_self": null,
              "border_bottom": null,
              "border_left": null,
              "border_right": null,
              "border_top": null,
              "bottom": null,
              "display": "inline-flex",
              "flex": null,
              "flex_flow": "row wrap",
              "grid_area": null,
              "grid_auto_columns": null,
              "grid_auto_flow": null,
              "grid_auto_rows": null,
              "grid_column": null,
              "grid_gap": null,
              "grid_row": null,
              "grid_template_areas": null,
              "grid_template_columns": null,
              "grid_template_rows": null,
              "height": null,
              "justify_content": null,
              "justify_items": null,
              "left": null,
              "margin": null,
              "max_height": null,
              "max_width": null,
              "min_height": null,
              "min_width": null,
              "object_fit": null,
              "object_position": null,
              "order": null,
              "overflow": null,
              "padding": null,
              "right": null,
              "top": null,
              "visibility": null,
              "width": "100%"
            }
          },
          "e66bc8ff9adf4eb1bf65dab66c95e1fd": {
            "model_module": "@jupyter-widgets/base",
            "model_module_version": "2.0.0",
            "model_name": "LayoutModel",
            "state": {
              "_model_module": "@jupyter-widgets/base",
              "_model_module_version": "2.0.0",
              "_model_name": "LayoutModel",
              "_view_count": null,
              "_view_module": "@jupyter-widgets/base",
              "_view_module_version": "2.0.0",
              "_view_name": "LayoutView",
              "align_content": null,
              "align_items": null,
              "align_self": null,
              "border_bottom": null,
              "border_left": null,
              "border_right": null,
              "border_top": null,
              "bottom": null,
              "display": null,
              "flex": null,
              "flex_flow": null,
              "grid_area": null,
              "grid_auto_columns": null,
              "grid_auto_flow": null,
              "grid_auto_rows": null,
              "grid_column": null,
              "grid_gap": null,
              "grid_row": null,
              "grid_template_areas": null,
              "grid_template_columns": null,
              "grid_template_rows": null,
              "height": null,
              "justify_content": null,
              "justify_items": null,
              "left": null,
              "margin": null,
              "max_height": null,
              "max_width": null,
              "min_height": null,
              "min_width": null,
              "object_fit": null,
              "object_position": null,
              "order": null,
              "overflow": null,
              "padding": null,
              "right": null,
              "top": null,
              "visibility": null,
              "width": null
            }
          }
        },
        "version_major": 2,
        "version_minor": 0
      }
    }
  },
  "nbformat": 4,
  "nbformat_minor": 5
}
