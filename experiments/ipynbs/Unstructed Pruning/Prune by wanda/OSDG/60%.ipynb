{
  "cells": [
    {
      "cell_type": "code",
      "execution_count": 1,
      "id": "1e774c0d-6a12-4e09-83b7-52c6be4f5eea",
      "metadata": {
        "ExecuteTime": {
          "end_time": "2024-08-20T23:22:44.719148Z",
          "start_time": "2024-08-20T23:22:44.711148Z"
        },
        "editable": true,
        "execution": {
          "iopub.execute_input": "2024-09-12T20:28:12.657597Z",
          "iopub.status.busy": "2024-09-12T20:28:12.657323Z",
          "iopub.status.idle": "2024-09-12T20:28:12.665979Z",
          "shell.execute_reply": "2024-09-12T20:28:12.665388Z"
        },
        "papermill": {
          "duration": 0.017371,
          "end_time": "2024-09-12T20:28:12.667949",
          "exception": false,
          "start_time": "2024-09-12T20:28:12.650578",
          "status": "completed"
        },
        "slideshow": {
          "slide_type": ""
        },
        "tags": []
      },
      "outputs": [],
      "source": [
        "import os\n",
        "import sys\n",
        "\n",
        "sys.path.append(\"../../../../../\")\n",
        "os.environ[\"TOKENIZERS_PARALLELISM\"] = \"false\""
      ]
    },
    {
      "cell_type": "code",
      "execution_count": 2,
      "id": "b787f031-cd94-47d7-8f3d-a36a6c772eeb",
      "metadata": {
        "ExecuteTime": {
          "end_time": "2024-08-20T23:22:47.534680Z",
          "start_time": "2024-08-20T23:22:44.721153Z"
        },
        "execution": {
          "iopub.execute_input": "2024-09-12T20:28:12.678020Z",
          "iopub.status.busy": "2024-09-12T20:28:12.677800Z",
          "iopub.status.idle": "2024-09-12T20:28:13.645272Z",
          "shell.execute_reply": "2024-09-12T20:28:13.644901Z"
        },
        "papermill": {
          "duration": 0.973619,
          "end_time": "2024-09-12T20:28:13.646321",
          "exception": false,
          "start_time": "2024-09-12T20:28:12.672702",
          "status": "completed"
        },
        "tags": []
      },
      "outputs": [],
      "source": [
        "import copy\n",
        "import torch\n",
        "from datetime import datetime\n",
        "from src.utils.helper import Config, color_print\n",
        "from src.utils.load import load_model, load_data, save_checkpoint\n",
        "from src.models.evaluate import (\n",
        "    evaluate_model,\n",
        "    get_sparsity,\n",
        "    get_similarity,\n",
        "    get_perplexity,\n",
        ")\n",
        "from src.utils.sampling import SamplingDataset\n",
        "from src.pruning.prune import prune_wanda\n",
        "from src.utils.helper import report_to_df, append_nth_row"
      ]
    },
    {
      "cell_type": "code",
      "execution_count": 3,
      "id": "e41ca12f-9587-4e99-9e64-895758e0c440",
      "metadata": {
        "ExecuteTime": {
          "end_time": "2024-08-20T23:22:47.550681Z",
          "start_time": "2024-08-20T23:22:47.535681Z"
        },
        "execution": {
          "iopub.execute_input": "2024-09-12T20:28:13.649863Z",
          "iopub.status.busy": "2024-09-12T20:28:13.649723Z",
          "iopub.status.idle": "2024-09-12T20:28:13.651830Z",
          "shell.execute_reply": "2024-09-12T20:28:13.651568Z"
        },
        "papermill": {
          "duration": 0.004738,
          "end_time": "2024-09-12T20:28:13.652565",
          "exception": false,
          "start_time": "2024-09-12T20:28:13.647827",
          "status": "completed"
        },
        "tags": []
      },
      "outputs": [],
      "source": [
        "name = \"OSDG\"\n",
        "device = torch.device(\"cuda:0\")\n",
        "checkpoint = None\n",
        "batch_size = 16\n",
        "num_workers = 4\n",
        "num_samples = 16\n",
        "wanda_ratio = 0.6\n",
        "seed = 44\n",
        "include_layers = [\"attention\", \"intermediate\", \"output\"]\n",
        "exclude_layers = None"
      ]
    },
    {
      "cell_type": "code",
      "execution_count": null,
      "id": "df074f8e-26fc-4eeb-8a17-09d8976c777b",
      "metadata": {
        "ExecuteTime": {
          "end_time": "2024-08-20T23:22:47.565682Z",
          "start_time": "2024-08-20T23:22:47.551681Z"
        },
        "execution": {
          "iopub.execute_input": "2024-09-12T20:28:13.655709Z",
          "iopub.status.busy": "2024-09-12T20:28:13.655619Z",
          "iopub.status.idle": "2024-09-12T20:28:13.657666Z",
          "shell.execute_reply": "2024-09-12T20:28:13.657426Z"
        },
        "papermill": {
          "duration": 0.004363,
          "end_time": "2024-09-12T20:28:13.658261",
          "exception": false,
          "start_time": "2024-09-12T20:28:13.653898",
          "status": "completed"
        },
        "tags": []
      },
      "outputs": [],
      "source": [
        "script_start_time = datetime.now()\n",
        "print(f\"Script started at: {script_start_time.strftime('%Y-%m-%d %H:%M:%S')}\")"
      ]
    },
    {
      "cell_type": "code",
      "execution_count": null,
      "id": "d71e362f-ac31-43de-b51f-1cd9a9a388de",
      "metadata": {
        "ExecuteTime": {
          "end_time": "2024-08-20T23:22:49.366700Z",
          "start_time": "2024-08-20T23:22:47.566683Z"
        },
        "execution": {
          "iopub.execute_input": "2024-09-12T20:28:13.661256Z",
          "iopub.status.busy": "2024-09-12T20:28:13.661186Z",
          "iopub.status.idle": "2024-09-12T20:28:14.336798Z",
          "shell.execute_reply": "2024-09-12T20:28:14.336495Z"
        },
        "papermill": {
          "duration": 0.677807,
          "end_time": "2024-09-12T20:28:14.337386",
          "exception": false,
          "start_time": "2024-09-12T20:28:13.659579",
          "status": "completed"
        },
        "tags": []
      },
      "outputs": [],
      "source": [
        "config = Config(name, device)\n",
        "num_labels = config.config[\"num_labels\"]\n",
        "model = load_model(config)"
      ]
    },
    {
      "cell_type": "code",
      "execution_count": null,
      "id": "f51b4e6c-5480-42c7-9d62-a05cbd1d4221",
      "metadata": {
        "ExecuteTime": {
          "start_time": "2024-08-20T23:22:49.368699Z"
        },
        "execution": {
          "iopub.execute_input": "2024-09-12T20:28:14.341059Z",
          "iopub.status.busy": "2024-09-12T20:28:14.340912Z",
          "iopub.status.idle": "2024-09-12T20:28:24.537442Z",
          "shell.execute_reply": "2024-09-12T20:28:24.537089Z"
        },
        "jupyter": {
          "is_executing": true
        },
        "papermill": {
          "duration": 10.199121,
          "end_time": "2024-09-12T20:28:24.538112",
          "exception": false,
          "start_time": "2024-09-12T20:28:14.338991",
          "status": "completed"
        },
        "tags": []
      },
      "outputs": [],
      "source": [
        "train_dataloader, valid_dataloader, test_dataloader = load_data(\n",
        "    config,\n",
        "    batch_size=batch_size,\n",
        "    num_workers=num_workers,\n",
        "    do_cache=True,\n",
        ")"
      ]
    },
    {
      "cell_type": "code",
      "execution_count": null,
      "id": "8dc5737e",
      "metadata": {},
      "outputs": [],
      "source": [
        "# print(\"Evaluate the original model\")\n",
        "# result = evaluate_model(model, config, test_dataloader)"
      ]
    },
    {
      "cell_type": "code",
      "execution_count": null,
      "id": "935e705b",
      "metadata": {},
      "outputs": [],
      "source": []
    },
    {
      "cell_type": "code",
      "execution_count": 7,
      "id": "a2a78ba8-1c77-45f0-87f2-90720614723d",
      "metadata": {
        "execution": {
          "iopub.execute_input": "2024-09-12T20:28:24.542475Z",
          "iopub.status.busy": "2024-09-12T20:28:24.542351Z",
          "iopub.status.idle": "2024-09-12T20:28:24.723283Z",
          "shell.execute_reply": "2024-09-12T20:28:24.722813Z"
        },
        "jupyter": {
          "is_executing": true
        },
        "papermill": {
          "duration": 0.184717,
          "end_time": "2024-09-12T20:28:24.724659",
          "exception": false,
          "start_time": "2024-09-12T20:28:24.539942",
          "status": "completed"
        },
        "tags": []
      },
      "outputs": [],
      "source": [
        "config.init_seed()\n",
        "all_samples = SamplingDataset(\n",
        "    train_dataloader,\n",
        "    config,\n",
        "    200,\n",
        "    num_samples,\n",
        "    False,\n",
        "    4,\n",
        "    resample=False,\n",
        ")"
      ]
    },
    {
      "cell_type": "code",
      "execution_count": null,
      "id": "a6d8bf19-3d3b-4ef7-a3d0-7d89ffb31790",
      "metadata": {
        "execution": {
          "iopub.execute_input": "2024-09-12T20:28:24.743079Z",
          "iopub.status.busy": "2024-09-12T20:28:24.742993Z",
          "iopub.status.idle": "2024-09-12T20:28:38.078958Z",
          "shell.execute_reply": "2024-09-12T20:28:38.078652Z"
        },
        "jupyter": {
          "is_executing": true
        },
        "papermill": {
          "duration": 13.33974,
          "end_time": "2024-09-12T20:28:38.079556",
          "exception": false,
          "start_time": "2024-09-12T20:28:24.739816",
          "status": "completed"
        },
        "tags": []
      },
      "outputs": [],
      "source": [
        "result_list = []\n",
        "module = copy.deepcopy(model)\n",
        "prune_wanda(\n",
        "    module,\n",
        "    config,\n",
        "    all_samples,\n",
        "    sparsity_ratio=wanda_ratio,\n",
        "    include_layers=include_layers,\n",
        "    exclude_layers=exclude_layers,\n",
        ")\n",
        "print(\"Evaluate the pruned model\")\n",
        "result = evaluate_model(module, config, test_dataloader, verbose=True)\n",
        "result_list.append(result)"
      ]
    },
    {
      "cell_type": "code",
      "execution_count": null,
      "id": "cd3c1423-9a76-4a7d-bec7-aae97284cf65",
      "metadata": {
        "execution": {
          "iopub.execute_input": "2024-09-12T20:28:38.084117Z",
          "iopub.status.busy": "2024-09-12T20:28:38.084005Z",
          "iopub.status.idle": "2024-09-12T20:29:44.504392Z",
          "shell.execute_reply": "2024-09-12T20:29:44.503873Z"
        },
        "jupyter": {
          "is_executing": true
        },
        "papermill": {
          "duration": 66.42355,
          "end_time": "2024-09-12T20:29:44.505196",
          "exception": false,
          "start_time": "2024-09-12T20:28:38.081646",
          "status": "completed"
        },
        "tags": []
      },
      "outputs": [],
      "source": [
        "for concern in range(num_labels):\n",
        "    config.init_seed()\n",
        "    get_similarity(model, module, valid_dataloader, concern, num_samples, config)"
      ]
    },
    {
      "cell_type": "code",
      "execution_count": null,
      "id": "5a8379e5",
      "metadata": {},
      "outputs": [],
      "source": [
        "get_sparsity(module)\n",
        "print(\"original model's perplexity\")\n",
        "get_perplexity(model, valid_dataloader, config)\n",
        "print(\"pruned model's perplexity\")\n",
        "get_perplexity(module, valid_dataloader, config)"
      ]
    },
    {
      "cell_type": "code",
      "execution_count": null,
      "id": "31dda459",
      "metadata": {},
      "outputs": [],
      "source": [
        "df_list = [report_to_df(df) for df in result_list]\n",
        "csv_name = f\"{datetime.now().strftime('%Y-%m-%d_%H-%M-%S')}\"\n",
        "new_df = df_list[0]\n",
        "new_df.to_csv(f\"results/{csv_name}.csv\", index=False)\n",
        "print(csv_name)\n",
        "new_df"
      ]
    }
  ],
  "metadata": {
    "kernelspec": {
      "display_name": "Python 3 (ipykernel)",
      "language": "python",
      "name": "python3"
    },
    "language_info": {
      "codemirror_mode": {
        "name": "ipython",
        "version": 3
      },
      "file_extension": ".py",
      "mimetype": "text/x-python",
      "name": "python",
      "nbconvert_exporter": "python",
      "pygments_lexer": "ipython3",
      "version": "3.8.19"
    },
    "papermill": {
      "default_parameters": {},
      "duration": 94.071319,
      "end_time": "2024-09-12T20:29:46.052045",
      "environment_variables": {},
      "exception": null,
      "input_path": "Getting_Started/ipynb/Prune by wanda/bert-4-128-yahoo/Prune by wanda(30%).ipynb",
      "output_path": "Getting_Started/ipynb/Prune by wanda/bert-4-128-yahoo/Prune by wanda(30%).ipynb",
      "parameters": {},
      "start_time": "2024-09-12T20:28:11.980726",
      "version": "2.6.0"
    },
    "widgets": {
      "application/vnd.jupyter.widget-state+json": {
        "state": {
          "0a94e037d6e24967991bb106e623b602": {
            "model_module": "@jupyter-widgets/base",
            "model_module_version": "2.0.0",
            "model_name": "LayoutModel",
            "state": {
              "_model_module": "@jupyter-widgets/base",
              "_model_module_version": "2.0.0",
              "_model_name": "LayoutModel",
              "_view_count": null,
              "_view_module": "@jupyter-widgets/base",
              "_view_module_version": "2.0.0",
              "_view_name": "LayoutView",
              "align_content": null,
              "align_items": null,
              "align_self": null,
              "border_bottom": null,
              "border_left": null,
              "border_right": null,
              "border_top": null,
              "bottom": null,
              "display": null,
              "flex": null,
              "flex_flow": null,
              "grid_area": null,
              "grid_auto_columns": null,
              "grid_auto_flow": null,
              "grid_auto_rows": null,
              "grid_column": null,
              "grid_gap": null,
              "grid_row": null,
              "grid_template_areas": null,
              "grid_template_columns": null,
              "grid_template_rows": null,
              "height": null,
              "justify_content": null,
              "justify_items": null,
              "left": null,
              "margin": null,
              "max_height": null,
              "max_width": null,
              "min_height": null,
              "min_width": null,
              "object_fit": null,
              "object_position": null,
              "order": null,
              "overflow": null,
              "padding": null,
              "right": null,
              "top": null,
              "visibility": null,
              "width": null
            }
          },
          "0bd9462519174edbb456d0c45669b461": {
            "model_module": "@jupyter-widgets/base",
            "model_module_version": "2.0.0",
            "model_name": "LayoutModel",
            "state": {
              "_model_module": "@jupyter-widgets/base",
              "_model_module_version": "2.0.0",
              "_model_name": "LayoutModel",
              "_view_count": null,
              "_view_module": "@jupyter-widgets/base",
              "_view_module_version": "2.0.0",
              "_view_name": "LayoutView",
              "align_content": null,
              "align_items": null,
              "align_self": null,
              "border_bottom": null,
              "border_left": null,
              "border_right": null,
              "border_top": null,
              "bottom": null,
              "display": "inline-flex",
              "flex": null,
              "flex_flow": "row wrap",
              "grid_area": null,
              "grid_auto_columns": null,
              "grid_auto_flow": null,
              "grid_auto_rows": null,
              "grid_column": null,
              "grid_gap": null,
              "grid_row": null,
              "grid_template_areas": null,
              "grid_template_columns": null,
              "grid_template_rows": null,
              "height": null,
              "justify_content": null,
              "justify_items": null,
              "left": null,
              "margin": null,
              "max_height": null,
              "max_width": null,
              "min_height": null,
              "min_width": null,
              "object_fit": null,
              "object_position": null,
              "order": null,
              "overflow": null,
              "padding": null,
              "right": null,
              "top": null,
              "visibility": null,
              "width": "100%"
            }
          },
          "6121f8494ecc41a483b445a2590a3411": {
            "model_module": "@jupyter-widgets/controls",
            "model_module_version": "2.0.0",
            "model_name": "FloatProgressModel",
            "state": {
              "_dom_classes": [],
              "_model_module": "@jupyter-widgets/controls",
              "_model_module_version": "2.0.0",
              "_model_name": "FloatProgressModel",
              "_view_count": null,
              "_view_module": "@jupyter-widgets/controls",
              "_view_module_version": "2.0.0",
              "_view_name": "ProgressView",
              "bar_style": "success",
              "description": "",
              "description_allow_html": false,
              "layout": "IPY_MODEL_d2a905665be04464b9ee2cc099a805ff",
              "max": 1875,
              "min": 0,
              "orientation": "horizontal",
              "style": "IPY_MODEL_8f7e8f4796fe496887a3e8ae3be84b2d",
              "tabbable": null,
              "tooltip": null,
              "value": 1875
            }
          },
          "6c044ffa7b5842f39af66bc8f9364021": {
            "model_module": "@jupyter-widgets/controls",
            "model_module_version": "2.0.0",
            "model_name": "HTMLStyleModel",
            "state": {
              "_model_module": "@jupyter-widgets/controls",
              "_model_module_version": "2.0.0",
              "_model_name": "HTMLStyleModel",
              "_view_count": null,
              "_view_module": "@jupyter-widgets/base",
              "_view_module_version": "2.0.0",
              "_view_name": "StyleView",
              "background": null,
              "description_width": "",
              "font_size": null,
              "text_color": null
            }
          },
          "6e471f1d12f5468b9f2e7680220b831b": {
            "model_module": "@jupyter-widgets/controls",
            "model_module_version": "2.0.0",
            "model_name": "HTMLModel",
            "state": {
              "_dom_classes": [],
              "_model_module": "@jupyter-widgets/controls",
              "_model_module_version": "2.0.0",
              "_model_name": "HTMLModel",
              "_view_count": null,
              "_view_module": "@jupyter-widgets/controls",
              "_view_module_version": "2.0.0",
              "_view_name": "HTMLView",
              "description": "",
              "description_allow_html": false,
              "layout": "IPY_MODEL_b01fa2f88bb345de997722ea966879c2",
              "placeholder": "???",
              "style": "IPY_MODEL_d61a1f6bc2114500bd2010f076ce96d4",
              "tabbable": null,
              "tooltip": null,
              "value": "???1875/1875???[00:10&lt;00:00,???183.02it/s]"
            }
          },
          "7b430e4d58cb4063b07e1c3151623431": {
            "model_module": "@jupyter-widgets/controls",
            "model_module_version": "2.0.0",
            "model_name": "HTMLModel",
            "state": {
              "_dom_classes": [],
              "_model_module": "@jupyter-widgets/controls",
              "_model_module_version": "2.0.0",
              "_model_name": "HTMLModel",
              "_view_count": null,
              "_view_module": "@jupyter-widgets/controls",
              "_view_module_version": "2.0.0",
              "_view_name": "HTMLView",
              "description": "",
              "description_allow_html": false,
              "layout": "IPY_MODEL_0a94e037d6e24967991bb106e623b602",
              "placeholder": "???",
              "style": "IPY_MODEL_6c044ffa7b5842f39af66bc8f9364021",
              "tabbable": null,
              "tooltip": null,
              "value": "Evaluating????¡the????¡model:???100%"
            }
          },
          "8f7e8f4796fe496887a3e8ae3be84b2d": {
            "model_module": "@jupyter-widgets/controls",
            "model_module_version": "2.0.0",
            "model_name": "ProgressStyleModel",
            "state": {
              "_model_module": "@jupyter-widgets/controls",
              "_model_module_version": "2.0.0",
              "_model_name": "ProgressStyleModel",
              "_view_count": null,
              "_view_module": "@jupyter-widgets/base",
              "_view_module_version": "2.0.0",
              "_view_name": "StyleView",
              "bar_color": null,
              "description_width": ""
            }
          },
          "b01fa2f88bb345de997722ea966879c2": {
            "model_module": "@jupyter-widgets/base",
            "model_module_version": "2.0.0",
            "model_name": "LayoutModel",
            "state": {
              "_model_module": "@jupyter-widgets/base",
              "_model_module_version": "2.0.0",
              "_model_name": "LayoutModel",
              "_view_count": null,
              "_view_module": "@jupyter-widgets/base",
              "_view_module_version": "2.0.0",
              "_view_name": "LayoutView",
              "align_content": null,
              "align_items": null,
              "align_self": null,
              "border_bottom": null,
              "border_left": null,
              "border_right": null,
              "border_top": null,
              "bottom": null,
              "display": null,
              "flex": null,
              "flex_flow": null,
              "grid_area": null,
              "grid_auto_columns": null,
              "grid_auto_flow": null,
              "grid_auto_rows": null,
              "grid_column": null,
              "grid_gap": null,
              "grid_row": null,
              "grid_template_areas": null,
              "grid_template_columns": null,
              "grid_template_rows": null,
              "height": null,
              "justify_content": null,
              "justify_items": null,
              "left": null,
              "margin": null,
              "max_height": null,
              "max_width": null,
              "min_height": null,
              "min_width": null,
              "object_fit": null,
              "object_position": null,
              "order": null,
              "overflow": null,
              "padding": null,
              "right": null,
              "top": null,
              "visibility": null,
              "width": null
            }
          },
          "d2a905665be04464b9ee2cc099a805ff": {
            "model_module": "@jupyter-widgets/base",
            "model_module_version": "2.0.0",
            "model_name": "LayoutModel",
            "state": {
              "_model_module": "@jupyter-widgets/base",
              "_model_module_version": "2.0.0",
              "_model_name": "LayoutModel",
              "_view_count": null,
              "_view_module": "@jupyter-widgets/base",
              "_view_module_version": "2.0.0",
              "_view_name": "LayoutView",
              "align_content": null,
              "align_items": null,
              "align_self": null,
              "border_bottom": null,
              "border_left": null,
              "border_right": null,
              "border_top": null,
              "bottom": null,
              "display": null,
              "flex": "2",
              "flex_flow": null,
              "grid_area": null,
              "grid_auto_columns": null,
              "grid_auto_flow": null,
              "grid_auto_rows": null,
              "grid_column": null,
              "grid_gap": null,
              "grid_row": null,
              "grid_template_areas": null,
              "grid_template_columns": null,
              "grid_template_rows": null,
              "height": null,
              "justify_content": null,
              "justify_items": null,
              "left": null,
              "margin": null,
              "max_height": null,
              "max_width": null,
              "min_height": null,
              "min_width": null,
              "object_fit": null,
              "object_position": null,
              "order": null,
              "overflow": null,
              "padding": null,
              "right": null,
              "top": null,
              "visibility": null,
              "width": null
            }
          },
          "d61a1f6bc2114500bd2010f076ce96d4": {
            "model_module": "@jupyter-widgets/controls",
            "model_module_version": "2.0.0",
            "model_name": "HTMLStyleModel",
            "state": {
              "_model_module": "@jupyter-widgets/controls",
              "_model_module_version": "2.0.0",
              "_model_name": "HTMLStyleModel",
              "_view_count": null,
              "_view_module": "@jupyter-widgets/base",
              "_view_module_version": "2.0.0",
              "_view_name": "StyleView",
              "background": null,
              "description_width": "",
              "font_size": null,
              "text_color": null
            }
          },
          "e968f2f937fa480bbe5f49da6b7c50e3": {
            "model_module": "@jupyter-widgets/controls",
            "model_module_version": "2.0.0",
            "model_name": "HBoxModel",
            "state": {
              "_dom_classes": [],
              "_model_module": "@jupyter-widgets/controls",
              "_model_module_version": "2.0.0",
              "_model_name": "HBoxModel",
              "_view_count": null,
              "_view_module": "@jupyter-widgets/controls",
              "_view_module_version": "2.0.0",
              "_view_name": "HBoxView",
              "box_style": "",
              "children": [
                "IPY_MODEL_7b430e4d58cb4063b07e1c3151623431",
                "IPY_MODEL_6121f8494ecc41a483b445a2590a3411",
                "IPY_MODEL_6e471f1d12f5468b9f2e7680220b831b"
              ],
              "layout": "IPY_MODEL_0bd9462519174edbb456d0c45669b461",
              "tabbable": null,
              "tooltip": null
            }
          }
        },
        "version_major": 2,
        "version_minor": 0
      }
    }
  },
  "nbformat": 4,
  "nbformat_minor": 5
}