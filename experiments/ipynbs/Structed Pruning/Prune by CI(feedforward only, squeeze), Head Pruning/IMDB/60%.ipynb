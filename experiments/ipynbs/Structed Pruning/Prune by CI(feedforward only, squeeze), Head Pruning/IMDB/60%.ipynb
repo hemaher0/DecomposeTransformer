{
 "cells": [
  {
   "cell_type": "code",
   "execution_count": 1,
   "id": "aaa468a1-e488-4f42-9b58-5135ff25828e",
   "metadata": {
    "execution": {
     "iopub.execute_input": "2024-10-19T15:02:18.756720Z",
     "iopub.status.busy": "2024-10-19T15:02:18.756631Z",
     "iopub.status.idle": "2024-10-19T15:02:18.759168Z",
     "shell.execute_reply": "2024-10-19T15:02:18.758655Z"
    },
    "papermill": {
     "duration": 0.013321,
     "end_time": "2024-10-19T15:02:18.760481",
     "exception": false,
     "start_time": "2024-10-19T15:02:18.747160",
     "status": "completed"
    },
    "tags": []
   },
   "outputs": [],
   "source": [
    "import os\n",
    "import sys\n",
    "\n",
    "sys.path.append(\"../../../../../\")\n",
    "os.environ[\"TOKENIZERS_PARALLELISM\"] = \"false\""
   ]
  },
  {
   "cell_type": "code",
   "execution_count": 2,
   "id": "5fe4568f-453b-47e0-82f3-65e8faa03217",
   "metadata": {
    "execution": {
     "iopub.execute_input": "2024-10-19T15:02:18.775891Z",
     "iopub.status.busy": "2024-10-19T15:02:18.775825Z",
     "iopub.status.idle": "2024-10-19T15:02:19.967444Z",
     "shell.execute_reply": "2024-10-19T15:02:19.966961Z"
    },
    "papermill": {
     "duration": 1.196893,
     "end_time": "2024-10-19T15:02:19.968118",
     "exception": false,
     "start_time": "2024-10-19T15:02:18.771225",
     "status": "completed"
    },
    "tags": []
   },
   "outputs": [],
   "source": [
    "import copy\n",
    "import torch\n",
    "from datetime import datetime\n",
    "from src.utils.helper import Config, color_print\n",
    "from src.utils.load import load_model, load_data, save_checkpoint\n",
    "from src.models.evaluate import (\n",
    "    evaluate_model,\n",
    "    get_sparsity,\n",
    "    get_similarity,\n",
    "    get_perplexity,\n",
    ")\n",
    "from src.utils.sampling import SamplingDataset\n",
    "from src.pruning.prune_head import head_importance_prunning\n",
    "from src.pruning.prune import prune_concern_identification\n",
    "from src.utils.helper import report_to_df, append_nth_row"
   ]
  },
  {
   "cell_type": "code",
   "execution_count": 3,
   "id": "d9f37f07-5ec3-482f-b31b-b5d7c5fdeea1",
   "metadata": {
    "execution": {
     "iopub.execute_input": "2024-10-19T15:02:19.977509Z",
     "iopub.status.busy": "2024-10-19T15:02:19.977308Z",
     "iopub.status.idle": "2024-10-19T15:02:19.979758Z",
     "shell.execute_reply": "2024-10-19T15:02:19.979410Z"
    },
    "papermill": {
     "duration": 0.007721,
     "end_time": "2024-10-19T15:02:19.980258",
     "exception": false,
     "start_time": "2024-10-19T15:02:19.972537",
     "status": "completed"
    },
    "tags": []
   },
   "outputs": [],
   "source": [
    "name = \"IMDB\"\n",
    "device = torch.device(\"cuda:0\")\n",
    "checkpoint = None\n",
    "batch_size = 16\n",
    "num_workers = 4\n",
    "num_samples = 16\n",
    "ratio = 0.6\n",
    "seed = 44\n",
    "include_layers = [\"intermediate\", \"output\"]\n",
    "exclude_layers = [\n",
    "    \"attention\",\n",
    "]"
   ]
  },
  {
   "cell_type": "code",
   "execution_count": 4,
   "id": "f220f1c9",
   "metadata": {
    "execution": {
     "iopub.execute_input": "2024-10-19T15:02:19.989069Z",
     "iopub.status.busy": "2024-10-19T15:02:19.988967Z",
     "iopub.status.idle": "2024-10-19T15:02:19.990386Z",
     "shell.execute_reply": "2024-10-19T15:02:19.990246Z"
    },
    "papermill": {
     "duration": 0.006404,
     "end_time": "2024-10-19T15:02:19.990783",
     "exception": false,
     "start_time": "2024-10-19T15:02:19.984379",
     "status": "completed"
    },
    "tags": []
   },
   "outputs": [
    {
     "name": "stdout",
     "output_type": "stream",
     "text": [
      "Script started at: 2024-10-20 00:02:19\n"
     ]
    }
   ],
   "source": [
    "script_start_time = datetime.now()\n",
    "print(f\"Script started at: {script_start_time.strftime('%Y-%m-%d %H:%M:%S')}\")"
   ]
  },
  {
   "cell_type": "code",
   "execution_count": 5,
   "id": "8b80878d",
   "metadata": {
    "execution": {
     "iopub.execute_input": "2024-10-19T15:02:19.999395Z",
     "iopub.status.busy": "2024-10-19T15:02:19.999305Z",
     "iopub.status.idle": "2024-10-19T15:02:21.123946Z",
     "shell.execute_reply": "2024-10-19T15:02:21.123541Z"
    },
    "papermill": {
     "duration": 1.129619,
     "end_time": "2024-10-19T15:02:21.124476",
     "exception": false,
     "start_time": "2024-10-19T15:02:19.994857",
     "status": "completed"
    },
    "tags": []
   },
   "outputs": [
    {
     "name": "stdout",
     "output_type": "stream",
     "text": [
      "Loading the model."
     ]
    },
    {
     "name": "stdout",
     "output_type": "stream",
     "text": [
      "\n"
     ]
    },
    {
     "name": "stdout",
     "output_type": "stream",
     "text": [
      "{"
     ]
    },
    {
     "name": "stdout",
     "output_type": "stream",
     "text": [
      "'architectures'"
     ]
    },
    {
     "name": "stdout",
     "output_type": "stream",
     "text": [
      ": "
     ]
    },
    {
     "name": "stdout",
     "output_type": "stream",
     "text": [
      "'bert'"
     ]
    },
    {
     "name": "stdout",
     "output_type": "stream",
     "text": [
      ",\n",
      " "
     ]
    },
    {
     "name": "stdout",
     "output_type": "stream",
     "text": [
      "'dataset_name'"
     ]
    },
    {
     "name": "stdout",
     "output_type": "stream",
     "text": [
      ": "
     ]
    },
    {
     "name": "stdout",
     "output_type": "stream",
     "text": [
      "'IMDB'"
     ]
    },
    {
     "name": "stdout",
     "output_type": "stream",
     "text": [
      ",\n",
      " "
     ]
    },
    {
     "name": "stdout",
     "output_type": "stream",
     "text": [
      "'model_name'"
     ]
    },
    {
     "name": "stdout",
     "output_type": "stream",
     "text": [
      ": "
     ]
    },
    {
     "name": "stdout",
     "output_type": "stream",
     "text": [
      "'textattack/bert-base-uncased-imdb'"
     ]
    },
    {
     "name": "stdout",
     "output_type": "stream",
     "text": [
      ",\n",
      " "
     ]
    },
    {
     "name": "stdout",
     "output_type": "stream",
     "text": [
      "'num_labels'"
     ]
    },
    {
     "name": "stdout",
     "output_type": "stream",
     "text": [
      ": "
     ]
    },
    {
     "name": "stdout",
     "output_type": "stream",
     "text": [
      "2"
     ]
    },
    {
     "name": "stdout",
     "output_type": "stream",
     "text": [
      ",\n",
      " "
     ]
    },
    {
     "name": "stdout",
     "output_type": "stream",
     "text": [
      "'tokenizer_name'"
     ]
    },
    {
     "name": "stdout",
     "output_type": "stream",
     "text": [
      ": "
     ]
    },
    {
     "name": "stdout",
     "output_type": "stream",
     "text": [
      "'textattack/bert-base-uncased-imdb'"
     ]
    },
    {
     "name": "stdout",
     "output_type": "stream",
     "text": [
      "}"
     ]
    },
    {
     "name": "stdout",
     "output_type": "stream",
     "text": [
      "\n"
     ]
    },
    {
     "name": "stdout",
     "output_type": "stream",
     "text": [
      "The model textattack/bert-base-uncased-imdb is loaded."
     ]
    },
    {
     "name": "stdout",
     "output_type": "stream",
     "text": [
      "\n"
     ]
    }
   ],
   "source": [
    "config = Config(name, device)\n",
    "num_labels = config.config[\"num_labels\"]\n",
    "model = load_model(config)"
   ]
  },
  {
   "cell_type": "code",
   "execution_count": 6,
   "id": "4342410e-aea4-49cf-8fd0-bce28687c7bc",
   "metadata": {
    "execution": {
     "iopub.execute_input": "2024-10-19T15:02:21.134680Z",
     "iopub.status.busy": "2024-10-19T15:02:21.134541Z",
     "iopub.status.idle": "2024-10-19T15:02:23.583273Z",
     "shell.execute_reply": "2024-10-19T15:02:23.583095Z"
    },
    "papermill": {
     "duration": 2.454422,
     "end_time": "2024-10-19T15:02:23.583659",
     "exception": false,
     "start_time": "2024-10-19T15:02:21.129237",
     "status": "completed"
    },
    "tags": []
   },
   "outputs": [
    {
     "name": "stdout",
     "output_type": "stream",
     "text": [
      "Loading cached dataset IMDB."
     ]
    },
    {
     "name": "stdout",
     "output_type": "stream",
     "text": [
      "\n"
     ]
    },
    {
     "name": "stdout",
     "output_type": "stream",
     "text": [
      "train.pkl is loaded from cache."
     ]
    },
    {
     "name": "stdout",
     "output_type": "stream",
     "text": [
      "\n"
     ]
    },
    {
     "name": "stdout",
     "output_type": "stream",
     "text": [
      "valid.pkl is loaded from cache."
     ]
    },
    {
     "name": "stdout",
     "output_type": "stream",
     "text": [
      "\n"
     ]
    },
    {
     "name": "stdout",
     "output_type": "stream",
     "text": [
      "test.pkl is loaded from cache."
     ]
    },
    {
     "name": "stdout",
     "output_type": "stream",
     "text": [
      "\n"
     ]
    },
    {
     "name": "stdout",
     "output_type": "stream",
     "text": [
      "The dataset IMDB is loaded"
     ]
    },
    {
     "name": "stdout",
     "output_type": "stream",
     "text": [
      "\n"
     ]
    },
    {
     "name": "stdout",
     "output_type": "stream",
     "text": [
      "{"
     ]
    },
    {
     "name": "stdout",
     "output_type": "stream",
     "text": [
      "'config_name'"
     ]
    },
    {
     "name": "stdout",
     "output_type": "stream",
     "text": [
      ": "
     ]
    },
    {
     "name": "stdout",
     "output_type": "stream",
     "text": [
      "'plain_text'"
     ]
    },
    {
     "name": "stdout",
     "output_type": "stream",
     "text": [
      ",\n",
      " "
     ]
    },
    {
     "name": "stdout",
     "output_type": "stream",
     "text": [
      "'features'"
     ]
    },
    {
     "name": "stdout",
     "output_type": "stream",
     "text": [
      ": "
     ]
    },
    {
     "name": "stdout",
     "output_type": "stream",
     "text": [
      "{'first_column': 'text', 'second_column': 'label'}"
     ]
    },
    {
     "name": "stdout",
     "output_type": "stream",
     "text": [
      ",\n",
      " "
     ]
    },
    {
     "name": "stdout",
     "output_type": "stream",
     "text": [
      "'path'"
     ]
    },
    {
     "name": "stdout",
     "output_type": "stream",
     "text": [
      ": "
     ]
    },
    {
     "name": "stdout",
     "output_type": "stream",
     "text": [
      "'imdb'"
     ]
    },
    {
     "name": "stdout",
     "output_type": "stream",
     "text": [
      "}"
     ]
    },
    {
     "name": "stdout",
     "output_type": "stream",
     "text": [
      "\n"
     ]
    }
   ],
   "source": [
    "train_dataloader, valid_dataloader, test_dataloader = load_data(\n",
    "    config,\n",
    "    batch_size=batch_size,\n",
    "    num_workers=num_workers,\n",
    "    do_cache=True,\n",
    ")"
   ]
  },
  {
   "cell_type": "code",
   "execution_count": 7,
   "id": "1880e765",
   "metadata": {
    "execution": {
     "iopub.execute_input": "2024-10-19T15:02:23.594379Z",
     "iopub.status.busy": "2024-10-19T15:02:23.594301Z",
     "iopub.status.idle": "2024-10-19T15:02:23.595563Z",
     "shell.execute_reply": "2024-10-19T15:02:23.595414Z"
    },
    "papermill": {
     "duration": 0.007008,
     "end_time": "2024-10-19T15:02:23.595843",
     "exception": false,
     "start_time": "2024-10-19T15:02:23.588835",
     "status": "completed"
    },
    "tags": []
   },
   "outputs": [],
   "source": [
    "# print(\"Evaluate the original model\")\n",
    "# result = evaluate_model(model, config, test_dataloader)"
   ]
  },
  {
   "cell_type": "code",
   "execution_count": null,
   "id": "45fc9ca1",
   "metadata": {
    "papermill": {
     "duration": 0.004748,
     "end_time": "2024-10-19T15:02:23.605496",
     "exception": false,
     "start_time": "2024-10-19T15:02:23.600748",
     "status": "completed"
    },
    "tags": []
   },
   "outputs": [],
   "source": []
  },
  {
   "cell_type": "code",
   "execution_count": 8,
   "id": "badb2497",
   "metadata": {
    "execution": {
     "iopub.execute_input": "2024-10-19T15:02:23.615609Z",
     "iopub.status.busy": "2024-10-19T15:02:23.615542Z",
     "iopub.status.idle": "2024-10-19T15:18:50.571062Z",
     "shell.execute_reply": "2024-10-19T15:18:50.570850Z"
    },
    "papermill": {
     "duration": 986.967949,
     "end_time": "2024-10-19T15:18:50.578161",
     "exception": false,
     "start_time": "2024-10-19T15:02:23.610212",
     "status": "completed"
    },
    "tags": []
   },
   "outputs": [
    {
     "name": "stdout",
     "output_type": "stream",
     "text": [
      "Total heads to prune: 86"
     ]
    },
    {
     "name": "stdout",
     "output_type": "stream",
     "text": [
      "\n"
     ]
    },
    {
     "name": "stdout",
     "output_type": "stream",
     "text": [
      "tensor([[0.5385, 0.4080, 0.4691, 0.5637, 0.5390, 0.4439, 0.5190, 0.4272, 0.4888,\n",
      "         0.4545, 0.6183, 0.3817],\n",
      "        [0.3811, 0.7038, 0.2962, 0.2981, 0.6218, 0.3951, 0.5404, 0.3963, 0.4056,\n",
      "         0.3963, 0.4869, 0.5001],\n",
      "        [0.7018, 0.3968, 0.3042, 0.2946, 0.2830, 0.3394, 0.3822, 0.2859, 0.2958,\n",
      "         0.7170, 0.3353, 0.3565],\n",
      "        [0.5079, 0.3977, 0.3184, 0.5424, 0.3104, 0.6144, 0.3219, 0.4152, 0.3848,\n",
      "         0.6896, 0.4527, 0.5941],\n",
      "        [0.4527, 0.4084, 0.4214, 0.5190, 0.4054, 0.6017, 0.4455, 0.4555, 0.3966,\n",
      "         0.4975, 0.6034, 0.5755],\n",
      "        [0.4534, 0.3214, 0.2436, 0.4015, 0.5182, 0.3032, 0.3531, 0.5374, 0.4019,\n",
      "         0.7564, 0.5319, 0.3514],\n",
      "        [0.4782, 0.3763, 0.4695, 0.4171, 0.4990, 0.6237, 0.5380, 0.4421, 0.5104,\n",
      "         0.5605, 0.4333, 0.6132],\n",
      "        [0.5826, 0.5346, 0.5279, 0.4711, 0.5681, 0.4406, 0.4656, 0.3921, 0.4873,\n",
      "         0.4912, 0.6079, 0.4727],\n",
      "        [0.4072, 0.5928, 0.4339, 0.4284, 0.5270, 0.4948, 0.4331, 0.4388, 0.4204,\n",
      "         0.4844, 0.4105, 0.5235],\n",
      "        [0.5162, 0.4931, 0.5565, 0.4709, 0.3878, 0.6179, 0.4578, 0.4873, 0.5891,\n",
      "         0.3821, 0.4807, 0.5520],\n",
      "        [0.5559, 0.3881, 0.3233, 0.4326, 0.7333, 0.2667, 0.4286, 0.3921, 0.2877,\n",
      "         0.4194, 0.4466, 0.5473],\n",
      "        [0.3565, 0.2755, 0.4344, 0.3514, 0.7182, 0.5158, 0.7245, 0.3184, 0.4352,\n",
      "         0.3709, 0.5437, 0.5094]])"
     ]
    },
    {
     "name": "stdout",
     "output_type": "stream",
     "text": [
      "\n"
     ]
    },
    {
     "name": "stdout",
     "output_type": "stream",
     "text": [
      "{(4, 0), (5, 1), (8, 0), (8, 9), (10, 6), (0, 5), (2, 2), (2, 11), (6, 2), (4, 2), (3, 6), (5, 3), (8, 2), (9, 10), (11, 7), (2, 4), (0, 7), (1, 8), (7, 3), (3, 8), (5, 5), (9, 3), (11, 0), (0, 9), (11, 9), (1, 10), (7, 5), (3, 1), (3, 10), (11, 2), (0, 2), (1, 3), (7, 7), (5, 0), (10, 8), (1, 5), (6, 1), (5, 2), (4, 4), (5, 11), (9, 9), (10, 1), (10, 10), (1, 7), (2, 6), (7, 11), (3, 7), (4, 6), (8, 6), (10, 3), (1, 0), (1, 9), (0, 11), (2, 8), (5, 6), (4, 8), (8, 8), (10, 5), (1, 2), (2, 1), (2, 10), (6, 10), (3, 2), (4, 1), (8, 10), (10, 7), (2, 3), (6, 3), (3, 4), (8, 3), (10, 9), (11, 8), (2, 5), (10, 2), (9, 4), (11, 1), (0, 1), (2, 7), (6, 7), (7, 6), (4, 7), (5, 8), (8, 7), (9, 6), (11, 3), (6, 0)}"
     ]
    },
    {
     "name": "stdout",
     "output_type": "stream",
     "text": [
      "\n"
     ]
    },
    {
     "name": "stdout",
     "output_type": "stream",
     "text": [
      "Evaluate the pruned model 0"
     ]
    },
    {
     "name": "stdout",
     "output_type": "stream",
     "text": [
      "\n"
     ]
    },
    {
     "data": {
      "application/vnd.jupyter.widget-view+json": {
       "model_id": "bdfbade28cfd4456b2f22e72940c765c",
       "version_major": 2,
       "version_minor": 0
      },
      "text/plain": [
       "Evaluating the model:   0%|                                                                               | 0/…"
      ]
     },
     "metadata": {},
     "output_type": "display_data"
    },
    {
     "name": "stdout",
     "output_type": "stream",
     "text": [
      "0.3275692993518973"
     ]
    },
    {
     "name": "stdout",
     "output_type": "stream",
     "text": [
      "\n"
     ]
    },
    {
     "name": "stdout",
     "output_type": "stream",
     "text": [
      "{'bert.encoder.layer.0.attention.self.query.weight': 0.5, 'bert.encoder.layer.0.attention.self.query.bias': 0.0, 'bert.encoder.layer.0.attention.self.key.weight': 0.5, 'bert.encoder.layer.0.attention.self.key.bias': 0.0, 'bert.encoder.layer.0.attention.self.value.weight': 0.5, 'bert.encoder.layer.0.attention.self.value.bias': 0.0, 'bert.encoder.layer.0.attention.output.dense.weight': 0.5, 'bert.encoder.layer.0.attention.output.dense.bias': 0.0, 'bert.encoder.layer.0.intermediate.dense.weight': 0.0, 'bert.encoder.layer.0.intermediate.dense.bias': 0.0, 'bert.encoder.layer.0.output.dense.weight': 0.0, 'bert.encoder.layer.0.output.dense.bias': 0.0, 'bert.encoder.layer.1.attention.self.query.weight': 0.6666666666666666, 'bert.encoder.layer.1.attention.self.query.bias': 0.0, 'bert.encoder.layer.1.attention.self.key.weight': 0.6666666666666666, 'bert.encoder.layer.1.attention.self.key.bias': 0.0, 'bert.encoder.layer.1.attention.self.value.weight': 0.6666666666666666, 'bert.encoder.layer.1.attention.self.value.bias': 0.0, 'bert.encoder.layer.1.attention.output.dense.weight': 0.6666666666666666, 'bert.encoder.layer.1.attention.output.dense.bias': 0.0, 'bert.encoder.layer.1.intermediate.dense.weight': 0.0, 'bert.encoder.layer.1.intermediate.dense.bias': 0.0, 'bert.encoder.layer.1.output.dense.weight': 0.0, 'bert.encoder.layer.1.output.dense.bias': 0.0, 'bert.encoder.layer.2.attention.self.query.weight': 0.8333333333333334, 'bert.encoder.layer.2.attention.self.query.bias': 0.0, 'bert.encoder.layer.2.attention.self.key.weight': 0.8333333333333334, 'bert.encoder.layer.2.attention.self.key.bias': 0.0, 'bert.encoder.layer.2.attention.self.value.weight': 0.8333333333333334, 'bert.encoder.layer.2.attention.self.value.bias': 0.0, 'bert.encoder.layer.2.attention.output.dense.weight': 0.8333333333333334, 'bert.encoder.layer.2.attention.output.dense.bias': 0.0, 'bert.encoder.layer.2.intermediate.dense.weight': 0.0, 'bert.encoder.layer.2.intermediate.dense.bias': 0.0, 'bert.encoder.layer.2.output.dense.weight': 0.0, 'bert.encoder.layer.2.output.dense.bias': 0.0, 'bert.encoder.layer.3.attention.self.query.weight': 0.5833333333333334, 'bert.encoder.layer.3.attention.self.query.bias': 0.0, 'bert.encoder.layer.3.attention.self.key.weight': 0.5833333333333334, 'bert.encoder.layer.3.attention.self.key.bias': 0.0, 'bert.encoder.layer.3.attention.self.value.weight': 0.5833333333333334, 'bert.encoder.layer.3.attention.self.value.bias': 0.0, 'bert.encoder.layer.3.attention.output.dense.weight': 0.5833333333333334, 'bert.encoder.layer.3.attention.output.dense.bias': 0.0, 'bert.encoder.layer.3.intermediate.dense.weight': 0.0, 'bert.encoder.layer.3.intermediate.dense.bias': 0.0, 'bert.encoder.layer.3.output.dense.weight': 0.0, 'bert.encoder.layer.3.output.dense.bias': 0.0, 'bert.encoder.layer.4.attention.self.query.weight': 0.5833333333333334, 'bert.encoder.layer.4.attention.self.query.bias': 0.0, 'bert.encoder.layer.4.attention.self.key.weight': 0.5833333333333334, 'bert.encoder.layer.4.attention.self.key.bias': 0.0, 'bert.encoder.layer.4.attention.self.value.weight': 0.5833333333333334, 'bert.encoder.layer.4.attention.self.value.bias': 0.0, 'bert.encoder.layer.4.attention.output.dense.weight': 0.5833333333333334, 'bert.encoder.layer.4.attention.output.dense.bias': 0.0, 'bert.encoder.layer.4.intermediate.dense.weight': 0.0, 'bert.encoder.layer.4.intermediate.dense.bias': 0.0, 'bert.encoder.layer.4.output.dense.weight': 0.0, 'bert.encoder.layer.4.output.dense.bias': 0.0, 'bert.encoder.layer.5.attention.self.query.weight': 0.6666666666666666, 'bert.encoder.layer.5.attention.self.query.bias': 0.0, 'bert.encoder.layer.5.attention.self.key.weight': 0.6666666666666666, 'bert.encoder.layer.5.attention.self.key.bias': 0.0, 'bert.encoder.layer.5.attention.self.value.weight': 0.6666666666666666, 'bert.encoder.layer.5.attention.self.value.bias': 0.0, 'bert.encoder.layer.5.attention.output.dense.weight': 0.6666666666666666, 'bert.encoder.layer.5.attention.output.dense.bias': 0.0, 'bert.encoder.layer.5.intermediate.dense.weight': 0.0, 'bert.encoder.layer.5.intermediate.dense.bias': 0.0, 'bert.encoder.layer.5.output.dense.weight': 0.0, 'bert.encoder.layer.5.output.dense.bias': 0.0, 'bert.encoder.layer.6.attention.self.query.weight': 0.5, 'bert.encoder.layer.6.attention.self.query.bias': 0.0, 'bert.encoder.layer.6.attention.self.key.weight': 0.5, 'bert.encoder.layer.6.attention.self.key.bias': 0.0, 'bert.encoder.layer.6.attention.self.value.weight': 0.5, 'bert.encoder.layer.6.attention.self.value.bias': 0.0, 'bert.encoder.layer.6.attention.output.dense.weight': 0.5, 'bert.encoder.layer.6.attention.output.dense.bias': 0.0, 'bert.encoder.layer.6.intermediate.dense.weight': 0.0, 'bert.encoder.layer.6.intermediate.dense.bias': 0.0, 'bert.encoder.layer.6.output.dense.weight': 0.0, 'bert.encoder.layer.6.output.dense.bias': 0.0, 'bert.encoder.layer.7.attention.self.query.weight': 0.4166666666666667, 'bert.encoder.layer.7.attention.self.query.bias': 0.0, 'bert.encoder.layer.7.attention.self.key.weight': 0.4166666666666667, 'bert.encoder.layer.7.attention.self.key.bias': 0.0, 'bert.encoder.layer.7.attention.self.value.weight': 0.4166666666666667, 'bert.encoder.layer.7.attention.self.value.bias': 0.0, 'bert.encoder.layer.7.attention.output.dense.weight': 0.4166666666666667, 'bert.encoder.layer.7.attention.output.dense.bias': 0.0, 'bert.encoder.layer.7.intermediate.dense.weight': 0.0, 'bert.encoder.layer.7.intermediate.dense.bias': 0.0, 'bert.encoder.layer.7.output.dense.weight': 0.0, 'bert.encoder.layer.7.output.dense.bias': 0.0, 'bert.encoder.layer.8.attention.self.query.weight': 0.6666666666666666, 'bert.encoder.layer.8.attention.self.query.bias': 0.0, 'bert.encoder.layer.8.attention.self.key.weight': 0.6666666666666666, 'bert.encoder.layer.8.attention.self.key.bias': 0.0, 'bert.encoder.layer.8.attention.self.value.weight': 0.6666666666666666, 'bert.encoder.layer.8.attention.self.value.bias': 0.0, 'bert.encoder.layer.8.attention.output.dense.weight': 0.6666666666666666, 'bert.encoder.layer.8.attention.output.dense.bias': 0.0, 'bert.encoder.layer.8.intermediate.dense.weight': 0.0, 'bert.encoder.layer.8.intermediate.dense.bias': 0.0, 'bert.encoder.layer.8.output.dense.weight': 0.0, 'bert.encoder.layer.8.output.dense.bias': 0.0, 'bert.encoder.layer.9.attention.self.query.weight': 0.4166666666666667, 'bert.encoder.layer.9.attention.self.query.bias': 0.0, 'bert.encoder.layer.9.attention.self.key.weight': 0.4166666666666667, 'bert.encoder.layer.9.attention.self.key.bias': 0.0, 'bert.encoder.layer.9.attention.self.value.weight': 0.4166666666666667, 'bert.encoder.layer.9.attention.self.value.bias': 0.0, 'bert.encoder.layer.9.attention.output.dense.weight': 0.4166666666666667, 'bert.encoder.layer.9.attention.output.dense.bias': 0.0, 'bert.encoder.layer.9.intermediate.dense.weight': 0.0, 'bert.encoder.layer.9.intermediate.dense.bias': 0.0, 'bert.encoder.layer.9.output.dense.weight': 0.0, 'bert.encoder.layer.9.output.dense.bias': 0.0, 'bert.encoder.layer.10.attention.self.query.weight': 0.75, 'bert.encoder.layer.10.attention.self.query.bias': 0.0, 'bert.encoder.layer.10.attention.self.key.weight': 0.75, 'bert.encoder.layer.10.attention.self.key.bias': 0.0, 'bert.encoder.layer.10.attention.self.value.weight': 0.75, 'bert.encoder.layer.10.attention.self.value.bias': 0.0, 'bert.encoder.layer.10.attention.output.dense.weight': 0.75, 'bert.encoder.layer.10.attention.output.dense.bias': 0.0, 'bert.encoder.layer.10.intermediate.dense.weight': 0.0, 'bert.encoder.layer.10.intermediate.dense.bias': 0.0, 'bert.encoder.layer.10.output.dense.weight': 0.0, 'bert.encoder.layer.10.output.dense.bias': 0.0, 'bert.encoder.layer.11.attention.self.query.weight': 0.5833333333333334, 'bert.encoder.layer.11.attention.self.query.bias': 0.0, 'bert.encoder.layer.11.attention.self.key.weight': 0.5833333333333334, 'bert.encoder.layer.11.attention.self.key.bias': 0.0, 'bert.encoder.layer.11.attention.self.value.weight': 0.5833333333333334, 'bert.encoder.layer.11.attention.self.value.bias': 0.0, 'bert.encoder.layer.11.attention.output.dense.weight': 0.5833333333333334, 'bert.encoder.layer.11.attention.output.dense.bias': 0.0, 'bert.encoder.layer.11.intermediate.dense.weight': 0.0, 'bert.encoder.layer.11.intermediate.dense.bias': 0.0, 'bert.encoder.layer.11.output.dense.weight': 0.0, 'bert.encoder.layer.11.output.dense.bias': 0.0, 'bert.pooler.dense.weight': 0.0, 'bert.pooler.dense.bias': 0.0, 'classifier.weight': 0.0, 'classifier.bias': 0.0}"
     ]
    },
    {
     "name": "stdout",
     "output_type": "stream",
     "text": [
      "\n"
     ]
    },
    {
     "name": "stdout",
     "output_type": "stream",
     "text": [
      "adding eps to diagonal and taking inverse"
     ]
    },
    {
     "name": "stdout",
     "output_type": "stream",
     "text": [
      "\n"
     ]
    },
    {
     "name": "stdout",
     "output_type": "stream",
     "text": [
      "taking square root"
     ]
    },
    {
     "name": "stdout",
     "output_type": "stream",
     "text": [
      "\n"
     ]
    },
    {
     "name": "stdout",
     "output_type": "stream",
     "text": [
      "dot products..."
     ]
    },
    {
     "name": "stdout",
     "output_type": "stream",
     "text": [
      "\n"
     ]
    },
    {
     "name": "stdout",
     "output_type": "stream",
     "text": [
      "trying to take final svd"
     ]
    },
    {
     "name": "stdout",
     "output_type": "stream",
     "text": [
      "\n"
     ]
    },
    {
     "name": "stdout",
     "output_type": "stream",
     "text": [
      "computed everything!"
     ]
    },
    {
     "name": "stdout",
     "output_type": "stream",
     "text": [
      "\n"
     ]
    },
    {
     "name": "stdout",
     "output_type": "stream",
     "text": [
      "adding eps to diagonal and taking inverse"
     ]
    },
    {
     "name": "stdout",
     "output_type": "stream",
     "text": [
      "\n"
     ]
    },
    {
     "name": "stdout",
     "output_type": "stream",
     "text": [
      "taking square root"
     ]
    },
    {
     "name": "stdout",
     "output_type": "stream",
     "text": [
      "\n"
     ]
    },
    {
     "name": "stdout",
     "output_type": "stream",
     "text": [
      "dot products..."
     ]
    },
    {
     "name": "stdout",
     "output_type": "stream",
     "text": [
      "\n"
     ]
    },
    {
     "name": "stdout",
     "output_type": "stream",
     "text": [
      "trying to take final svd"
     ]
    },
    {
     "name": "stdout",
     "output_type": "stream",
     "text": [
      "\n"
     ]
    },
    {
     "name": "stdout",
     "output_type": "stream",
     "text": [
      "computed everything!"
     ]
    },
    {
     "name": "stdout",
     "output_type": "stream",
     "text": [
      "\n"
     ]
    },
    {
     "name": "stdout",
     "output_type": "stream",
     "text": [
      "CCA coefficients mean concern: 0.48309621996906355"
     ]
    },
    {
     "name": "stdout",
     "output_type": "stream",
     "text": [
      "\n"
     ]
    },
    {
     "name": "stdout",
     "output_type": "stream",
     "text": [
      "CCA coefficients mean non-concern: 0.4770790493392562"
     ]
    },
    {
     "name": "stdout",
     "output_type": "stream",
     "text": [
      "\n"
     ]
    },
    {
     "name": "stdout",
     "output_type": "stream",
     "text": [
      "Linear CKA concern: 0.20383617710124047"
     ]
    },
    {
     "name": "stdout",
     "output_type": "stream",
     "text": [
      "\n"
     ]
    },
    {
     "name": "stdout",
     "output_type": "stream",
     "text": [
      "Linear CKA non-concern: 0.17129765874715963"
     ]
    },
    {
     "name": "stdout",
     "output_type": "stream",
     "text": [
      "\n"
     ]
    },
    {
     "name": "stdout",
     "output_type": "stream",
     "text": [
      "Kernel CKA concern: 0.06881655119466627"
     ]
    },
    {
     "name": "stdout",
     "output_type": "stream",
     "text": [
      "\n"
     ]
    },
    {
     "name": "stdout",
     "output_type": "stream",
     "text": [
      "Kernel CKA non-concern: 0.05071487187173964"
     ]
    },
    {
     "name": "stdout",
     "output_type": "stream",
     "text": [
      "\n"
     ]
    },
    {
     "name": "stdout",
     "output_type": "stream",
     "text": [
      "original model's perplexity"
     ]
    },
    {
     "name": "stdout",
     "output_type": "stream",
     "text": [
      "\n"
     ]
    },
    {
     "name": "stdout",
     "output_type": "stream",
     "text": [
      "1.0879530906677246"
     ]
    },
    {
     "name": "stdout",
     "output_type": "stream",
     "text": [
      "\n"
     ]
    },
    {
     "name": "stdout",
     "output_type": "stream",
     "text": [
      "pruned model's perplexity"
     ]
    },
    {
     "name": "stdout",
     "output_type": "stream",
     "text": [
      "\n"
     ]
    },
    {
     "name": "stdout",
     "output_type": "stream",
     "text": [
      "2.006338119506836"
     ]
    },
    {
     "name": "stdout",
     "output_type": "stream",
     "text": [
      "\n"
     ]
    },
    {
     "name": "stdout",
     "output_type": "stream",
     "text": [
      "Total heads to prune: 86"
     ]
    },
    {
     "name": "stdout",
     "output_type": "stream",
     "text": [
      "\n"
     ]
    },
    {
     "name": "stdout",
     "output_type": "stream",
     "text": [
      "tensor([[0.5385, 0.4080, 0.4691, 0.5637, 0.5390, 0.4439, 0.5190, 0.4272, 0.4888,\n",
      "         0.4545, 0.6183, 0.3817],\n",
      "        [0.3811, 0.7038, 0.2962, 0.2981, 0.6218, 0.3951, 0.5404, 0.3963, 0.4056,\n",
      "         0.3963, 0.4869, 0.5001],\n",
      "        [0.7018, 0.3968, 0.3042, 0.2946, 0.2830, 0.3394, 0.3822, 0.2859, 0.2958,\n",
      "         0.7170, 0.3353, 0.3565],\n",
      "        [0.5079, 0.3977, 0.3184, 0.5424, 0.3104, 0.6144, 0.3219, 0.4152, 0.3848,\n",
      "         0.6896, 0.4527, 0.5941],\n",
      "        [0.4527, 0.4084, 0.4214, 0.5190, 0.4054, 0.6017, 0.4455, 0.4555, 0.3966,\n",
      "         0.4975, 0.6034, 0.5755],\n",
      "        [0.4534, 0.3214, 0.2436, 0.4015, 0.5182, 0.3032, 0.3531, 0.5374, 0.4019,\n",
      "         0.7564, 0.5319, 0.3514],\n",
      "        [0.4782, 0.3763, 0.4695, 0.4171, 0.4990, 0.6237, 0.5380, 0.4421, 0.5104,\n",
      "         0.5605, 0.4333, 0.6132],\n",
      "        [0.5826, 0.5346, 0.5279, 0.4711, 0.5681, 0.4406, 0.4656, 0.3921, 0.4873,\n",
      "         0.4912, 0.6079, 0.4727],\n",
      "        [0.4072, 0.5928, 0.4339, 0.4284, 0.5270, 0.4948, 0.4331, 0.4388, 0.4204,\n",
      "         0.4844, 0.4105, 0.5235],\n",
      "        [0.5162, 0.4931, 0.5565, 0.4709, 0.3878, 0.6179, 0.4578, 0.4873, 0.5891,\n",
      "         0.3821, 0.4807, 0.5520],\n",
      "        [0.5559, 0.3881, 0.3233, 0.4326, 0.7333, 0.2667, 0.4286, 0.3921, 0.2877,\n",
      "         0.4194, 0.4466, 0.5473],\n",
      "        [0.3565, 0.2755, 0.4344, 0.3514, 0.7182, 0.5158, 0.7245, 0.3184, 0.4352,\n",
      "         0.3709, 0.5437, 0.5094]])"
     ]
    },
    {
     "name": "stdout",
     "output_type": "stream",
     "text": [
      "\n"
     ]
    },
    {
     "name": "stdout",
     "output_type": "stream",
     "text": [
      "{(4, 0), (5, 1), (8, 0), (8, 9), (10, 6), (0, 5), (2, 2), (2, 11), (6, 2), (4, 2), (3, 6), (5, 3), (8, 2), (9, 10), (11, 7), (2, 4), (0, 7), (1, 8), (7, 3), (3, 8), (5, 5), (9, 3), (11, 0), (0, 9), (11, 9), (1, 10), (7, 5), (3, 1), (3, 10), (11, 2), (0, 2), (1, 3), (7, 7), (5, 0), (10, 8), (1, 5), (6, 1), (5, 2), (4, 4), (5, 11), (9, 9), (10, 1), (10, 10), (1, 7), (2, 6), (7, 11), (3, 7), (4, 6), (8, 6), (10, 3), (1, 0), (1, 9), (0, 11), (2, 8), (5, 6), (4, 8), (8, 8), (10, 5), (1, 2), (2, 1), (2, 10), (6, 10), (3, 2), (4, 1), (8, 10), (10, 7), (2, 3), (6, 3), (3, 4), (8, 3), (10, 9), (11, 8), (2, 5), (10, 2), (9, 4), (11, 1), (0, 1), (2, 7), (6, 7), (7, 6), (4, 7), (5, 8), (8, 7), (9, 6), (11, 3), (6, 0)}"
     ]
    },
    {
     "name": "stdout",
     "output_type": "stream",
     "text": [
      "\n"
     ]
    },
    {
     "name": "stdout",
     "output_type": "stream",
     "text": [
      "Evaluate the pruned model 1"
     ]
    },
    {
     "name": "stdout",
     "output_type": "stream",
     "text": [
      "\n"
     ]
    },
    {
     "data": {
      "application/vnd.jupyter.widget-view+json": {
       "model_id": "e742b74d9bb74b9bb2220fe77e1fa493",
       "version_major": 2,
       "version_minor": 0
      },
      "text/plain": [
       "Evaluating the model:   0%|                                                                               | 0/…"
      ]
     },
     "metadata": {},
     "output_type": "display_data"
    },
    {
     "name": "stdout",
     "output_type": "stream",
     "text": [
      "0.3275692993518973"
     ]
    },
    {
     "name": "stdout",
     "output_type": "stream",
     "text": [
      "\n"
     ]
    },
    {
     "name": "stdout",
     "output_type": "stream",
     "text": [
      "{'bert.encoder.layer.0.attention.self.query.weight': 0.5, 'bert.encoder.layer.0.attention.self.query.bias': 0.0, 'bert.encoder.layer.0.attention.self.key.weight': 0.5, 'bert.encoder.layer.0.attention.self.key.bias': 0.0, 'bert.encoder.layer.0.attention.self.value.weight': 0.5, 'bert.encoder.layer.0.attention.self.value.bias': 0.0, 'bert.encoder.layer.0.attention.output.dense.weight': 0.5, 'bert.encoder.layer.0.attention.output.dense.bias': 0.0, 'bert.encoder.layer.0.intermediate.dense.weight': 0.0, 'bert.encoder.layer.0.intermediate.dense.bias': 0.0, 'bert.encoder.layer.0.output.dense.weight': 0.0, 'bert.encoder.layer.0.output.dense.bias': 0.0, 'bert.encoder.layer.1.attention.self.query.weight': 0.6666666666666666, 'bert.encoder.layer.1.attention.self.query.bias': 0.0, 'bert.encoder.layer.1.attention.self.key.weight': 0.6666666666666666, 'bert.encoder.layer.1.attention.self.key.bias': 0.0, 'bert.encoder.layer.1.attention.self.value.weight': 0.6666666666666666, 'bert.encoder.layer.1.attention.self.value.bias': 0.0, 'bert.encoder.layer.1.attention.output.dense.weight': 0.6666666666666666, 'bert.encoder.layer.1.attention.output.dense.bias': 0.0, 'bert.encoder.layer.1.intermediate.dense.weight': 0.0, 'bert.encoder.layer.1.intermediate.dense.bias': 0.0, 'bert.encoder.layer.1.output.dense.weight': 0.0, 'bert.encoder.layer.1.output.dense.bias': 0.0, 'bert.encoder.layer.2.attention.self.query.weight': 0.8333333333333334, 'bert.encoder.layer.2.attention.self.query.bias': 0.0, 'bert.encoder.layer.2.attention.self.key.weight': 0.8333333333333334, 'bert.encoder.layer.2.attention.self.key.bias': 0.0, 'bert.encoder.layer.2.attention.self.value.weight': 0.8333333333333334, 'bert.encoder.layer.2.attention.self.value.bias': 0.0, 'bert.encoder.layer.2.attention.output.dense.weight': 0.8333333333333334, 'bert.encoder.layer.2.attention.output.dense.bias': 0.0, 'bert.encoder.layer.2.intermediate.dense.weight': 0.0, 'bert.encoder.layer.2.intermediate.dense.bias': 0.0, 'bert.encoder.layer.2.output.dense.weight': 0.0, 'bert.encoder.layer.2.output.dense.bias': 0.0, 'bert.encoder.layer.3.attention.self.query.weight': 0.5833333333333334, 'bert.encoder.layer.3.attention.self.query.bias': 0.0, 'bert.encoder.layer.3.attention.self.key.weight': 0.5833333333333334, 'bert.encoder.layer.3.attention.self.key.bias': 0.0, 'bert.encoder.layer.3.attention.self.value.weight': 0.5833333333333334, 'bert.encoder.layer.3.attention.self.value.bias': 0.0, 'bert.encoder.layer.3.attention.output.dense.weight': 0.5833333333333334, 'bert.encoder.layer.3.attention.output.dense.bias': 0.0, 'bert.encoder.layer.3.intermediate.dense.weight': 0.0, 'bert.encoder.layer.3.intermediate.dense.bias': 0.0, 'bert.encoder.layer.3.output.dense.weight': 0.0, 'bert.encoder.layer.3.output.dense.bias': 0.0, 'bert.encoder.layer.4.attention.self.query.weight': 0.5833333333333334, 'bert.encoder.layer.4.attention.self.query.bias': 0.0, 'bert.encoder.layer.4.attention.self.key.weight': 0.5833333333333334, 'bert.encoder.layer.4.attention.self.key.bias': 0.0, 'bert.encoder.layer.4.attention.self.value.weight': 0.5833333333333334, 'bert.encoder.layer.4.attention.self.value.bias': 0.0, 'bert.encoder.layer.4.attention.output.dense.weight': 0.5833333333333334, 'bert.encoder.layer.4.attention.output.dense.bias': 0.0, 'bert.encoder.layer.4.intermediate.dense.weight': 0.0, 'bert.encoder.layer.4.intermediate.dense.bias': 0.0, 'bert.encoder.layer.4.output.dense.weight': 0.0, 'bert.encoder.layer.4.output.dense.bias': 0.0, 'bert.encoder.layer.5.attention.self.query.weight': 0.6666666666666666, 'bert.encoder.layer.5.attention.self.query.bias': 0.0, 'bert.encoder.layer.5.attention.self.key.weight': 0.6666666666666666, 'bert.encoder.layer.5.attention.self.key.bias': 0.0, 'bert.encoder.layer.5.attention.self.value.weight': 0.6666666666666666, 'bert.encoder.layer.5.attention.self.value.bias': 0.0, 'bert.encoder.layer.5.attention.output.dense.weight': 0.6666666666666666, 'bert.encoder.layer.5.attention.output.dense.bias': 0.0, 'bert.encoder.layer.5.intermediate.dense.weight': 0.0, 'bert.encoder.layer.5.intermediate.dense.bias': 0.0, 'bert.encoder.layer.5.output.dense.weight': 0.0, 'bert.encoder.layer.5.output.dense.bias': 0.0, 'bert.encoder.layer.6.attention.self.query.weight': 0.5, 'bert.encoder.layer.6.attention.self.query.bias': 0.0, 'bert.encoder.layer.6.attention.self.key.weight': 0.5, 'bert.encoder.layer.6.attention.self.key.bias': 0.0, 'bert.encoder.layer.6.attention.self.value.weight': 0.5, 'bert.encoder.layer.6.attention.self.value.bias': 0.0, 'bert.encoder.layer.6.attention.output.dense.weight': 0.5, 'bert.encoder.layer.6.attention.output.dense.bias': 0.0, 'bert.encoder.layer.6.intermediate.dense.weight': 0.0, 'bert.encoder.layer.6.intermediate.dense.bias': 0.0, 'bert.encoder.layer.6.output.dense.weight': 0.0, 'bert.encoder.layer.6.output.dense.bias': 0.0, 'bert.encoder.layer.7.attention.self.query.weight': 0.4166666666666667, 'bert.encoder.layer.7.attention.self.query.bias': 0.0, 'bert.encoder.layer.7.attention.self.key.weight': 0.4166666666666667, 'bert.encoder.layer.7.attention.self.key.bias': 0.0, 'bert.encoder.layer.7.attention.self.value.weight': 0.4166666666666667, 'bert.encoder.layer.7.attention.self.value.bias': 0.0, 'bert.encoder.layer.7.attention.output.dense.weight': 0.4166666666666667, 'bert.encoder.layer.7.attention.output.dense.bias': 0.0, 'bert.encoder.layer.7.intermediate.dense.weight': 0.0, 'bert.encoder.layer.7.intermediate.dense.bias': 0.0, 'bert.encoder.layer.7.output.dense.weight': 0.0, 'bert.encoder.layer.7.output.dense.bias': 0.0, 'bert.encoder.layer.8.attention.self.query.weight': 0.6666666666666666, 'bert.encoder.layer.8.attention.self.query.bias': 0.0, 'bert.encoder.layer.8.attention.self.key.weight': 0.6666666666666666, 'bert.encoder.layer.8.attention.self.key.bias': 0.0, 'bert.encoder.layer.8.attention.self.value.weight': 0.6666666666666666, 'bert.encoder.layer.8.attention.self.value.bias': 0.0, 'bert.encoder.layer.8.attention.output.dense.weight': 0.6666666666666666, 'bert.encoder.layer.8.attention.output.dense.bias': 0.0, 'bert.encoder.layer.8.intermediate.dense.weight': 0.0, 'bert.encoder.layer.8.intermediate.dense.bias': 0.0, 'bert.encoder.layer.8.output.dense.weight': 0.0, 'bert.encoder.layer.8.output.dense.bias': 0.0, 'bert.encoder.layer.9.attention.self.query.weight': 0.4166666666666667, 'bert.encoder.layer.9.attention.self.query.bias': 0.0, 'bert.encoder.layer.9.attention.self.key.weight': 0.4166666666666667, 'bert.encoder.layer.9.attention.self.key.bias': 0.0, 'bert.encoder.layer.9.attention.self.value.weight': 0.4166666666666667, 'bert.encoder.layer.9.attention.self.value.bias': 0.0, 'bert.encoder.layer.9.attention.output.dense.weight': 0.4166666666666667, 'bert.encoder.layer.9.attention.output.dense.bias': 0.0, 'bert.encoder.layer.9.intermediate.dense.weight': 0.0, 'bert.encoder.layer.9.intermediate.dense.bias': 0.0, 'bert.encoder.layer.9.output.dense.weight': 0.0, 'bert.encoder.layer.9.output.dense.bias': 0.0, 'bert.encoder.layer.10.attention.self.query.weight': 0.75, 'bert.encoder.layer.10.attention.self.query.bias': 0.0, 'bert.encoder.layer.10.attention.self.key.weight': 0.75, 'bert.encoder.layer.10.attention.self.key.bias': 0.0, 'bert.encoder.layer.10.attention.self.value.weight': 0.75, 'bert.encoder.layer.10.attention.self.value.bias': 0.0, 'bert.encoder.layer.10.attention.output.dense.weight': 0.75, 'bert.encoder.layer.10.attention.output.dense.bias': 0.0, 'bert.encoder.layer.10.intermediate.dense.weight': 0.0, 'bert.encoder.layer.10.intermediate.dense.bias': 0.0, 'bert.encoder.layer.10.output.dense.weight': 0.0, 'bert.encoder.layer.10.output.dense.bias': 0.0, 'bert.encoder.layer.11.attention.self.query.weight': 0.5833333333333334, 'bert.encoder.layer.11.attention.self.query.bias': 0.0, 'bert.encoder.layer.11.attention.self.key.weight': 0.5833333333333334, 'bert.encoder.layer.11.attention.self.key.bias': 0.0, 'bert.encoder.layer.11.attention.self.value.weight': 0.5833333333333334, 'bert.encoder.layer.11.attention.self.value.bias': 0.0, 'bert.encoder.layer.11.attention.output.dense.weight': 0.5833333333333334, 'bert.encoder.layer.11.attention.output.dense.bias': 0.0, 'bert.encoder.layer.11.intermediate.dense.weight': 0.0, 'bert.encoder.layer.11.intermediate.dense.bias': 0.0, 'bert.encoder.layer.11.output.dense.weight': 0.0, 'bert.encoder.layer.11.output.dense.bias': 0.0, 'bert.pooler.dense.weight': 0.0, 'bert.pooler.dense.bias': 0.0, 'classifier.weight': 0.0, 'classifier.bias': 0.0}"
     ]
    },
    {
     "name": "stdout",
     "output_type": "stream",
     "text": [
      "\n"
     ]
    },
    {
     "name": "stdout",
     "output_type": "stream",
     "text": [
      "adding eps to diagonal and taking inverse"
     ]
    },
    {
     "name": "stdout",
     "output_type": "stream",
     "text": [
      "\n"
     ]
    },
    {
     "name": "stdout",
     "output_type": "stream",
     "text": [
      "taking square root"
     ]
    },
    {
     "name": "stdout",
     "output_type": "stream",
     "text": [
      "\n"
     ]
    },
    {
     "name": "stdout",
     "output_type": "stream",
     "text": [
      "dot products..."
     ]
    },
    {
     "name": "stdout",
     "output_type": "stream",
     "text": [
      "\n"
     ]
    },
    {
     "name": "stdout",
     "output_type": "stream",
     "text": [
      "trying to take final svd"
     ]
    },
    {
     "name": "stdout",
     "output_type": "stream",
     "text": [
      "\n"
     ]
    },
    {
     "name": "stdout",
     "output_type": "stream",
     "text": [
      "computed everything!"
     ]
    },
    {
     "name": "stdout",
     "output_type": "stream",
     "text": [
      "\n"
     ]
    },
    {
     "name": "stdout",
     "output_type": "stream",
     "text": [
      "adding eps to diagonal and taking inverse"
     ]
    },
    {
     "name": "stdout",
     "output_type": "stream",
     "text": [
      "\n"
     ]
    },
    {
     "name": "stdout",
     "output_type": "stream",
     "text": [
      "taking square root"
     ]
    },
    {
     "name": "stdout",
     "output_type": "stream",
     "text": [
      "\n"
     ]
    },
    {
     "name": "stdout",
     "output_type": "stream",
     "text": [
      "dot products..."
     ]
    },
    {
     "name": "stdout",
     "output_type": "stream",
     "text": [
      "\n"
     ]
    },
    {
     "name": "stdout",
     "output_type": "stream",
     "text": [
      "trying to take final svd"
     ]
    },
    {
     "name": "stdout",
     "output_type": "stream",
     "text": [
      "\n"
     ]
    },
    {
     "name": "stdout",
     "output_type": "stream",
     "text": [
      "computed everything!"
     ]
    },
    {
     "name": "stdout",
     "output_type": "stream",
     "text": [
      "\n"
     ]
    },
    {
     "name": "stdout",
     "output_type": "stream",
     "text": [
      "CCA coefficients mean concern: 0.4770228068030268"
     ]
    },
    {
     "name": "stdout",
     "output_type": "stream",
     "text": [
      "\n"
     ]
    },
    {
     "name": "stdout",
     "output_type": "stream",
     "text": [
      "CCA coefficients mean non-concern: 0.4830501236733592"
     ]
    },
    {
     "name": "stdout",
     "output_type": "stream",
     "text": [
      "\n"
     ]
    },
    {
     "name": "stdout",
     "output_type": "stream",
     "text": [
      "Linear CKA concern: 0.17223686783413647"
     ]
    },
    {
     "name": "stdout",
     "output_type": "stream",
     "text": [
      "\n"
     ]
    },
    {
     "name": "stdout",
     "output_type": "stream",
     "text": [
      "Linear CKA non-concern: 0.20281352771365405"
     ]
    },
    {
     "name": "stdout",
     "output_type": "stream",
     "text": [
      "\n"
     ]
    },
    {
     "name": "stdout",
     "output_type": "stream",
     "text": [
      "Kernel CKA concern: 0.05195953988190124"
     ]
    },
    {
     "name": "stdout",
     "output_type": "stream",
     "text": [
      "\n"
     ]
    },
    {
     "name": "stdout",
     "output_type": "stream",
     "text": [
      "Kernel CKA non-concern: 0.06695865134512466"
     ]
    },
    {
     "name": "stdout",
     "output_type": "stream",
     "text": [
      "\n"
     ]
    },
    {
     "name": "stdout",
     "output_type": "stream",
     "text": [
      "original model's perplexity"
     ]
    },
    {
     "name": "stdout",
     "output_type": "stream",
     "text": [
      "\n"
     ]
    },
    {
     "name": "stdout",
     "output_type": "stream",
     "text": [
      "1.0879530906677246"
     ]
    },
    {
     "name": "stdout",
     "output_type": "stream",
     "text": [
      "\n"
     ]
    },
    {
     "name": "stdout",
     "output_type": "stream",
     "text": [
      "pruned model's perplexity"
     ]
    },
    {
     "name": "stdout",
     "output_type": "stream",
     "text": [
      "\n"
     ]
    },
    {
     "name": "stdout",
     "output_type": "stream",
     "text": [
      "2.008406162261963"
     ]
    },
    {
     "name": "stdout",
     "output_type": "stream",
     "text": [
      "\n"
     ]
    }
   ],
   "source": [
    "result_list = []\n",
    "\n",
    "for concern in range(config.num_labels):\n",
    "    config.init_seed()\n",
    "    positive_samples = SamplingDataset(\n",
    "        train_dataloader,\n",
    "        config,\n",
    "        concern,\n",
    "        num_samples,\n",
    "        True,\n",
    "        4,\n",
    "        resample=False,\n",
    "    )\n",
    "    negative_samples = SamplingDataset(\n",
    "        train_dataloader,\n",
    "        config,\n",
    "        concern,\n",
    "        num_samples,\n",
    "        False,\n",
    "        4,\n",
    "        resample=False,\n",
    "    )\n",
    "    all_samples = SamplingDataset(\n",
    "        train_dataloader,\n",
    "        config,\n",
    "        200,\n",
    "        num_samples,\n",
    "        False,\n",
    "        4,\n",
    "        resample=False,\n",
    "    )\n",
    "\n",
    "    module = copy.deepcopy(model)\n",
    "\n",
    "    head_importance_prunning(module, config, all_samples, ratio)\n",
    "\n",
    "    prune_concern_identification(\n",
    "        module,\n",
    "        config,\n",
    "        positive_samples,\n",
    "        negative_samples,\n",
    "        include_layers=include_layers,\n",
    "        exclude_layers=exclude_layers,\n",
    "        sparsity_ratio=ratio,\n",
    "        keep_dim=False,\n",
    "        method=\"structed\",\n",
    "    )\n",
    "\n",
    "    print(f\"Evaluate the pruned model {concern}\")\n",
    "    result = evaluate_model(module, config, test_dataloader, verbose=True)\n",
    "    result_list.append(result)\n",
    "    get_sparsity(module)\n",
    "\n",
    "    get_similarity(model, module, valid_dataloader, concern, num_samples, config)\n",
    "    print(\"original model's perplexity\")\n",
    "    get_perplexity(model, valid_dataloader, config)\n",
    "    print(\"pruned model's perplexity\")\n",
    "    get_perplexity(module, valid_dataloader, config)"
   ]
  },
  {
   "cell_type": "code",
   "execution_count": 9,
   "id": "f182934e",
   "metadata": {
    "execution": {
     "iopub.execute_input": "2024-10-19T15:18:50.591983Z",
     "iopub.status.busy": "2024-10-19T15:18:50.591795Z",
     "iopub.status.idle": "2024-10-19T15:18:50.602777Z",
     "shell.execute_reply": "2024-10-19T15:18:50.602589Z"
    },
    "papermill": {
     "duration": 0.018479,
     "end_time": "2024-10-19T15:18:50.603157",
     "exception": false,
     "start_time": "2024-10-19T15:18:50.584678",
     "status": "completed"
    },
    "tags": []
   },
   "outputs": [
    {
     "name": "stdout",
     "output_type": "stream",
     "text": [
      "2024-10-20_00-18-50"
     ]
    },
    {
     "name": "stdout",
     "output_type": "stream",
     "text": [
      "\n"
     ]
    },
    {
     "data": {
      "text/html": [
       "<div>\n",
       "<style scoped>\n",
       "    .dataframe tbody tr th:only-of-type {\n",
       "        vertical-align: middle;\n",
       "    }\n",
       "\n",
       "    .dataframe tbody tr th {\n",
       "        vertical-align: top;\n",
       "    }\n",
       "\n",
       "    .dataframe thead th {\n",
       "        text-align: right;\n",
       "    }\n",
       "</style>\n",
       "<table border=\"1\" class=\"dataframe\">\n",
       "  <thead>\n",
       "    <tr style=\"text-align: right;\">\n",
       "      <th></th>\n",
       "      <th>class</th>\n",
       "      <th>precision</th>\n",
       "      <th>recall</th>\n",
       "      <th>f1-score</th>\n",
       "      <th>support</th>\n",
       "    </tr>\n",
       "  </thead>\n",
       "  <tbody>\n",
       "    <tr>\n",
       "      <th>0</th>\n",
       "      <td>0</td>\n",
       "      <td>0.0</td>\n",
       "      <td>0.0</td>\n",
       "      <td>0.0000</td>\n",
       "      <td>12500</td>\n",
       "    </tr>\n",
       "    <tr>\n",
       "      <th>1</th>\n",
       "      <td>1</td>\n",
       "      <td>0.5</td>\n",
       "      <td>1.0</td>\n",
       "      <td>0.6667</td>\n",
       "      <td>12500</td>\n",
       "    </tr>\n",
       "  </tbody>\n",
       "</table>\n",
       "</div>"
      ],
      "text/plain": [
       "  class  precision  recall  f1-score  support\n",
       "0     0        0.0     0.0    0.0000    12500\n",
       "1     1        0.5     1.0    0.6667    12500"
      ]
     },
     "execution_count": 9,
     "metadata": {},
     "output_type": "execute_result"
    }
   ],
   "source": [
    "df_list = [report_to_df(df) for df in result_list]\n",
    "new_df = append_nth_row(df_list)\n",
    "csv_name = f\"{datetime.now().strftime('%Y-%m-%d_%H-%M-%S')}\"\n",
    "new_df.to_csv(f\"results/{csv_name}.csv\", index=False)\n",
    "print(csv_name)\n",
    "new_df"
   ]
  }
 ],
 "metadata": {
  "kernelspec": {
   "display_name": "Python 3 (ipykernel)",
   "language": "python",
   "name": "python3"
  },
  "language_info": {
   "codemirror_mode": {
    "name": "ipython",
    "version": 3
   },
   "file_extension": ".py",
   "mimetype": "text/x-python",
   "name": "python",
   "nbconvert_exporter": "python",
   "pygments_lexer": "ipython3",
   "version": "3.12.4"
  },
  "papermill": {
   "default_parameters": {},
   "duration": 993.379288,
   "end_time": "2024-10-19T15:18:51.425908",
   "environment_variables": {},
   "exception": null,
   "input_path": "experiments/ipynbs/Structed Pruning/Prune by CI(feedforward only, squeeze), Head Pruning/IMDB/60%.ipynb",
   "output_path": "experiments/ipynbs/Structed Pruning/Prune by CI(feedforward only, squeeze), Head Pruning/IMDB/60%.ipynb",
   "parameters": {},
   "start_time": "2024-10-19T15:02:18.046620",
   "version": "2.6.0"
  },
  "widgets": {
   "application/vnd.jupyter.widget-state+json": {
    "state": {
     "01ef68b0bef8409e857d17047de8da6e": {
      "model_module": "@jupyter-widgets/base",
      "model_module_version": "2.0.0",
      "model_name": "LayoutModel",
      "state": {
       "_model_module": "@jupyter-widgets/base",
       "_model_module_version": "2.0.0",
       "_model_name": "LayoutModel",
       "_view_count": null,
       "_view_module": "@jupyter-widgets/base",
       "_view_module_version": "2.0.0",
       "_view_name": "LayoutView",
       "align_content": null,
       "align_items": null,
       "align_self": null,
       "border_bottom": null,
       "border_left": null,
       "border_right": null,
       "border_top": null,
       "bottom": null,
       "display": "inline-flex",
       "flex": null,
       "flex_flow": "row wrap",
       "grid_area": null,
       "grid_auto_columns": null,
       "grid_auto_flow": null,
       "grid_auto_rows": null,
       "grid_column": null,
       "grid_gap": null,
       "grid_row": null,
       "grid_template_areas": null,
       "grid_template_columns": null,
       "grid_template_rows": null,
       "height": null,
       "justify_content": null,
       "justify_items": null,
       "left": null,
       "margin": null,
       "max_height": null,
       "max_width": null,
       "min_height": null,
       "min_width": null,
       "object_fit": null,
       "object_position": null,
       "order": null,
       "overflow": null,
       "padding": null,
       "right": null,
       "top": null,
       "visibility": null,
       "width": "100%"
      }
     },
     "08933c81e3e0498f8a6359af6edf8be1": {
      "model_module": "@jupyter-widgets/controls",
      "model_module_version": "2.0.0",
      "model_name": "ProgressStyleModel",
      "state": {
       "_model_module": "@jupyter-widgets/controls",
       "_model_module_version": "2.0.0",
       "_model_name": "ProgressStyleModel",
       "_view_count": null,
       "_view_module": "@jupyter-widgets/base",
       "_view_module_version": "2.0.0",
       "_view_name": "StyleView",
       "bar_color": null,
       "description_width": ""
      }
     },
     "175f39eb8b7b44d083544a16b6f3389e": {
      "model_module": "@jupyter-widgets/controls",
      "model_module_version": "2.0.0",
      "model_name": "ProgressStyleModel",
      "state": {
       "_model_module": "@jupyter-widgets/controls",
       "_model_module_version": "2.0.0",
       "_model_name": "ProgressStyleModel",
       "_view_count": null,
       "_view_module": "@jupyter-widgets/base",
       "_view_module_version": "2.0.0",
       "_view_name": "StyleView",
       "bar_color": null,
       "description_width": ""
      }
     },
     "4027ea15fe5e460386e80acf10189b7a": {
      "model_module": "@jupyter-widgets/controls",
      "model_module_version": "2.0.0",
      "model_name": "HTMLStyleModel",
      "state": {
       "_model_module": "@jupyter-widgets/controls",
       "_model_module_version": "2.0.0",
       "_model_name": "HTMLStyleModel",
       "_view_count": null,
       "_view_module": "@jupyter-widgets/base",
       "_view_module_version": "2.0.0",
       "_view_name": "StyleView",
       "background": null,
       "description_width": "",
       "font_size": null,
       "text_color": null
      }
     },
     "62e9aa55ca2f4917a6b6c14f05694c1d": {
      "model_module": "@jupyter-widgets/base",
      "model_module_version": "2.0.0",
      "model_name": "LayoutModel",
      "state": {
       "_model_module": "@jupyter-widgets/base",
       "_model_module_version": "2.0.0",
       "_model_name": "LayoutModel",
       "_view_count": null,
       "_view_module": "@jupyter-widgets/base",
       "_view_module_version": "2.0.0",
       "_view_name": "LayoutView",
       "align_content": null,
       "align_items": null,
       "align_self": null,
       "border_bottom": null,
       "border_left": null,
       "border_right": null,
       "border_top": null,
       "bottom": null,
       "display": null,
       "flex": null,
       "flex_flow": null,
       "grid_area": null,
       "grid_auto_columns": null,
       "grid_auto_flow": null,
       "grid_auto_rows": null,
       "grid_column": null,
       "grid_gap": null,
       "grid_row": null,
       "grid_template_areas": null,
       "grid_template_columns": null,
       "grid_template_rows": null,
       "height": null,
       "justify_content": null,
       "justify_items": null,
       "left": null,
       "margin": null,
       "max_height": null,
       "max_width": null,
       "min_height": null,
       "min_width": null,
       "object_fit": null,
       "object_position": null,
       "order": null,
       "overflow": null,
       "padding": null,
       "right": null,
       "top": null,
       "visibility": null,
       "width": null
      }
     },
     "63c19a7144ae454a9ab59f796aa3d70e": {
      "model_module": "@jupyter-widgets/controls",
      "model_module_version": "2.0.0",
      "model_name": "FloatProgressModel",
      "state": {
       "_dom_classes": [],
       "_model_module": "@jupyter-widgets/controls",
       "_model_module_version": "2.0.0",
       "_model_name": "FloatProgressModel",
       "_view_count": null,
       "_view_module": "@jupyter-widgets/controls",
       "_view_module_version": "2.0.0",
       "_view_name": "ProgressView",
       "bar_style": "success",
       "description": "",
       "description_allow_html": false,
       "layout": "IPY_MODEL_a3c8a43d43f44856883d859e4fff1dae",
       "max": 1563.0,
       "min": 0.0,
       "orientation": "horizontal",
       "style": "IPY_MODEL_175f39eb8b7b44d083544a16b6f3389e",
       "tabbable": null,
       "tooltip": null,
       "value": 1563.0
      }
     },
     "6719a71dd5f84e809042ff580f912bad": {
      "model_module": "@jupyter-widgets/controls",
      "model_module_version": "2.0.0",
      "model_name": "FloatProgressModel",
      "state": {
       "_dom_classes": [],
       "_model_module": "@jupyter-widgets/controls",
       "_model_module_version": "2.0.0",
       "_model_name": "FloatProgressModel",
       "_view_count": null,
       "_view_module": "@jupyter-widgets/controls",
       "_view_module_version": "2.0.0",
       "_view_name": "ProgressView",
       "bar_style": "success",
       "description": "",
       "description_allow_html": false,
       "layout": "IPY_MODEL_9420a25b92b642ea8bfd08ee28dd2b03",
       "max": 1563.0,
       "min": 0.0,
       "orientation": "horizontal",
       "style": "IPY_MODEL_08933c81e3e0498f8a6359af6edf8be1",
       "tabbable": null,
       "tooltip": null,
       "value": 1563.0
      }
     },
     "6fad00e42c964eec841270742a2d1ee4": {
      "model_module": "@jupyter-widgets/controls",
      "model_module_version": "2.0.0",
      "model_name": "HTMLModel",
      "state": {
       "_dom_classes": [],
       "_model_module": "@jupyter-widgets/controls",
       "_model_module_version": "2.0.0",
       "_model_name": "HTMLModel",
       "_view_count": null,
       "_view_module": "@jupyter-widgets/controls",
       "_view_module_version": "2.0.0",
       "_view_name": "HTMLView",
       "description": "",
       "description_allow_html": false,
       "layout": "IPY_MODEL_dd0825c374ce4e4bbd19d45964956fb9",
       "placeholder": "​",
       "style": "IPY_MODEL_e0ae8d0f2cb64bd1885eafce143e105e",
       "tabbable": null,
       "tooltip": null,
       "value": "Evaluating the model: 100%"
      }
     },
     "8201281cd797403dbc8a35433ab6fcda": {
      "model_module": "@jupyter-widgets/controls",
      "model_module_version": "2.0.0",
      "model_name": "HTMLModel",
      "state": {
       "_dom_classes": [],
       "_model_module": "@jupyter-widgets/controls",
       "_model_module_version": "2.0.0",
       "_model_name": "HTMLModel",
       "_view_count": null,
       "_view_module": "@jupyter-widgets/controls",
       "_view_module_version": "2.0.0",
       "_view_name": "HTMLView",
       "description": "",
       "description_allow_html": false,
       "layout": "IPY_MODEL_d5b3bfa62e2349a498017790c7f70d70",
       "placeholder": "​",
       "style": "IPY_MODEL_a1594e16fb3a4397b41cab08d91b75d6",
       "tabbable": null,
       "tooltip": null,
       "value": " 1563/1563 [07:11&lt;00:00,  6.24it/s]"
      }
     },
     "843061acd1f14f96b08e499773618691": {
      "model_module": "@jupyter-widgets/base",
      "model_module_version": "2.0.0",
      "model_name": "LayoutModel",
      "state": {
       "_model_module": "@jupyter-widgets/base",
       "_model_module_version": "2.0.0",
       "_model_name": "LayoutModel",
       "_view_count": null,
       "_view_module": "@jupyter-widgets/base",
       "_view_module_version": "2.0.0",
       "_view_name": "LayoutView",
       "align_content": null,
       "align_items": null,
       "align_self": null,
       "border_bottom": null,
       "border_left": null,
       "border_right": null,
       "border_top": null,
       "bottom": null,
       "display": "inline-flex",
       "flex": null,
       "flex_flow": "row wrap",
       "grid_area": null,
       "grid_auto_columns": null,
       "grid_auto_flow": null,
       "grid_auto_rows": null,
       "grid_column": null,
       "grid_gap": null,
       "grid_row": null,
       "grid_template_areas": null,
       "grid_template_columns": null,
       "grid_template_rows": null,
       "height": null,
       "justify_content": null,
       "justify_items": null,
       "left": null,
       "margin": null,
       "max_height": null,
       "max_width": null,
       "min_height": null,
       "min_width": null,
       "object_fit": null,
       "object_position": null,
       "order": null,
       "overflow": null,
       "padding": null,
       "right": null,
       "top": null,
       "visibility": null,
       "width": "100%"
      }
     },
     "85ee466e2c3646f5913477af27576da1": {
      "model_module": "@jupyter-widgets/controls",
      "model_module_version": "2.0.0",
      "model_name": "HTMLModel",
      "state": {
       "_dom_classes": [],
       "_model_module": "@jupyter-widgets/controls",
       "_model_module_version": "2.0.0",
       "_model_name": "HTMLModel",
       "_view_count": null,
       "_view_module": "@jupyter-widgets/controls",
       "_view_module_version": "2.0.0",
       "_view_name": "HTMLView",
       "description": "",
       "description_allow_html": false,
       "layout": "IPY_MODEL_e50ddfd0df4a4f5ebd669ea5bd851d55",
       "placeholder": "​",
       "style": "IPY_MODEL_b9216177e7484bd5a6f49fcd8576abb6",
       "tabbable": null,
       "tooltip": null,
       "value": " 1563/1563 [05:57&lt;00:00,  4.19it/s]"
      }
     },
     "9420a25b92b642ea8bfd08ee28dd2b03": {
      "model_module": "@jupyter-widgets/base",
      "model_module_version": "2.0.0",
      "model_name": "LayoutModel",
      "state": {
       "_model_module": "@jupyter-widgets/base",
       "_model_module_version": "2.0.0",
       "_model_name": "LayoutModel",
       "_view_count": null,
       "_view_module": "@jupyter-widgets/base",
       "_view_module_version": "2.0.0",
       "_view_name": "LayoutView",
       "align_content": null,
       "align_items": null,
       "align_self": null,
       "border_bottom": null,
       "border_left": null,
       "border_right": null,
       "border_top": null,
       "bottom": null,
       "display": null,
       "flex": "2",
       "flex_flow": null,
       "grid_area": null,
       "grid_auto_columns": null,
       "grid_auto_flow": null,
       "grid_auto_rows": null,
       "grid_column": null,
       "grid_gap": null,
       "grid_row": null,
       "grid_template_areas": null,
       "grid_template_columns": null,
       "grid_template_rows": null,
       "height": null,
       "justify_content": null,
       "justify_items": null,
       "left": null,
       "margin": null,
       "max_height": null,
       "max_width": null,
       "min_height": null,
       "min_width": null,
       "object_fit": null,
       "object_position": null,
       "order": null,
       "overflow": null,
       "padding": null,
       "right": null,
       "top": null,
       "visibility": null,
       "width": null
      }
     },
     "a1594e16fb3a4397b41cab08d91b75d6": {
      "model_module": "@jupyter-widgets/controls",
      "model_module_version": "2.0.0",
      "model_name": "HTMLStyleModel",
      "state": {
       "_model_module": "@jupyter-widgets/controls",
       "_model_module_version": "2.0.0",
       "_model_name": "HTMLStyleModel",
       "_view_count": null,
       "_view_module": "@jupyter-widgets/base",
       "_view_module_version": "2.0.0",
       "_view_name": "StyleView",
       "background": null,
       "description_width": "",
       "font_size": null,
       "text_color": null
      }
     },
     "a29da59e02714dc280f04e782aa9e691": {
      "model_module": "@jupyter-widgets/controls",
      "model_module_version": "2.0.0",
      "model_name": "HTMLModel",
      "state": {
       "_dom_classes": [],
       "_model_module": "@jupyter-widgets/controls",
       "_model_module_version": "2.0.0",
       "_model_name": "HTMLModel",
       "_view_count": null,
       "_view_module": "@jupyter-widgets/controls",
       "_view_module_version": "2.0.0",
       "_view_name": "HTMLView",
       "description": "",
       "description_allow_html": false,
       "layout": "IPY_MODEL_62e9aa55ca2f4917a6b6c14f05694c1d",
       "placeholder": "​",
       "style": "IPY_MODEL_4027ea15fe5e460386e80acf10189b7a",
       "tabbable": null,
       "tooltip": null,
       "value": "Evaluating the model: 100%"
      }
     },
     "a3c8a43d43f44856883d859e4fff1dae": {
      "model_module": "@jupyter-widgets/base",
      "model_module_version": "2.0.0",
      "model_name": "LayoutModel",
      "state": {
       "_model_module": "@jupyter-widgets/base",
       "_model_module_version": "2.0.0",
       "_model_name": "LayoutModel",
       "_view_count": null,
       "_view_module": "@jupyter-widgets/base",
       "_view_module_version": "2.0.0",
       "_view_name": "LayoutView",
       "align_content": null,
       "align_items": null,
       "align_self": null,
       "border_bottom": null,
       "border_left": null,
       "border_right": null,
       "border_top": null,
       "bottom": null,
       "display": null,
       "flex": "2",
       "flex_flow": null,
       "grid_area": null,
       "grid_auto_columns": null,
       "grid_auto_flow": null,
       "grid_auto_rows": null,
       "grid_column": null,
       "grid_gap": null,
       "grid_row": null,
       "grid_template_areas": null,
       "grid_template_columns": null,
       "grid_template_rows": null,
       "height": null,
       "justify_content": null,
       "justify_items": null,
       "left": null,
       "margin": null,
       "max_height": null,
       "max_width": null,
       "min_height": null,
       "min_width": null,
       "object_fit": null,
       "object_position": null,
       "order": null,
       "overflow": null,
       "padding": null,
       "right": null,
       "top": null,
       "visibility": null,
       "width": null
      }
     },
     "b9216177e7484bd5a6f49fcd8576abb6": {
      "model_module": "@jupyter-widgets/controls",
      "model_module_version": "2.0.0",
      "model_name": "HTMLStyleModel",
      "state": {
       "_model_module": "@jupyter-widgets/controls",
       "_model_module_version": "2.0.0",
       "_model_name": "HTMLStyleModel",
       "_view_count": null,
       "_view_module": "@jupyter-widgets/base",
       "_view_module_version": "2.0.0",
       "_view_name": "StyleView",
       "background": null,
       "description_width": "",
       "font_size": null,
       "text_color": null
      }
     },
     "bdfbade28cfd4456b2f22e72940c765c": {
      "model_module": "@jupyter-widgets/controls",
      "model_module_version": "2.0.0",
      "model_name": "HBoxModel",
      "state": {
       "_dom_classes": [],
       "_model_module": "@jupyter-widgets/controls",
       "_model_module_version": "2.0.0",
       "_model_name": "HBoxModel",
       "_view_count": null,
       "_view_module": "@jupyter-widgets/controls",
       "_view_module_version": "2.0.0",
       "_view_name": "HBoxView",
       "box_style": "",
       "children": [
        "IPY_MODEL_a29da59e02714dc280f04e782aa9e691",
        "IPY_MODEL_63c19a7144ae454a9ab59f796aa3d70e",
        "IPY_MODEL_8201281cd797403dbc8a35433ab6fcda"
       ],
       "layout": "IPY_MODEL_843061acd1f14f96b08e499773618691",
       "tabbable": null,
       "tooltip": null
      }
     },
     "d5b3bfa62e2349a498017790c7f70d70": {
      "model_module": "@jupyter-widgets/base",
      "model_module_version": "2.0.0",
      "model_name": "LayoutModel",
      "state": {
       "_model_module": "@jupyter-widgets/base",
       "_model_module_version": "2.0.0",
       "_model_name": "LayoutModel",
       "_view_count": null,
       "_view_module": "@jupyter-widgets/base",
       "_view_module_version": "2.0.0",
       "_view_name": "LayoutView",
       "align_content": null,
       "align_items": null,
       "align_self": null,
       "border_bottom": null,
       "border_left": null,
       "border_right": null,
       "border_top": null,
       "bottom": null,
       "display": null,
       "flex": null,
       "flex_flow": null,
       "grid_area": null,
       "grid_auto_columns": null,
       "grid_auto_flow": null,
       "grid_auto_rows": null,
       "grid_column": null,
       "grid_gap": null,
       "grid_row": null,
       "grid_template_areas": null,
       "grid_template_columns": null,
       "grid_template_rows": null,
       "height": null,
       "justify_content": null,
       "justify_items": null,
       "left": null,
       "margin": null,
       "max_height": null,
       "max_width": null,
       "min_height": null,
       "min_width": null,
       "object_fit": null,
       "object_position": null,
       "order": null,
       "overflow": null,
       "padding": null,
       "right": null,
       "top": null,
       "visibility": null,
       "width": null
      }
     },
     "dd0825c374ce4e4bbd19d45964956fb9": {
      "model_module": "@jupyter-widgets/base",
      "model_module_version": "2.0.0",
      "model_name": "LayoutModel",
      "state": {
       "_model_module": "@jupyter-widgets/base",
       "_model_module_version": "2.0.0",
       "_model_name": "LayoutModel",
       "_view_count": null,
       "_view_module": "@jupyter-widgets/base",
       "_view_module_version": "2.0.0",
       "_view_name": "LayoutView",
       "align_content": null,
       "align_items": null,
       "align_self": null,
       "border_bottom": null,
       "border_left": null,
       "border_right": null,
       "border_top": null,
       "bottom": null,
       "display": null,
       "flex": null,
       "flex_flow": null,
       "grid_area": null,
       "grid_auto_columns": null,
       "grid_auto_flow": null,
       "grid_auto_rows": null,
       "grid_column": null,
       "grid_gap": null,
       "grid_row": null,
       "grid_template_areas": null,
       "grid_template_columns": null,
       "grid_template_rows": null,
       "height": null,
       "justify_content": null,
       "justify_items": null,
       "left": null,
       "margin": null,
       "max_height": null,
       "max_width": null,
       "min_height": null,
       "min_width": null,
       "object_fit": null,
       "object_position": null,
       "order": null,
       "overflow": null,
       "padding": null,
       "right": null,
       "top": null,
       "visibility": null,
       "width": null
      }
     },
     "e0ae8d0f2cb64bd1885eafce143e105e": {
      "model_module": "@jupyter-widgets/controls",
      "model_module_version": "2.0.0",
      "model_name": "HTMLStyleModel",
      "state": {
       "_model_module": "@jupyter-widgets/controls",
       "_model_module_version": "2.0.0",
       "_model_name": "HTMLStyleModel",
       "_view_count": null,
       "_view_module": "@jupyter-widgets/base",
       "_view_module_version": "2.0.0",
       "_view_name": "StyleView",
       "background": null,
       "description_width": "",
       "font_size": null,
       "text_color": null
      }
     },
     "e50ddfd0df4a4f5ebd669ea5bd851d55": {
      "model_module": "@jupyter-widgets/base",
      "model_module_version": "2.0.0",
      "model_name": "LayoutModel",
      "state": {
       "_model_module": "@jupyter-widgets/base",
       "_model_module_version": "2.0.0",
       "_model_name": "LayoutModel",
       "_view_count": null,
       "_view_module": "@jupyter-widgets/base",
       "_view_module_version": "2.0.0",
       "_view_name": "LayoutView",
       "align_content": null,
       "align_items": null,
       "align_self": null,
       "border_bottom": null,
       "border_left": null,
       "border_right": null,
       "border_top": null,
       "bottom": null,
       "display": null,
       "flex": null,
       "flex_flow": null,
       "grid_area": null,
       "grid_auto_columns": null,
       "grid_auto_flow": null,
       "grid_auto_rows": null,
       "grid_column": null,
       "grid_gap": null,
       "grid_row": null,
       "grid_template_areas": null,
       "grid_template_columns": null,
       "grid_template_rows": null,
       "height": null,
       "justify_content": null,
       "justify_items": null,
       "left": null,
       "margin": null,
       "max_height": null,
       "max_width": null,
       "min_height": null,
       "min_width": null,
       "object_fit": null,
       "object_position": null,
       "order": null,
       "overflow": null,
       "padding": null,
       "right": null,
       "top": null,
       "visibility": null,
       "width": null
      }
     },
     "e742b74d9bb74b9bb2220fe77e1fa493": {
      "model_module": "@jupyter-widgets/controls",
      "model_module_version": "2.0.0",
      "model_name": "HBoxModel",
      "state": {
       "_dom_classes": [],
       "_model_module": "@jupyter-widgets/controls",
       "_model_module_version": "2.0.0",
       "_model_name": "HBoxModel",
       "_view_count": null,
       "_view_module": "@jupyter-widgets/controls",
       "_view_module_version": "2.0.0",
       "_view_name": "HBoxView",
       "box_style": "",
       "children": [
        "IPY_MODEL_6fad00e42c964eec841270742a2d1ee4",
        "IPY_MODEL_6719a71dd5f84e809042ff580f912bad",
        "IPY_MODEL_85ee466e2c3646f5913477af27576da1"
       ],
       "layout": "IPY_MODEL_01ef68b0bef8409e857d17047de8da6e",
       "tabbable": null,
       "tooltip": null
      }
     }
    },
    "version_major": 2,
    "version_minor": 0
   }
  }
 },
 "nbformat": 4,
 "nbformat_minor": 5
}