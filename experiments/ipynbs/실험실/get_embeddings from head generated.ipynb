{
  "cells": [
    {
      "cell_type": "code",
      "execution_count": 94,
      "metadata": {},
      "outputs": [],
      "source": [
        "import os\n",
        "import sys\n",
        "\n",
        "sys.path.append(\"../../../\")\n",
        "os.environ[\"TOKENIZERS_PARALLELISM\"] = \"false\""
      ]
    },
    {
      "cell_type": "code",
      "execution_count": 95,
      "metadata": {},
      "outputs": [],
      "source": [
        "import copy\n",
        "import torch\n",
        "from datetime import datetime\n",
        "from src.utils.helper import Config, color_print\n",
        "from src.utils.load import load_model, load_data, save_checkpoint, load_checkpoint\n",
        "from src.models.evaluate import evaluate_model, get_sparsity, get_similarity\n",
        "from src.utils.sampling import SamplingDataset\n",
        "from src.pruning.prune_head import head_importance_prunning"
      ]
    },
    {
      "cell_type": "code",
      "execution_count": 96,
      "metadata": {},
      "outputs": [],
      "source": [
        "# name = \"bert-tiny-yahoo\"\n",
        "name = \"bert-4-128-yahoo\"\n",
        "device = torch.device(\"cuda:0\")\n",
        "checkpoint = None\n",
        "batch_size = 16\n",
        "num_workers = 4\n",
        "num_samples = 128\n",
        "ci_ratio = 0.3\n",
        "seed = 44"
      ]
    },
    {
      "cell_type": "code",
      "execution_count": 97,
      "metadata": {},
      "outputs": [],
      "source": [
        "config = Config(name, device)"
      ]
    },
    {
      "cell_type": "code",
      "execution_count": 98,
      "metadata": {},
      "outputs": [
        {
          "name": "stdout",
          "output_type": "stream",
          "text": [
            "Loading the model.\n",
            "{'architectures': 'bert',\n",
            " 'dataset_name': 'YahooAnswersTopics',\n",
            " 'model_name': 'models/bert-4-128-yahoo',\n",
            " 'num_labels': 10,\n",
            " 'tokenizer_name': 'fabriceyhc/bert-base-uncased-yahoo_answers_topics'}\n",
            "The model models/bert-4-128-yahoo is loaded.\n"
          ]
        }
      ],
      "source": [
        "model = load_model(config=config)"
      ]
    },
    {
      "cell_type": "code",
      "execution_count": 99,
      "metadata": {},
      "outputs": [
        {
          "name": "stdout",
          "output_type": "stream",
          "text": [
            "Loading cached dataset YahooAnswersTopics.\n",
            "train.pkl is loaded from cache.\n",
            "valid.pkl is loaded from cache.\n",
            "test.pkl is loaded from cache.\n",
            "The dataset YahooAnswersTopics is loaded\n",
            "{'config_name': 'yahoo_answers_topics',\n",
            " 'features': {'first_column': 'question_title', 'second_column': 'topic'},\n",
            " 'path': 'yahoo_answers_topics'}\n"
          ]
        }
      ],
      "source": [
        "train_dataloader, valid_dataloader, test_dataloader = load_data(\n",
        "    config,\n",
        "    batch_size=batch_size,\n",
        "    num_workers=num_workers,\n",
        "    do_cache=True,\n",
        ")"
      ]
    },
    {
      "cell_type": "code",
      "execution_count": 100,
      "metadata": {},
      "outputs": [
        {
          "name": "stdout",
          "output_type": "stream",
          "text": [
            "4_128-yahoo_top1.pkl is loaded from cache.\n"
          ]
        }
      ],
      "source": [
        "from src.utils.load import load_cache\n",
        "from src.utils.data_class import CustomEmbeddingDataset\n",
        "from torch.utils.data import DataLoader\n",
        "\n",
        "generated = load_cache(\n",
        "    \"datasets/generated_dataset/embedding_based/4_128-yahoo\", \"4_128-yahoo_top1.pkl\"\n",
        ")"
      ]
    },
    {
      "cell_type": "code",
      "execution_count": 101,
      "metadata": {},
      "outputs": [
        {
          "name": "stdout",
          "output_type": "stream",
          "text": [
            "dict_keys(['example_label', 'example_list', 'attn_list'])\n"
          ]
        }
      ],
      "source": [
        "print(generated.keys())"
      ]
    },
    {
      "cell_type": "code",
      "execution_count": 102,
      "metadata": {},
      "outputs": [],
      "source": [
        "generated[\"embeddings\"] = generated.pop(\"example_list\")\n",
        "generated[\"labels\"] = generated.pop(\"example_label\")\n",
        "generated[\"attention_mask\"] = generated.pop(\"attn_list\")"
      ]
    },
    {
      "cell_type": "code",
      "execution_count": 103,
      "metadata": {},
      "outputs": [
        {
          "data": {
            "text/plain": [
              "dict_keys(['embeddings', 'labels', 'attention_mask'])"
            ]
          },
          "execution_count": 103,
          "metadata": {},
          "output_type": "execute_result"
        }
      ],
      "source": [
        "generated.keys()"
      ]
    },
    {
      "cell_type": "code",
      "execution_count": 104,
      "metadata": {},
      "outputs": [],
      "source": [
        "generated_data = CustomEmbeddingDataset(generated)\n",
        "generated_dataloder = DataLoader(\n",
        "    generated_data,\n",
        "    batch_size=4,\n",
        ")"
      ]
    },
    {
      "cell_type": "code",
      "execution_count": 105,
      "metadata": {},
      "outputs": [
        {
          "name": "stdout",
          "output_type": "stream",
          "text": [
            "{'embeddings': tensor([[[ 0.6627,  0.0542,  0.0560,  ...,  0.3232,  1.5695,  0.2929],\n",
            "         [ 1.5244, -1.7833,  1.7203,  ...,  0.6870, -1.4302,  0.3291],\n",
            "         [ 1.5020, -3.0318,  1.9343,  ...,  0.9823, -1.2311, -1.0617],\n",
            "         ...,\n",
            "         [ 1.0938,  0.7663,  0.8358,  ...,  1.4675,  0.9290,  1.9437],\n",
            "         [ 2.1223, -2.8189, -0.8851,  ...,  1.2666,  0.4986,  0.9700],\n",
            "         [ 0.9699, -0.8722, -0.2652,  ..., -0.6871, -0.8159, -1.4540]],\n",
            "\n",
            "        [[ 0.6622,  0.0536,  0.0554,  ...,  0.3226,  1.5701,  0.2923],\n",
            "         [ 1.5238, -1.7827,  1.7198,  ...,  0.6875, -1.4296,  0.3297],\n",
            "         [ 1.5014, -3.0312,  1.9349,  ...,  0.9828, -1.2305, -1.0611],\n",
            "         ...,\n",
            "         [ 1.0938,  0.7663,  0.8358,  ...,  1.4675,  0.9290,  1.9437],\n",
            "         [ 2.1223, -2.8189, -0.8851,  ...,  1.2666,  0.4986,  0.9700],\n",
            "         [ 0.9699, -0.8722, -0.2652,  ..., -0.6871, -0.8159, -1.4540]],\n",
            "\n",
            "        [[ 0.6681,  0.0595,  0.0613,  ...,  0.3285,  1.5642,  0.2982],\n",
            "         [ 1.5297, -1.7886,  1.7257,  ...,  0.6816, -1.4355,  0.3238],\n",
            "         [ 1.5073, -3.0371,  1.9290,  ...,  0.9769, -1.2364, -1.0670],\n",
            "         ...,\n",
            "         [ 1.0938,  0.7663,  0.8358,  ...,  1.4675,  0.9290,  1.9437],\n",
            "         [ 2.1223, -2.8189, -0.8851,  ...,  1.2666,  0.4986,  0.9700],\n",
            "         [ 0.9699, -0.8722, -0.2652,  ..., -0.6871, -0.8159, -1.4540]],\n",
            "\n",
            "        [[ 0.6694,  0.0608,  0.0626,  ...,  0.3298,  1.5629,  0.2995],\n",
            "         [ 1.5311, -1.7899,  1.7270,  ...,  0.6803, -1.4368,  0.3225],\n",
            "         [ 1.5086, -3.0384,  1.9277,  ...,  0.9756, -1.2377, -1.0683],\n",
            "         ...,\n",
            "         [ 1.0938,  0.7663,  0.8358,  ...,  1.4675,  0.9290,  1.9437],\n",
            "         [ 2.1223, -2.8189, -0.8851,  ...,  1.2666,  0.4986,  0.9700],\n",
            "         [ 0.9699, -0.8722, -0.2652,  ..., -0.6871, -0.8159, -1.4540]]]), 'labels': tensor([0, 0, 0, 0]), 'attention_mask': tensor([[1, 1, 1,  ..., 0, 0, 0],\n",
            "        [1, 1, 1,  ..., 0, 0, 0],\n",
            "        [1, 1, 1,  ..., 0, 0, 0],\n",
            "        [1, 1, 1,  ..., 0, 0, 0]])}\n"
          ]
        }
      ],
      "source": [
        "for batch in generated_dataloder:\n",
        "    print(batch)\n",
        "    break"
      ]
    },
    {
      "cell_type": "code",
      "execution_count": 106,
      "metadata": {},
      "outputs": [],
      "source": [
        "import torch\n",
        "import torch.nn as nn\n",
        "from scipy.stats import norm\n",
        "from typing import *\n",
        "from torch import Tensor\n",
        "from torch.nn import Module\n",
        "import torch.nn.functional as F\n",
        "from functools import partial\n",
        "from src.utils.sampling import SamplingDataset\n",
        "from src.pruning.propagate import propagate\n",
        "from src.utils.helper import Config\n",
        "import gc"
      ]
    },
    {
      "cell_type": "code",
      "execution_count": 107,
      "metadata": {},
      "outputs": [],
      "source": [
        "def calc_coefficient(combined_dataloader, dim=0):\n",
        "    embeddings = combined_dataloader[0][\"embeddings\"]\n",
        "\n",
        "    batch_size = embeddings.shape[0] // 2\n",
        "    concern_inputs, non_concern_inputs = (\n",
        "        embeddings[:batch_size],\n",
        "        embeddings[batch_size:],\n",
        "    )\n",
        "\n",
        "    calc_norm = lambda tensors, dim: torch.norm(\n",
        "        tensors.reshape((-1, tensors.shape[-1])), dim=dim\n",
        "    )\n",
        "\n",
        "    if dim == 0:\n",
        "        new_shape = (-1, 1)\n",
        "    else:\n",
        "        new_shape = (1, -1)\n",
        "\n",
        "    concern_norm = calc_norm(concern_inputs, dim=0).reshape(new_shape)\n",
        "    non_concern_norm = calc_norm(non_concern_inputs, dim=0).reshape(new_shape)\n",
        "\n",
        "    cosine_similarity = F.cosine_similarity(\n",
        "        concern_inputs.reshape((-1, concern_inputs.shape[-1])),\n",
        "        non_concern_inputs.reshape((-1, non_concern_inputs.shape[-1])),\n",
        "        dim=0,\n",
        "    ).reshape(new_shape)\n",
        "\n",
        "    sine_similarity = torch.sign(cosine_similarity) * torch.sqrt(\n",
        "        1 - cosine_similarity**2\n",
        "    )\n",
        "    euclidean_distance = torch.sqrt(concern_norm**2 + non_concern_norm**2)\n",
        "    coefficient = (\n",
        "        concern_norm\n",
        "        + sine_similarity\n",
        "        * torch.abs(concern_norm + non_concern_norm)\n",
        "        / euclidean_distance\n",
        "    )\n",
        "    return coefficient"
      ]
    },
    {
      "cell_type": "code",
      "execution_count": 108,
      "metadata": {},
      "outputs": [],
      "source": [
        "def find_layers(\n",
        "    model: Module,\n",
        "    layer_types: Optional[List[Type[Module]]] = None,\n",
        "    include_layers: Optional[List[str]] = None,\n",
        "    exclude_layers: Optional[List[str]] = None,\n",
        "    prefix: str = \"\",\n",
        ") -> Dict[str, Module]:\n",
        "    if layer_types is None:\n",
        "        layer_types = [nn.Linear]\n",
        "    if include_layers is None:\n",
        "        include_layers = []\n",
        "    if exclude_layers is None:\n",
        "        exclude_layers = []\n",
        "    layers_dict: Dict[str, Module] = {}\n",
        "\n",
        "    def recursive_find(module: Module, prefix: str) -> None:\n",
        "        for name, layer in module.named_children():\n",
        "            layer_name = f\"{prefix}.{name}\" if prefix else name\n",
        "            if any(exclude in layer_name for exclude in exclude_layers):\n",
        "                continue\n",
        "            if include_layers and not any(\n",
        "                include in layer_name for include in include_layers\n",
        "            ):\n",
        "                if not any(isinstance(layer, t) for t in layer_types):\n",
        "                    recursive_find(layer, layer_name)\n",
        "                continue\n",
        "            if isinstance(layer, tuple(layer_types)):\n",
        "                layers_dict[layer_name] = layer\n",
        "            else:\n",
        "                recursive_find(layer, layer_name)\n",
        "\n",
        "    recursive_find(model, prefix)\n",
        "\n",
        "    return layers_dict\n",
        "\n",
        "\n",
        "def get_hook(method):\n",
        "    def hook(module, input, output):\n",
        "        method(module, input, output)\n",
        "\n",
        "    return hook\n",
        "\n",
        "\n",
        "def get_embeddings(model, dataloader):\n",
        "    embeddings_list = {\"embeddings\": [], \"labels\": [], \"attention_mask\": []}\n",
        "\n",
        "    for batch in dataloader:\n",
        "        input_ids = batch[\"input_ids\"]\n",
        "        labels = batch[\"labels\"]\n",
        "        attention_mask = batch[\"attention_mask\"]\n",
        "        with torch.no_grad():\n",
        "            input_embeddings = model.get_input_embeddings()(input_ids)\n",
        "        embeddings_list[\"embeddings\"].append(input_embeddings)\n",
        "        embeddings_list[\"labels\"].append(labels)\n",
        "        embeddings_list[\"attention_mask\"].append(attention_mask)\n",
        "        from src.utils.data_class import CustomEmbeddingDataset\n",
        "    return CustomEmbeddingDataset(embeddings_list)"
      ]
    },
    {
      "cell_type": "code",
      "execution_count": 109,
      "metadata": {},
      "outputs": [],
      "source": [
        "class Methods:\n",
        "    def __init__(self, name: str, ratio: float, method=\"unstructed\") -> None:\n",
        "        self.name = name\n",
        "        self.ratio = ratio\n",
        "        self.coefficient = None\n",
        "        self.method = method\n",
        "        self.num_mask = 0\n",
        "        self.pruning_mask = {}\n",
        "\n",
        "    def ci(self, layer, inputs, outputs):\n",
        "        current_weight = layer.weight.data.clone()\n",
        "\n",
        "        importance_score = torch.abs(current_weight) * torch.abs(self.coefficient)\n",
        "\n",
        "        if self.method == \"unstructed\":\n",
        "            sort_res = torch.sort(importance_score, dim=-1, stable=True)\n",
        "            num_prune = int(current_weight.shape[1] * self.ratio)\n",
        "            indices_to_prune = sort_res[1][:, :num_prune]\n",
        "        elif self.method == \"structed\":\n",
        "            # importance_vector = torch.mean(importance_score, dim=1)\n",
        "            # importance_vector =  torch.mean(current_weight, dim=1)\n",
        "            importance_vector = torch.mean(importance_score, dim=1) / torch.norm(\n",
        "                current_weight, dim=1\n",
        "            )\n",
        "            num_prune = int(importance_vector.shape[0] * self.ratio)\n",
        "            sort_res = torch.sort(importance_vector)\n",
        "            indices_to_prune = sort_res[1][:num_prune]\n",
        "        else:\n",
        "            raise NotImplementedError(f\"{self.method} is not implemented\")\n",
        "        if indices_to_prune.dim() == 2:\n",
        "            indices_to_prune, _ = torch.sort(indices_to_prune, dim=1)\n",
        "        else:\n",
        "            indices_to_prune, _ = torch.sort(indices_to_prune)\n",
        "        pruning_list = indices_to_prune.tolist()\n",
        "        self.pruning_mask[self.num_mask] = pruning_list\n",
        "        self.num_mask += 1\n",
        "\n",
        "    def apply(self, layer, mask):\n",
        "        current_weight = layer.weight.data.clone()\n",
        "\n",
        "        if self.method == \"unstructed\":\n",
        "            for row_idx, prune_indices in mask.item():\n",
        "                current_weight[row_idx, prune_indices] = 0\n",
        "        elif self.method == \"structed\":\n",
        "            pruned_weight = torch.zeros_like(current_weight)\n",
        "            pruned_weight = current_weight[mask, :]\n",
        "            layer.weight.data = pruned_weight\n",
        "\n",
        "        layer.weight.data = current_weight"
      ]
    },
    {
      "cell_type": "code",
      "execution_count": 110,
      "metadata": {},
      "outputs": [],
      "source": [
        "def prune_concern_identification(\n",
        "    model: Module,\n",
        "    config: Config,\n",
        "    dominant_concern: SamplingDataset,\n",
        "    non_dominant_concern: SamplingDataset,\n",
        "    sparsity_ratio: float = 0.6,\n",
        "    include_layers: Optional[List[str]] = None,\n",
        "    exclude_layers: Optional[List[str]] = None,\n",
        "    method=\"unstructed\",\n",
        "    keep_dim=True,\n",
        ") -> None:\n",
        "    layers = find_layers(\n",
        "        model, include_layers=include_layers, exclude_layers=exclude_layers\n",
        "    )\n",
        "    handle_list = []\n",
        "\n",
        "    method1 = Methods(name=\"intermediate\", ratio=sparsity_ratio, method=method)\n",
        "    method2 = Methods(name=\"output\", ratio=sparsity_ratio, method=method)\n",
        "\n",
        "    for name, layer in layers.items():\n",
        "        if \"intermediate\" in name:\n",
        "            handle = layer.register_forward_hook(method1.ci)\n",
        "        else:\n",
        "            handle = layer.register_forward_hook(method2.ci)\n",
        "        handle_list.append(handle)\n",
        "\n",
        "    first_batch = next(iter(dominant_concern))\n",
        "    is_embeds = \"embeddings\" in first_batch\n",
        "    if not is_embeds:\n",
        "        pos_embeddings = get_embeddings(model, dominant_concern)\n",
        "        neg_embeddings = get_embeddings(model, non_dominant_concern)\n",
        "    else:\n",
        "        pos_embeddings = dominant_concern\n",
        "        neg_embeddings = non_dominant_concern\n",
        "    dominant_batches = list(pos_embeddings)\n",
        "    non_dominant_batches = list(neg_embeddings)\n",
        "    combined_batches = {}\n",
        "    keys = dominant_batches[0].keys()\n",
        "    for key in keys:\n",
        "        combined_batches[key] = torch.cat(\n",
        "            [batch[key] for batch in dominant_batches + non_dominant_batches]\n",
        "        )\n",
        "\n",
        "    combined_dataloader = [combined_batches]\n",
        "    method1.coefficient = calc_coefficient(combined_dataloader, dim=1).to(config.device)\n",
        "    method2.coefficient = calc_coefficient(combined_dataloader, dim=0).to(config.device)\n",
        "    propagate(model, combined_dataloader, config)\n",
        "\n",
        "    for handle in handle_list:\n",
        "        handle.remove()\n",
        "    print(method1.pruning_mask[0])\n",
        "    print(method1.pruning_mask[1])\n",
        "    print(method1.pruning_mask[2])\n",
        "    print(method1.pruning_mask[3])\n",
        "    if method == \"unstructed\":\n",
        "        for i in range(method1.num_mask):\n",
        "            method1.pruning_mask\n",
        "    else:\n",
        "        pass"
      ]
    },
    {
      "cell_type": "code",
      "execution_count": 111,
      "metadata": {},
      "outputs": [
        {
          "name": "stdout",
          "output_type": "stream",
          "text": [
            "Total heads to prune: 8\n",
            "{(1, 2), (0, 0), (3, 0), (2, 3), (0, 2), (3, 3), (3, 2), (1, 3)}\n",
            "[0, 2, 3, 4, 5, 8, 10, 12, 13, 15, 16, 18, 20, 21, 23, 24, 29, 33, 35, 36, 40, 42, 44, 50, 51, 52, 54, 55, 59, 60, 63, 65, 67, 73, 75, 76, 85, 87, 89, 90, 92, 93, 95, 96, 97, 102, 103, 104, 106, 108, 112, 113, 115, 116, 119, 122, 123, 124, 126, 135, 136, 139, 140, 141, 143, 146, 147, 151, 153, 157, 159, 161, 164, 165, 166, 169, 171, 173, 174, 175, 176, 180, 181, 185, 187, 190, 191, 194, 196, 199, 200, 202, 205, 207, 208, 210, 212, 215, 216, 217, 218, 219, 223, 224, 225, 226, 228, 229, 231, 233, 237, 238, 240, 242, 243, 249, 250, 251, 252, 254, 257, 258, 259, 260, 262, 263, 264, 266, 270, 271, 275, 276, 277, 280, 282, 284, 285, 287, 290, 291, 292, 293, 300, 301, 302, 303, 304, 305, 306, 308, 309, 310, 311, 312, 318, 319, 320, 321, 322, 323, 324, 326, 327, 328, 329, 330, 331, 333, 337, 338, 342, 344, 345, 347, 348, 349, 350, 352, 356, 360, 363, 364, 365, 368, 373, 374, 375, 377, 380, 381, 383, 387, 391, 396, 398, 399, 400, 403, 404, 405, 406, 408, 409, 410, 412, 413, 418, 419, 421, 422, 425, 426, 427, 428, 430, 432, 434, 436, 437, 438, 440, 442, 446, 448, 449, 451, 453, 454, 455, 457, 458, 461, 462, 463, 464, 471, 473, 477, 479, 480, 482, 486, 487, 488, 492, 494, 495, 498, 500, 501, 503, 504, 506, 507, 514, 517, 518, 519, 525, 526, 528, 530, 531, 536, 537, 538, 539, 540, 541, 542, 544, 545, 546, 551, 552, 556, 557, 559, 560, 563, 565, 566, 568, 572, 575, 576, 577, 578, 582, 584, 585, 587, 588, 589, 590, 591, 592, 594, 595, 596, 598, 600, 601, 607, 608, 610, 611, 612, 613, 618, 622, 623, 626, 628, 630, 632, 633, 635, 638, 640, 641, 643, 647, 648, 650, 652, 653, 655, 656, 657, 660, 661, 663, 666, 667, 669, 671, 672, 673, 677, 678, 682, 684, 685, 690, 692, 693, 696, 697, 698, 699, 700, 701, 702, 703, 706, 707, 710, 717, 718, 719, 720, 723, 726, 727, 731, 732, 735, 736, 744, 746, 747, 749, 753, 756, 757, 758, 765, 769, 771, 772, 775, 776, 777, 778, 779, 780, 783, 784, 787, 788, 789, 790, 792, 800, 803, 804, 806, 807, 808, 811, 812, 813, 815, 816, 825, 826, 827, 828, 830, 831, 833, 835, 839, 841, 843, 844, 845, 846, 847, 848, 850, 851, 853, 854, 855, 856, 857, 861, 863, 864, 867, 869, 870, 874, 875, 876, 877, 881, 882, 883, 885, 887, 888, 891, 893, 895, 899, 904, 906, 908, 909, 910, 913, 914, 916, 917, 919, 921, 922, 924, 926, 928, 929, 931, 934, 937, 941, 942, 943, 944, 947, 950, 956, 957, 958, 961, 964, 966, 967, 968, 971, 972, 974, 976, 977, 979, 981, 986, 988, 989, 990, 991, 996, 998, 999, 1001, 1002, 1003, 1004, 1005, 1006, 1007, 1009, 1011, 1012, 1013, 1015, 1016, 1018, 1022, 1023]\n",
            "[0, 4, 7, 11, 12, 14, 16, 20, 23, 25, 26, 27, 34, 36, 39, 41, 42, 43, 44, 46, 48, 50, 58, 61, 62, 63, 64, 67, 70, 71, 73, 75, 82, 84, 85, 86, 88, 89, 94, 96, 97, 98, 99, 101, 103, 108, 112, 113, 116, 119, 121, 123, 124, 129, 131, 133, 135, 136, 141, 145, 147, 150, 151, 152, 154, 155, 157, 163, 166, 168, 169, 170, 171, 181, 182, 184, 187, 188, 189, 194, 197, 198, 199, 200, 201, 202, 203, 204, 205, 206, 208, 209, 210, 212, 213, 214, 215, 216, 217, 218, 220, 221, 223, 226, 227, 229, 230, 231, 233, 235, 239, 240, 241, 243, 244, 245, 246, 247, 248, 250, 251, 252, 255, 256, 257, 258, 259, 260, 263, 264, 268, 269, 270, 273, 274, 276, 277, 278, 280, 281, 285, 287, 289, 292, 295, 296, 297, 298, 299, 302, 304, 308, 311, 315, 317, 320, 321, 323, 328, 330, 332, 335, 338, 340, 341, 343, 346, 349, 350, 352, 353, 355, 356, 357, 358, 360, 361, 363, 365, 366, 368, 370, 371, 373, 375, 376, 377, 379, 381, 382, 383, 385, 387, 390, 391, 392, 394, 395, 403, 406, 408, 409, 412, 415, 416, 417, 419, 420, 422, 423, 426, 430, 432, 435, 437, 439, 445, 446, 447, 451, 453, 454, 455, 457, 459, 460, 462, 463, 466, 469, 470, 472, 473, 474, 478, 479, 481, 483, 489, 493, 495, 497, 498, 500, 501, 502, 517, 518, 520, 521, 524, 531, 532, 533, 534, 535, 536, 537, 538, 539, 540, 541, 544, 547, 549, 551, 552, 553, 554, 556, 561, 562, 565, 566, 570, 571, 572, 573, 574, 577, 579, 580, 581, 582, 583, 584, 586, 590, 592, 593, 594, 595, 598, 600, 601, 602, 603, 606, 608, 611, 616, 618, 620, 621, 624, 625, 627, 633, 634, 636, 637, 638, 639, 641, 642, 643, 644, 645, 646, 647, 649, 650, 651, 652, 654, 655, 656, 658, 659, 660, 662, 665, 667, 673, 675, 676, 678, 680, 681, 682, 683, 684, 688, 690, 691, 692, 695, 697, 699, 701, 702, 704, 706, 707, 710, 712, 713, 714, 717, 718, 725, 726, 728, 729, 732, 733, 734, 735, 736, 737, 738, 739, 740, 741, 745, 747, 748, 750, 751, 753, 756, 759, 763, 765, 767, 768, 770, 772, 775, 776, 777, 780, 781, 782, 784, 785, 787, 789, 791, 792, 793, 794, 795, 796, 797, 798, 799, 802, 805, 806, 807, 810, 814, 815, 818, 824, 828, 829, 830, 834, 836, 839, 840, 842, 845, 846, 847, 849, 852, 858, 859, 860, 862, 863, 866, 868, 870, 871, 875, 876, 877, 883, 884, 885, 886, 889, 891, 895, 898, 901, 902, 903, 904, 906, 909, 911, 912, 913, 914, 915, 917, 918, 920, 921, 922, 923, 925, 927, 933, 936, 938, 939, 941, 944, 945, 946, 947, 949, 952, 953, 954, 956, 957, 959, 960, 962, 963, 964, 968, 969, 977, 978, 980, 981, 982, 985, 988, 989, 990, 993, 994, 996, 998, 1001, 1005, 1006, 1010, 1013, 1014, 1017, 1022, 1023]\n",
            "[0, 2, 4, 8, 9, 11, 13, 14, 15, 16, 21, 22, 23, 28, 29, 30, 35, 36, 39, 42, 47, 48, 49, 52, 53, 54, 55, 56, 58, 59, 60, 62, 63, 64, 65, 67, 68, 70, 72, 73, 74, 78, 79, 81, 82, 83, 84, 86, 87, 89, 92, 94, 96, 99, 101, 102, 103, 105, 108, 111, 112, 113, 117, 118, 119, 123, 127, 128, 131, 132, 135, 138, 139, 143, 144, 145, 147, 151, 152, 153, 155, 162, 163, 164, 167, 168, 169, 170, 171, 172, 173, 174, 178, 182, 183, 185, 188, 191, 193, 199, 200, 202, 204, 207, 208, 209, 210, 212, 213, 214, 216, 217, 218, 220, 221, 229, 230, 231, 232, 233, 237, 238, 240, 243, 245, 249, 252, 253, 254, 256, 260, 261, 262, 263, 265, 268, 270, 271, 272, 274, 275, 276, 277, 279, 281, 282, 284, 286, 287, 290, 292, 294, 297, 300, 302, 306, 310, 311, 314, 315, 319, 320, 322, 324, 331, 333, 334, 335, 338, 340, 341, 342, 346, 347, 348, 349, 350, 351, 352, 353, 355, 357, 358, 361, 367, 368, 372, 378, 380, 381, 383, 384, 385, 386, 387, 390, 394, 395, 396, 399, 402, 405, 406, 409, 410, 411, 413, 414, 415, 420, 421, 424, 425, 427, 429, 433, 434, 435, 438, 439, 444, 447, 448, 449, 450, 453, 454, 457, 458, 459, 461, 463, 465, 469, 470, 471, 473, 477, 478, 480, 481, 482, 484, 485, 486, 487, 488, 489, 490, 492, 497, 498, 500, 503, 504, 505, 507, 508, 510, 517, 519, 520, 521, 523, 524, 526, 528, 530, 531, 534, 535, 539, 541, 543, 544, 547, 549, 550, 553, 554, 556, 559, 560, 563, 564, 565, 571, 572, 573, 575, 576, 577, 579, 580, 581, 582, 583, 584, 586, 592, 599, 600, 603, 604, 609, 611, 612, 620, 621, 623, 624, 627, 628, 637, 638, 640, 641, 645, 646, 648, 653, 655, 657, 660, 661, 664, 665, 667, 668, 672, 673, 674, 676, 678, 681, 682, 683, 684, 685, 689, 690, 694, 701, 702, 704, 705, 707, 708, 709, 713, 714, 715, 721, 722, 725, 727, 728, 730, 731, 732, 733, 737, 738, 739, 740, 741, 742, 746, 748, 749, 751, 753, 755, 756, 757, 758, 759, 761, 763, 770, 771, 774, 775, 776, 779, 780, 781, 782, 784, 786, 791, 792, 793, 794, 797, 799, 800, 802, 804, 807, 808, 809, 810, 811, 812, 814, 820, 823, 825, 826, 827, 831, 833, 837, 838, 839, 841, 843, 847, 848, 850, 851, 852, 853, 854, 855, 857, 859, 861, 862, 867, 872, 873, 874, 875, 877, 878, 881, 883, 885, 886, 888, 889, 890, 891, 893, 895, 897, 898, 901, 903, 905, 912, 915, 919, 922, 926, 928, 930, 932, 933, 934, 937, 939, 941, 942, 944, 946, 947, 948, 949, 950, 952, 953, 954, 955, 957, 958, 961, 962, 964, 965, 967, 970, 971, 974, 975, 977, 979, 983, 985, 988, 989, 990, 992, 994, 995, 996, 998, 999, 1006, 1007, 1008, 1009, 1010, 1012, 1014, 1016, 1018, 1019, 1021, 1023]\n",
            "[1, 3, 4, 5, 7, 8, 10, 11, 14, 16, 20, 21, 24, 27, 30, 31, 32, 34, 35, 36, 41, 43, 49, 53, 54, 55, 58, 59, 60, 61, 62, 64, 66, 67, 68, 73, 74, 75, 76, 77, 80, 83, 84, 85, 86, 87, 89, 93, 95, 97, 99, 100, 103, 105, 106, 108, 109, 110, 111, 113, 114, 115, 116, 117, 119, 128, 129, 130, 133, 134, 137, 138, 142, 145, 146, 147, 149, 150, 154, 155, 159, 160, 162, 164, 165, 167, 168, 169, 170, 172, 173, 174, 176, 177, 184, 189, 190, 191, 192, 196, 198, 199, 200, 201, 202, 205, 207, 211, 212, 213, 215, 216, 217, 218, 220, 222, 233, 241, 242, 243, 244, 247, 251, 252, 253, 257, 259, 262, 263, 267, 268, 269, 270, 271, 273, 274, 275, 277, 278, 280, 282, 287, 288, 289, 291, 292, 294, 297, 298, 299, 301, 303, 304, 305, 308, 315, 316, 317, 321, 323, 325, 326, 327, 328, 333, 335, 336, 338, 341, 342, 343, 344, 349, 350, 351, 352, 353, 354, 355, 356, 357, 360, 362, 364, 366, 367, 368, 371, 373, 374, 377, 379, 380, 381, 382, 383, 384, 386, 389, 390, 391, 392, 394, 399, 402, 403, 404, 406, 407, 415, 417, 418, 420, 422, 423, 424, 427, 429, 432, 434, 435, 438, 440, 442, 445, 446, 449, 451, 456, 457, 458, 461, 463, 464, 465, 468, 470, 473, 474, 476, 479, 481, 482, 483, 485, 487, 488, 489, 490, 491, 494, 496, 498, 501, 502, 505, 506, 507, 508, 509, 514, 515, 516, 518, 519, 520, 522, 523, 524, 527, 530, 532, 535, 536, 540, 541, 543, 544, 545, 546, 547, 550, 554, 555, 557, 558, 559, 560, 563, 565, 568, 571, 572, 574, 576, 578, 579, 581, 585, 587, 589, 590, 591, 592, 603, 606, 607, 608, 610, 617, 618, 625, 627, 629, 630, 631, 632, 633, 634, 637, 638, 639, 640, 641, 642, 645, 647, 650, 652, 653, 654, 655, 658, 661, 662, 666, 668, 669, 674, 676, 677, 680, 681, 686, 687, 688, 689, 690, 695, 697, 699, 700, 701, 702, 707, 709, 713, 714, 718, 722, 723, 724, 726, 727, 731, 732, 733, 734, 738, 739, 740, 742, 745, 751, 754, 756, 759, 760, 766, 770, 772, 773, 774, 775, 778, 779, 783, 788, 790, 791, 792, 793, 797, 798, 800, 803, 806, 811, 812, 817, 819, 821, 823, 824, 825, 826, 827, 828, 830, 833, 835, 836, 839, 840, 842, 843, 845, 846, 848, 849, 851, 856, 857, 859, 860, 862, 866, 867, 869, 870, 871, 872, 875, 876, 879, 880, 881, 885, 887, 890, 892, 893, 894, 897, 898, 899, 900, 904, 906, 908, 909, 910, 913, 914, 918, 920, 922, 923, 924, 925, 926, 927, 928, 929, 930, 936, 938, 939, 943, 944, 945, 946, 949, 950, 951, 952, 953, 955, 957, 958, 960, 961, 962, 964, 965, 966, 968, 970, 971, 975, 976, 977, 979, 981, 985, 987, 989, 990, 991, 992, 993, 994, 997, 998, 1003, 1006, 1008, 1012, 1014, 1019, 1020, 1022]\n",
            "Evaluate the pruned model 0\n"
          ]
        },
        {
          "data": {
            "application/vnd.jupyter.widget-view+json": {
              "model_id": "8ac470ef9de04740b8157e3f42f8a9f0",
              "version_major": 2,
              "version_minor": 0
            },
            "text/plain": [
              "Evaluating the model:   0%|          | 0/1875 [00:00<?, ?it/s]"
            ]
          },
          "metadata": {},
          "output_type": "display_data"
        },
        {
          "name": "stdout",
          "output_type": "stream",
          "text": [
            "Loss: 1.3300\n",
            "Precision: 0.6319, Recall: 0.5879, F1-Score: 0.5921\n",
            "              precision    recall  f1-score   support\n",
            "\n",
            "           0     0.4183    0.5849    0.4877      2992\n",
            "           1     0.6675    0.4609    0.5453      2992\n",
            "           2     0.6015    0.6308    0.6158      3012\n",
            "           3     0.3468    0.6004    0.4396      2998\n",
            "           4     0.7768    0.6660    0.7171      2973\n",
            "           5     0.7932    0.7649    0.7788      3054\n",
            "           6     0.7569    0.3287    0.4583      3003\n",
            "           7     0.5551    0.6594    0.6027      3012\n",
            "           8     0.6974    0.4940    0.5783      2982\n",
            "           9     0.7060    0.6895    0.6977      2982\n",
            "\n",
            "    accuracy                         0.5882     30000\n",
            "   macro avg     0.6319    0.5879    0.5921     30000\n",
            "weighted avg     0.6320    0.5882    0.5924     30000\n",
            "\n"
          ]
        }
      ],
      "source": [
        "result_list = []\n",
        "\n",
        "for concern in range(config.num_labels):\n",
        "    config.init_seed()\n",
        "    positive_samples = SamplingDataset(\n",
        "        generated_dataloder,\n",
        "        config,\n",
        "        concern,\n",
        "        num_samples,\n",
        "        True,\n",
        "        4,\n",
        "        resample=False,\n",
        "    )\n",
        "    negative_samples = SamplingDataset(\n",
        "        generated_dataloder,\n",
        "        config,\n",
        "        concern,\n",
        "        num_samples,\n",
        "        False,\n",
        "        4,\n",
        "        resample=False,\n",
        "    )\n",
        "    all_samples = SamplingDataset(\n",
        "        generated_dataloder,\n",
        "        config,\n",
        "        200,\n",
        "        num_samples,\n",
        "        False,\n",
        "        4,\n",
        "        resample=False,\n",
        "    )\n",
        "\n",
        "    module = copy.deepcopy(model)\n",
        "    head_importance_prunning(module, config, all_samples, 0.5)\n",
        "    module = module.to(\"cpu\")\n",
        "    prune_concern_identification(\n",
        "        module,\n",
        "        config,\n",
        "        positive_samples,\n",
        "        negative_samples,\n",
        "        include_layers=[\"intermediate\", \"output\"],\n",
        "        exclude_layers=[\"attention\"],\n",
        "        sparsity_ratio=0.5,\n",
        "        keep_dim=True,\n",
        "        method=\"structed\",\n",
        "    )\n",
        "\n",
        "    print(f\"Evaluate the pruned model {concern}\")\n",
        "    result = evaluate_model(module, config, test_dataloader, verbose=True)\n",
        "    result_list.append(result)\n",
        "    break"
      ]
    },
    {
      "cell_type": "code",
      "execution_count": 112,
      "metadata": {},
      "outputs": [
        {
          "data": {
            "text/html": [
              "<div>\n",
              "<style scoped>\n",
              "    .dataframe tbody tr th:only-of-type {\n",
              "        vertical-align: middle;\n",
              "    }\n",
              "\n",
              "    .dataframe tbody tr th {\n",
              "        vertical-align: top;\n",
              "    }\n",
              "\n",
              "    .dataframe thead th {\n",
              "        text-align: right;\n",
              "    }\n",
              "</style>\n",
              "<table border=\"1\" class=\"dataframe\">\n",
              "  <thead>\n",
              "    <tr style=\"text-align: right;\">\n",
              "      <th></th>\n",
              "      <th>class</th>\n",
              "      <th>precision</th>\n",
              "      <th>recall</th>\n",
              "      <th>f1-score</th>\n",
              "      <th>support</th>\n",
              "    </tr>\n",
              "  </thead>\n",
              "  <tbody>\n",
              "    <tr>\n",
              "      <th>0</th>\n",
              "      <td>0</td>\n",
              "      <td>0.4183</td>\n",
              "      <td>0.5849</td>\n",
              "      <td>0.4877</td>\n",
              "      <td>2992</td>\n",
              "    </tr>\n",
              "  </tbody>\n",
              "</table>\n",
              "</div>"
            ],
            "text/plain": [
              "  class  precision  recall  f1-score  support\n",
              "0     0     0.4183  0.5849    0.4877     2992"
            ]
          },
          "execution_count": 112,
          "metadata": {},
          "output_type": "execute_result"
        }
      ],
      "source": [
        "from src.utils.helper import report_to_df, append_nth_row\n",
        "\n",
        "df_list = [report_to_df(df) for df in result_list]\n",
        "new_df = append_nth_row(df_list)\n",
        "new_df"
      ]
    },
    {
      "cell_type": "code",
      "execution_count": null,
      "metadata": {},
      "outputs": [],
      "source": []
    }
  ],
  "metadata": {
    "kernelspec": {
      "display_name": "decomposetransformer-UESb9BbT-py3.12",
      "language": "python",
      "name": "python3"
    },
    "language_info": {
      "codemirror_mode": {
        "name": "ipython",
        "version": 3
      },
      "file_extension": ".py",
      "mimetype": "text/x-python",
      "name": "python",
      "nbconvert_exporter": "python",
      "pygments_lexer": "ipython3",
      "version": "3.12.4"
    }
  },
  "nbformat": 4,
  "nbformat_minor": 2
}