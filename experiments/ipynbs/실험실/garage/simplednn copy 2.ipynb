{
  "cells": [
    {
      "cell_type": "code",
      "execution_count": 1,
      "metadata": {},
      "outputs": [],
      "source": [
        "import os\n",
        "import sys\n",
        "\n",
        "sys.path.append(\"../../../\")\n",
        "os.environ[\"TOKENIZERS_PARALLELISM\"] = \"false\""
      ]
    },
    {
      "cell_type": "code",
      "execution_count": 2,
      "metadata": {},
      "outputs": [],
      "source": [
        "import torch\n",
        "import torch.nn as nn\n",
        "import torch.optim as optim\n",
        "import torchvision\n",
        "import torchvision.transforms as transforms"
      ]
    },
    {
      "cell_type": "code",
      "execution_count": 3,
      "metadata": {},
      "outputs": [],
      "source": [
        "import copy\n",
        "import torch\n",
        "from datetime import datetime\n",
        "from src.utils.helper import Config, color_print\n",
        "from src.utils.load import save_checkpoint\n",
        "from src.utils.load import load_model, load_data, save_checkpoint\n",
        "from src.models.evaluate import evaluate_model, get_sparsity, get_similarity\n",
        "from src.utils.sampling import SamplingDataset\n",
        "from src.pruning.prune_head import head_importance_prunning\n",
        "from src.pruning.prune import *"
      ]
    },
    {
      "cell_type": "code",
      "execution_count": 4,
      "metadata": {},
      "outputs": [],
      "source": [
        "input_size = 28 * 28\n",
        "num_classes = 10\n",
        "num_epochs = 5\n",
        "batch_size = 100\n",
        "learning_rate = 0.001"
      ]
    },
    {
      "cell_type": "code",
      "execution_count": 5,
      "metadata": {},
      "outputs": [],
      "source": [
        "transform = transforms.Compose(\n",
        "    [transforms.ToTensor(), transforms.Normalize((0.5,), (0.5,))]\n",
        ")"
      ]
    },
    {
      "cell_type": "code",
      "execution_count": 6,
      "metadata": {},
      "outputs": [],
      "source": [
        "name = \"MNIST\"\n",
        "device = torch.device(\"cuda:0\")\n",
        "checkpoint = None\n",
        "batch_size = 16\n",
        "num_workers = 4\n",
        "num_samples = 128\n",
        "ci_ratio = 0.3\n",
        "seed = 44"
      ]
    },
    {
      "cell_type": "code",
      "execution_count": 7,
      "metadata": {},
      "outputs": [],
      "source": [
        "class SimpleDNN(nn.Module):\n",
        "    def __init__(self):\n",
        "        super(SimpleDNN, self).__init__()\n",
        "        self.fc1 = nn.Linear(784, 512)\n",
        "        self.fc2 = nn.Linear(512, 256)\n",
        "        self.fc3 = nn.Linear(256, 128)\n",
        "        self.fc4 = nn.Linear(128, 64)\n",
        "        self.fc5 = nn.Linear(64, 32)\n",
        "        self.fc6 = nn.Linear(32, 10)\n",
        "\n",
        "        self.relu = nn.ReLU()\n",
        "        self.dropout = nn.Dropout(0.5)\n",
        "\n",
        "        self.bn1 = nn.BatchNorm1d(512)\n",
        "        self.bn2 = nn.BatchNorm1d(256)\n",
        "        self.bn3 = nn.BatchNorm1d(128)\n",
        "        self.bn4 = nn.BatchNorm1d(64)\n",
        "        self.bn5 = nn.BatchNorm1d(32)\n",
        "\n",
        "    def forward(self, x, output_hidden_states=False):\n",
        "        hidden_states = []\n",
        "        x = x.view(x.size(0), -1)\n",
        "\n",
        "        x = self.bn1(self.fc1(x))\n",
        "        if output_hidden_states:\n",
        "            hidden_states.append(x)\n",
        "        x = self.relu(x)\n",
        "        x = self.dropout(x)\n",
        "\n",
        "        x = self.bn2(self.fc2(x))\n",
        "        if output_hidden_states:\n",
        "            hidden_states.append(x)\n",
        "        x = self.relu(x)\n",
        "        x = self.dropout(x)\n",
        "\n",
        "        x = self.bn3(self.fc3(x))\n",
        "        if output_hidden_states:\n",
        "            hidden_states.append(x)\n",
        "        x = self.relu(x)\n",
        "        x = self.dropout(x)\n",
        "\n",
        "        x = self.bn4(self.fc4(x))\n",
        "        if output_hidden_states:\n",
        "            hidden_states.append(x)\n",
        "        x = self.relu(x)\n",
        "        x = self.dropout(x)\n",
        "\n",
        "        x = self.bn5(self.fc5(x))\n",
        "        if output_hidden_states:\n",
        "            hidden_states.append(x)\n",
        "        x = self.relu(x)\n",
        "        x = self.dropout(x)\n",
        "\n",
        "        x = self.fc6(x)\n",
        "        if output_hidden_states:\n",
        "            hidden_states.append(x)\n",
        "\n",
        "        if output_hidden_states:\n",
        "            return {\"logits\": x, \"hidden_states\": hidden_states}\n",
        "        else:\n",
        "            return {\"logits\": x}"
      ]
    },
    {
      "cell_type": "code",
      "execution_count": 8,
      "metadata": {},
      "outputs": [],
      "source": [
        "model = SimpleDNN()"
      ]
    },
    {
      "cell_type": "code",
      "execution_count": 9,
      "metadata": {},
      "outputs": [
        {
          "data": {
            "text/plain": [
              "SimpleDNN(\n",
              "  (fc1): Linear(in_features=784, out_features=512, bias=True)\n",
              "  (fc2): Linear(in_features=512, out_features=256, bias=True)\n",
              "  (fc3): Linear(in_features=256, out_features=128, bias=True)\n",
              "  (fc4): Linear(in_features=128, out_features=64, bias=True)\n",
              "  (fc5): Linear(in_features=64, out_features=32, bias=True)\n",
              "  (fc6): Linear(in_features=32, out_features=10, bias=True)\n",
              "  (relu): ReLU()\n",
              "  (dropout): Dropout(p=0.5, inplace=False)\n",
              "  (bn1): BatchNorm1d(512, eps=1e-05, momentum=0.1, affine=True, track_running_stats=True)\n",
              "  (bn2): BatchNorm1d(256, eps=1e-05, momentum=0.1, affine=True, track_running_stats=True)\n",
              "  (bn3): BatchNorm1d(128, eps=1e-05, momentum=0.1, affine=True, track_running_stats=True)\n",
              "  (bn4): BatchNorm1d(64, eps=1e-05, momentum=0.1, affine=True, track_running_stats=True)\n",
              "  (bn5): BatchNorm1d(32, eps=1e-05, momentum=0.1, affine=True, track_running_stats=True)\n",
              ")"
            ]
          },
          "execution_count": 9,
          "metadata": {},
          "output_type": "execute_result"
        }
      ],
      "source": [
        "model"
      ]
    },
    {
      "cell_type": "code",
      "execution_count": 10,
      "metadata": {},
      "outputs": [],
      "source": [
        "criterion = nn.CrossEntropyLoss()\n",
        "optimizer = optim.Adam(model.parameters(), lr=learning_rate)\n",
        "config = Config(name, device)"
      ]
    },
    {
      "cell_type": "code",
      "execution_count": 11,
      "metadata": {},
      "outputs": [
        {
          "name": "stdout",
          "output_type": "stream",
          "text": [
            "Loading cached dataset MNIST.\n",
            "train.pkl is loaded from cache.\n",
            "valid.pkl is loaded from cache.\n",
            "test.pkl is loaded from cache.\n",
            "The dataset MNIST is loaded\n",
            "{'dataset_name': 'MNIST', 'path': 'ylecun/mnist', 'config_name': 'mnist', 'features': {'first_column': 'image', 'second_column': 'label'}, 'cache_dir': 'Datasets/MNIST', 'task_type': 'image_classification'}\n"
          ]
        }
      ],
      "source": [
        "train_dataloader, valid_dataloader, test_dataloader = load_data(\n",
        "    config,\n",
        "    batch_size=batch_size,\n",
        "    num_workers=num_workers,\n",
        "    do_cache=True,\n",
        ")"
      ]
    },
    {
      "cell_type": "code",
      "execution_count": 12,
      "metadata": {},
      "outputs": [],
      "source": [
        "# for epoch in range(num_epochs):\n",
        "#     for i, batch in enumerate(train_dataloader):\n",
        "#         images = batch[\"image\"].float()\n",
        "#         labels = batch[\"labels\"]\n",
        "#         # Forward pass\n",
        "#         outputs = model(images)\n",
        "#         logits = outputs[\"logits\"]\n",
        "#         loss = criterion(logits, labels)\n",
        "\n",
        "#         # Backward and optimize\n",
        "#         optimizer.zero_grad()\n",
        "#         loss.backward()\n",
        "#         optimizer.step()\n",
        "\n",
        "#         if (i + 1) % 100 == 0:\n",
        "#             print(\n",
        "#                 f\"Epoch [{epoch+1}/{num_epochs}], Step [{i+1}/{len(train_dataloader)}], Loss: {loss.item():.4f}\"\n",
        "#             )"
      ]
    },
    {
      "cell_type": "code",
      "execution_count": 13,
      "metadata": {},
      "outputs": [],
      "source": [
        "# torch.save(model.state_dict(), \"Models/MNIST/model.pt\")"
      ]
    },
    {
      "cell_type": "code",
      "execution_count": 14,
      "metadata": {},
      "outputs": [],
      "source": [
        "model = SimpleDNN()"
      ]
    },
    {
      "cell_type": "code",
      "execution_count": 15,
      "metadata": {},
      "outputs": [
        {
          "data": {
            "text/plain": [
              "<All keys matched successfully>"
            ]
          },
          "execution_count": 15,
          "metadata": {},
          "output_type": "execute_result"
        }
      ],
      "source": [
        "model.load_state_dict(torch.load(\"Models/MNIST/model.pt\"))"
      ]
    },
    {
      "cell_type": "code",
      "execution_count": 16,
      "metadata": {},
      "outputs": [
        {
          "data": {
            "application/vnd.jupyter.widget-view+json": {
              "model_id": "e2d7a451fc194bb483f4cca55d42ddd7",
              "version_major": 2,
              "version_minor": 0
            },
            "text/plain": [
              "\n"
            ]
          },
          "metadata": {},
          "output_type": "display_data"
        },
        {
          "name": "stdout",
          "output_type": "stream",
          "text": [
            "Loss: 0.1288\n",
            "Precision: 0.9671, Recall: 0.9669, F1-Score: 0.9669\n",
            "              precision    recall  f1-score   support\n",
            "           0       0.98      0.99      0.98       980\n",
            "           1       0.98      0.99      0.98      1135\n",
            "           2       0.97      0.97      0.97      1032\n",
            "           3       0.95      0.98      0.96      1010\n",
            "           4       0.97      0.96      0.96       982\n",
            "           5       0.96      0.96      0.96       892\n",
            "           6       0.97      0.97      0.97       958\n",
            "           7       0.97      0.96      0.96      1028\n",
            "           8       0.97      0.96      0.96       974\n",
            "           9       0.95      0.94      0.95      1009\n",
            "    accuracy                           0.97     10000\n",
            "   macro avg       0.97      0.97      0.97     10000\n",
            "weighted avg       0.97      0.97      0.97     10000\n",
            "\n"
          ]
        }
      ],
      "source": [
        "result = evaluate_model(model, config, test_dataloader)"
      ]
    },
    {
      "cell_type": "code",
      "execution_count": 17,
      "metadata": {},
      "outputs": [
        {
          "name": "stdout",
          "output_type": "stream",
          "text": [
            "Evaluate the pruned model 0\n"
          ]
        },
        {
          "data": {
            "application/vnd.jupyter.widget-view+json": {
              "model_id": "75fd00080f684e47ba44da77cd8b3354",
              "version_major": 2,
              "version_minor": 0
            },
            "text/plain": [
              "\n"
            ]
          },
          "metadata": {},
          "output_type": "display_data"
        },
        {
          "name": "stdout",
          "output_type": "stream",
          "text": [
            "Loss: 0.2942\n",
            "Precision: 0.9611, Recall: 0.9614, F1-Score: 0.9610\n",
            "              precision    recall  f1-score   support\n",
            "           0       0.93      0.99      0.96       980\n",
            "           1       0.98      0.98      0.98      1135\n",
            "           2       0.97      0.95      0.96      1032\n",
            "           3       0.97      0.96      0.96      1010\n",
            "           4       0.95      0.97      0.96       982\n",
            "           5       0.93      0.97      0.95       892\n",
            "           6       0.97      0.97      0.97       958\n",
            "           7       0.97      0.95      0.96      1028\n",
            "           8       0.97      0.95      0.96       974\n",
            "           9       0.96      0.92      0.94      1009\n",
            "    accuracy                           0.96     10000\n",
            "   macro avg       0.96      0.96      0.96     10000\n",
            "weighted avg       0.96      0.96      0.96     10000\n",
            "adding eps to diagonal and taking inverse\n",
            "taking square root\n",
            "dot products...\n",
            "trying to take final svd\n",
            "computed everything!\n",
            "adding eps to diagonal and taking inverse\n",
            "taking square root\n",
            "dot products...\n",
            "trying to take final svd\n",
            "computed everything!\n",
            "CCA coefficients mean concern: (np.float64(0.9436736843781885), np.float64(0.9436736843781885))\n",
            "CCA coefficients mean non-concern: (np.float64(0.9163547483961333), np.float64(0.9163547483961333))\n",
            "Linear CKA concern: 0.999984854137976\n",
            "Linear CKA non-concern: 0.942507013694389\n",
            "Kernel CKA concern: 0.9996092310067914\n",
            "Kernel CKA non-concern: 0.9538140476725956\n",
            "Evaluate the pruned model 1\n"
          ]
        },
        {
          "data": {
            "application/vnd.jupyter.widget-view+json": {
              "model_id": "aea87dff333d46a5a3ef34a61a4f6573",
              "version_major": 2,
              "version_minor": 0
            },
            "text/plain": [
              "\n"
            ]
          },
          "metadata": {},
          "output_type": "display_data"
        },
        {
          "name": "stdout",
          "output_type": "stream",
          "text": [
            "Loss: 0.3881\n",
            "Precision: 0.9497, Recall: 0.9479, F1-Score: 0.9484\n",
            "              precision    recall  f1-score   support\n",
            "           0       0.98      0.97      0.98       980\n",
            "           1       0.93      0.99      0.96      1135\n",
            "           2       0.98      0.93      0.95      1032\n",
            "           3       0.93      0.95      0.94      1010\n",
            "           4       0.96      0.95      0.95       982\n",
            "           5       0.94      0.92      0.93       892\n",
            "           6       0.98      0.95      0.96       958\n",
            "           7       0.97      0.91      0.94      1028\n",
            "           8       0.92      0.97      0.94       974\n",
            "           9       0.91      0.93      0.92      1009\n",
            "    accuracy                           0.95     10000\n",
            "   macro avg       0.95      0.95      0.95     10000\n",
            "weighted avg       0.95      0.95      0.95     10000\n",
            "adding eps to diagonal and taking inverse\n",
            "taking square root\n",
            "dot products...\n",
            "trying to take final svd\n",
            "computed everything!\n",
            "adding eps to diagonal and taking inverse\n",
            "taking square root\n",
            "dot products...\n",
            "trying to take final svd\n",
            "computed everything!\n",
            "CCA coefficients mean concern: (np.float64(0.872465975747808), np.float64(0.872465975747808))\n",
            "CCA coefficients mean non-concern: (np.float64(0.9208653554596704), np.float64(0.9208653554596704))\n",
            "Linear CKA concern: 0.9999961582966442\n",
            "Linear CKA non-concern: 0.9260842356067093\n",
            "Kernel CKA concern: 0.9999751083336104\n",
            "Kernel CKA non-concern: 0.938436210272666\n",
            "Evaluate the pruned model 2\n"
          ]
        },
        {
          "data": {
            "application/vnd.jupyter.widget-view+json": {
              "model_id": "8063b2538e784648b0272023b2c791b8",
              "version_major": 2,
              "version_minor": 0
            },
            "text/plain": [
              "\n"
            ]
          },
          "metadata": {},
          "output_type": "display_data"
        },
        {
          "name": "stdout",
          "output_type": "stream",
          "text": [
            "Loss: 0.3175\n",
            "Precision: 0.9600, Recall: 0.9589, F1-Score: 0.9590\n",
            "              precision    recall  f1-score   support\n",
            "           0       0.98      0.99      0.98       980\n",
            "           1       0.98      0.99      0.99      1135\n",
            "           2       0.90      0.98      0.94      1032\n",
            "           3       0.94      0.97      0.96      1010\n",
            "           4       0.96      0.96      0.96       982\n",
            "           5       0.98      0.94      0.96       892\n",
            "           6       0.97      0.97      0.97       958\n",
            "           7       0.98      0.90      0.94      1028\n",
            "           8       0.94      0.97      0.95       974\n",
            "           9       0.96      0.91      0.94      1009\n",
            "    accuracy                           0.96     10000\n",
            "   macro avg       0.96      0.96      0.96     10000\n",
            "weighted avg       0.96      0.96      0.96     10000\n",
            "adding eps to diagonal and taking inverse\n",
            "taking square root\n",
            "dot products...\n",
            "trying to take final svd\n",
            "computed everything!\n",
            "adding eps to diagonal and taking inverse\n",
            "taking square root\n",
            "dot products...\n",
            "trying to take final svd\n",
            "computed everything!\n",
            "CCA coefficients mean concern: (np.float64(0.9019296701838104), np.float64(0.9019296701838104))\n",
            "CCA coefficients mean non-concern: (np.float64(0.9656434205199445), np.float64(0.9656434205199445))\n",
            "Linear CKA concern: 0.9999891038195003\n",
            "Linear CKA non-concern: 0.9025428383089935\n",
            "Kernel CKA concern: 0.9999319586554124\n",
            "Kernel CKA non-concern: 0.9365093067178096\n",
            "Evaluate the pruned model 3\n"
          ]
        },
        {
          "data": {
            "application/vnd.jupyter.widget-view+json": {
              "model_id": "33e5ec94b6454fcb83f9a967683d5df1",
              "version_major": 2,
              "version_minor": 0
            },
            "text/plain": [
              "\n"
            ]
          },
          "metadata": {},
          "output_type": "display_data"
        },
        {
          "name": "stdout",
          "output_type": "stream",
          "text": [
            "Loss: 0.2991\n",
            "Precision: 0.9614, Recall: 0.9608, F1-Score: 0.9609\n",
            "              precision    recall  f1-score   support\n",
            "           0       0.98      0.99      0.98       980\n",
            "           1       0.98      0.99      0.99      1135\n",
            "           2       0.97      0.97      0.97      1032\n",
            "           3       0.91      0.98      0.94      1010\n",
            "           4       0.96      0.96      0.96       982\n",
            "           5       0.94      0.96      0.95       892\n",
            "           6       0.98      0.95      0.96       958\n",
            "           7       0.96      0.95      0.96      1028\n",
            "           8       0.97      0.95      0.96       974\n",
            "           9       0.96      0.92      0.94      1009\n",
            "    accuracy                           0.96     10000\n",
            "   macro avg       0.96      0.96      0.96     10000\n",
            "weighted avg       0.96      0.96      0.96     10000\n",
            "adding eps to diagonal and taking inverse\n",
            "taking square root\n",
            "dot products...\n",
            "trying to take final svd\n",
            "computed everything!\n",
            "adding eps to diagonal and taking inverse\n",
            "taking square root\n",
            "dot products...\n",
            "trying to take final svd\n",
            "computed everything!\n",
            "CCA coefficients mean concern: (np.float64(0.9404071279892351), np.float64(0.9404071279892351))\n",
            "CCA coefficients mean non-concern: (np.float64(0.919097748796515), np.float64(0.919097748796515))\n",
            "Linear CKA concern: 0.9999896927099804\n",
            "Linear CKA non-concern: 0.9195634382198689\n",
            "Kernel CKA concern: 0.9998928824496248\n",
            "Kernel CKA non-concern: 0.9455525315331582\n",
            "Evaluate the pruned model 4\n"
          ]
        },
        {
          "data": {
            "application/vnd.jupyter.widget-view+json": {
              "model_id": "237d77a77b294e379761194bfbbf9e07",
              "version_major": 2,
              "version_minor": 0
            },
            "text/plain": [
              "\n"
            ]
          },
          "metadata": {},
          "output_type": "display_data"
        },
        {
          "name": "stdout",
          "output_type": "stream",
          "text": [
            "Loss: 0.4052\n",
            "Precision: 0.9543, Recall: 0.9522, F1-Score: 0.9524\n",
            "              precision    recall  f1-score   support\n",
            "           0       0.99      0.98      0.98       980\n",
            "           1       0.98      0.99      0.98      1135\n",
            "           2       0.99      0.92      0.95      1032\n",
            "           3       0.96      0.97      0.96      1010\n",
            "           4       0.91      0.97      0.94       982\n",
            "           5       0.98      0.94      0.96       892\n",
            "           6       0.98      0.95      0.97       958\n",
            "           7       0.97      0.88      0.92      1028\n",
            "           8       0.92      0.97      0.94       974\n",
            "           9       0.87      0.96      0.91      1009\n",
            "    accuracy                           0.95     10000\n",
            "   macro avg       0.95      0.95      0.95     10000\n",
            "weighted avg       0.95      0.95      0.95     10000\n",
            "adding eps to diagonal and taking inverse\n",
            "taking square root\n",
            "dot products...\n",
            "trying to take final svd\n",
            "computed everything!\n",
            "adding eps to diagonal and taking inverse\n",
            "taking square root\n",
            "dot products...\n",
            "trying to take final svd\n",
            "computed everything!\n",
            "CCA coefficients mean concern: (np.float64(0.9631252030713581), np.float64(0.9631252030713581))\n",
            "CCA coefficients mean non-concern: (np.float64(0.919382195302871), np.float64(0.919382195302871))\n",
            "Linear CKA concern: 0.9999818974871459\n",
            "Linear CKA non-concern: 0.8746863825618366\n",
            "Kernel CKA concern: 0.9999231666613351\n",
            "Kernel CKA non-concern: 0.9197111207989738\n"
          ]
        }
      ],
      "source": [
        "for concern in range(5):\n",
        "    train = copy.deepcopy(train_dataloader)\n",
        "    valid = copy.deepcopy(valid_dataloader)\n",
        "    positive_samples = SamplingDataset(\n",
        "        train,\n",
        "        concern,\n",
        "        num_samples,\n",
        "        num_classes,\n",
        "        True,\n",
        "        4,\n",
        "        device=device,\n",
        "        resample=False,\n",
        "    )\n",
        "    negative_samples = SamplingDataset(\n",
        "        train,\n",
        "        concern,\n",
        "        num_samples,\n",
        "        num_classes,\n",
        "        False,\n",
        "        4,\n",
        "        device=device,\n",
        "        resample=False,\n",
        "    )\n",
        "    all_samples = SamplingDataset(\n",
        "        train,\n",
        "        200,\n",
        "        num_samples,\n",
        "        num_classes,\n",
        "        False,\n",
        "        4,\n",
        "        device=device,\n",
        "        resample=False,\n",
        "    )\n",
        "\n",
        "    module = copy.deepcopy(model)\n",
        "\n",
        "    prune_concern_identification(\n",
        "        module,\n",
        "        config,\n",
        "        positive_samples,\n",
        "        negative_samples,\n",
        "        include_layers=None,\n",
        "        exclude_layers=None,\n",
        "        sparsity_ratio=0.3,\n",
        "    )\n",
        "\n",
        "    print(f\"Evaluate the pruned model {concern}\")\n",
        "    result = evaluate_model(module, config, test_dataloader, verbose=True)\n",
        "    get_sparsity(module)\n",
        "\n",
        "    get_similarity(\n",
        "        model, module, valid, concern, num_samples, num_classes, config, seed=seed\n",
        "    )"
      ]
    },
    {
      "cell_type": "code",
      "execution_count": 18,
      "metadata": {},
      "outputs": [
        {
          "data": {
            "text/plain": [
              "(0.29879162982611257,\n",
              " {'fc1.weight': 0.2997448979591837,\n",
              "  'fc1.bias': 0.0,\n",
              "  'fc2.weight': 0.298828125,\n",
              "  'fc2.bias': 0.0,\n",
              "  'fc3.weight': 0.296875,\n",
              "  'fc3.bias': 0.0,\n",
              "  'fc4.weight': 0.296875,\n",
              "  'fc4.bias': 0.0,\n",
              "  'fc5.weight': 0.296875,\n",
              "  'fc5.bias': 0.0,\n",
              "  'fc6.weight': 0.28125,\n",
              "  'fc6.bias': 0.0})"
            ]
          },
          "execution_count": 18,
          "metadata": {},
          "output_type": "execute_result"
        }
      ],
      "source": [
        "get_sparsity(module)"
      ]
    }
  ],
  "metadata": {
    "kernelspec": {
      "display_name": "DecomposeTransformer",
      "language": "python",
      "name": "python3"
    },
    "language_info": {
      "codemirror_mode": {
        "name": "ipython",
        "version": 3
      },
      "file_extension": ".py",
      "mimetype": "text/x-python",
      "name": "python",
      "nbconvert_exporter": "python",
      "pygments_lexer": "ipython3",
      "version": "3.12.4"
    }
  },
  "nbformat": 4,
  "nbformat_minor": 2
}